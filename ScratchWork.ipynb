{
 "cells": [
  {
   "cell_type": "code",
   "execution_count": 2,
   "metadata": {},
   "outputs": [],
   "source": [
    "import pandas as pd\n",
    "import numpy as np\n",
    "import scipy as sp\n",
    "import matplotlib.pyplot as plt\n",
    "import scipy.stats as stats\n",
    "import datetime\n",
    "from sklearn.ensemble import RandomForestRegressor\n",
    "from sklearn.model_selection import train_test_split\n",
    "from sklearn import metrics\n",
    "from tqdm import tqdm\n",
    "from sklearn.preprocessing import StandardScaler\n",
    "from sklearn.decomposition import PCA\n",
    "from sklearn.metrics import ConfusionMatrixDisplay\n",
    "from sklearn.metrics import confusion_matrix\n",
    "from sklearn.tree import DecisionTreeClassifier\n",
    "from sklearn.ensemble import RandomForestClassifier\n",
    "from sklearn.linear_model import Ridge\n",
    "from sklearn.linear_model import Lasso"
   ]
  },
  {
   "cell_type": "code",
   "execution_count": 3,
   "metadata": {},
   "outputs": [],
   "source": [
    "def normalizeSpread(spread, ask): #making a function to convert spreads from price space to percentage space, and eliminating all negative spreads\n",
    "    if ask==0:\n",
    "        return np.nan\n",
    "    elif ask>0:\n",
    "        return float(spread/ask)\n",
    "    elif spread<0:\n",
    "        return 0."
   ]
  },
  {
   "cell_type": "code",
   "execution_count": 4,
   "metadata": {},
   "outputs": [],
   "source": [
    "def splitData(data, features, target, test_fraction, set_seed=False):\n",
    "    #splitting data into train and test\n",
    "    x=data[features]\n",
    "    y=data[target]\n",
    "    if set_seed==True:\n",
    "        x_train, x_test, y_train, y_test=train_test_split(x, y, test_size=test_fraction, shuffle=True, random_state='12262021')\n",
    "    else:\n",
    "        x_train, x_test, y_train, y_test=train_test_split(x, y, test_size=test_fraction, shuffle=True)\n",
    "    return (x_train, x_test, y_train, y_test)"
   ]
  },
  {
   "cell_type": "code",
   "execution_count": 5,
   "metadata": {},
   "outputs": [],
   "source": [
    "def randomForestFitter(DataSet, symbol, features, target, depth, set_seed=False):\n",
    "    #fit raw data to random forest\n",
    "    \n",
    "    #get data only for particular symbol\n",
    "    DataSet=DataSet[DataSet['symbol']==symbol]\n",
    "    \n",
    "    #split data\n",
    "    (x_train, x_test, y_train, y_test)=splitData(DataSet, staticFeatures, target, test_fraction=0.2)\n",
    "\n",
    "    #fit random forest\n",
    "    Predictor=RandomForestRegressor(max_depth=depth).fit(x_train, y_train)\n",
    "    y_train_pred=Predictor.predict(x_train)\n",
    "    y_test_pred=Predictor.predict(x_test)\n",
    "    \n",
    "    #evaluate error\n",
    "    training_error=np.sqrt(metrics.mean_squared_error(y_train_pred, y_train))/(DataSet[target].std())\n",
    "    test_error=np.sqrt(metrics.mean_squared_error(y_test_pred, y_test))/(DataSet[target].std())\n",
    "    \n",
    "    #return trained forest and errors\n",
    "    return (Predictor, training_error, test_error)"
   ]
  },
  {
   "cell_type": "code",
   "execution_count": 6,
   "metadata": {},
   "outputs": [],
   "source": [
    "def pcaRandomForestFitter(DataSet, symbol, features, target, depth, cutoff,set_seed=False):\n",
    "    #get only data for a particular symbol and split into train and test\n",
    "    DataSet=DataSet[DataSet['symbol']==symbol]\n",
    "    x_train, x_test, y_train, y_test=splitData(DataSet, staticFeatures, target, test_fraction=0.2) \n",
    "    \n",
    "    #rescale data and perform pca, attempting to explain the variance to some cutoff\n",
    "    scaler=StandardScaler()\n",
    "    scaler.fit(x_train)\n",
    "    x_train=scaler.transform(x_train)\n",
    "    x_test=scaler.transform(x_test)\n",
    "    \n",
    "    pca=PCA(cutoff)\n",
    "    pca.fit(x_train)\n",
    "    x_train=pca.transform(x_train)\n",
    "    x_test=pca.transform(x_test)\n",
    "    \n",
    "    Predictor=RandomForestRegressor(max_depth=depth).fit(x_train, y_train)\n",
    "    y_train_pred=Predictor.predict(x_train)\n",
    "    y_test_pred=Predictor.predict(x_test)\n",
    "    \n",
    "    #evaluate error\n",
    "    training_error=np.sqrt(metrics.mean_squared_error(y_train_pred, y_train))/(DataSet[DataSet['symbol']==symbol][target].std())\n",
    "    test_error=np.sqrt(metrics.mean_squared_error(y_test_pred, y_test))/(DataSet[DataSet['symbol']==symbol][target].std())\n",
    "    \n",
    "    #return trained forest and errors\n",
    "    return (Predictor, training_error, test_error)\n"
   ]
  },
  {
   "cell_type": "code",
   "execution_count": 7,
   "metadata": {},
   "outputs": [],
   "source": [
    "def LassoFitter(DataSet,symbol_type, features, target, testsize, alpha, set_seed=False):\n",
    "    DataSet=DataSet[DataSet['symbol_type']==symbol_type]\n",
    "    x_train, x_test, y_train, y_test=splitData(DataSet, features, target, testsize, set_seed)\n",
    "    \n",
    "    Lasso_fit=Lasso(alpha, normalize=True).fit(x_train, y_train)\n",
    "\n",
    "    return (Lasso_fit, x_train, x_test, y_train, y_test)"
   ]
  },
  {
   "cell_type": "code",
   "execution_count": 8,
   "metadata": {},
   "outputs": [],
   "source": [
    "def RidgeFitter(DataSet,symbol_type, features, target, testsize, alpha, set_seed=False):\n",
    "    DataSet=DataSet[DataSet['symbol_type']==symbol_type]\n",
    "    x_train, x_test, y_train, y_test=splitData(DataSet, features, target, testsize, set_seed)\n",
    "    \n",
    "    Ridge_fit=Ridge(alpha, normalize=True).fit(x_train, y_train)\n",
    "    \n",
    "    return (Ridge_fit, x_train, x_test, y_train, y_test)"
   ]
  },
  {
   "cell_type": "code",
   "execution_count": null,
   "metadata": {},
   "outputs": [],
   "source": [
    "from tqdm import tqdm"
   ]
  },
  {
   "cell_type": "code",
   "execution_count": 10,
   "metadata": {},
   "outputs": [
    {
     "name": "stderr",
     "output_type": "stream",
     "text": [
      "100it [1:08:04, 40.85s/it]\n"
     ]
    },
    {
     "data": {
      "text/plain": [
       "<matplotlib.legend.Legend at 0x7fb19ea908d0>"
      ]
     },
     "execution_count": 10,
     "metadata": {},
     "output_type": "execute_result"
    },
    {
     "data": {
      "image/png": "[encoded data removed]",
      "text/plain": [
       "<Figure size 432x288 with 1 Axes>"
      ]
     },
     "metadata": {
      "needs_background": "light"
     },
     "output_type": "display_data"
    }
   ],
   "source": [
    "rhos=np.linspace(-0.9,0.9,100)\n",
    "rsquared=np.zeros(100)\n",
    "pcarsquared=np.zeros(100)\n",
    "mean=[0,0]\n",
    "for index, rho in tqdm(enumerate(rhos)):\n",
    "    cov=[[1,rho],[rho,1]]\n",
    "    x=np.random.multivariate_normal(mean, cov, 10**5)\n",
    "    toydata=pd.DataFrame(x, columns=['x1','x2'])\n",
    "    toydata['y']=toydata.apply(lambda row: 5*row['x1']+5*row['x2']+np.random.normal(), axis=1)\n",
    "    \n",
    "    x_train, x_test, y_train, y_test=train_test_split(toydata[['x1','x2']], toydata['y'], test_size=0.3, shuffle=True)\n",
    "    Predictor=RandomForestRegressor().fit(x_train, y_train)\n",
    "    rsquared[index]=Predictor.score(x_test, y_test)\n",
    "    \n",
    "    scaler=StandardScaler()\n",
    "    scaler.fit(x_train)\n",
    "    pcax_train=scaler.transform(x_train)\n",
    "    pcax_test=scaler.transform(x_test)\n",
    "    \n",
    "    pca=PCA(0.9999)\n",
    "    pca.fit(pcax_train)\n",
    "    pcax_train=pca.transform(pcax_train)\n",
    "    pcax_test=pca.transform(pcax_test)\n",
    "\n",
    "    Predictor=RandomForestRegressor().fit(pcax_train, y_train)\n",
    "    pcarsquared[index]=Predictor.score(pcax_test, y_test)\n",
    "\n",
    "plt.plot(rhos, rsquared, 'x-', color='blue', label='Before PCA')\n",
    "plt.plot(rhos, pcarsquared, 'x-', color='red', label='After PCA')\n",
    "plt.legend()"
   ]
  },
  {
   "cell_type": "code",
   "execution_count": 11,
   "metadata": {},
   "outputs": [
    {
     "data": {
      "text/plain": [
       "[<matplotlib.lines.Line2D at 0x7fb19ed9b6d0>]"
      ]
     },
     "execution_count": 11,
     "metadata": {},
     "output_type": "execute_result"
    },
    {
     "data": {
      "image/png": "[encoded data removed]",
      "text/plain": [
       "<Figure size 432x288 with 1 Axes>"
      ]
     },
     "metadata": {
      "needs_background": "light"
     },
     "output_type": "display_data"
    }
   ],
   "source": [
    "plt.plot(rhos, pcarsquared-rsquared, 'x-', color='blue', label='Before PCA')"
   ]
  },
  {
   "cell_type": "code",
   "execution_count": 17,
   "metadata": {},
   "outputs": [
    {
     "name": "stderr",
     "output_type": "stream",
     "text": [
      "100it [29:42, 17.83s/it]\n"
     ]
    },
    {
     "data": {
      "text/plain": [
       "<matplotlib.legend.Legend at 0x7fb1a006d1d0>"
      ]
     },
     "execution_count": 17,
     "metadata": {},
     "output_type": "execute_result"
    },
    {
     "data": {
      "image/png": "[encoded data removed]",
      "text/plain": [
       "<Figure size 432x288 with 1 Axes>"
      ]
     },
     "metadata": {
      "needs_background": "light"
     },
     "output_type": "display_data"
    }
   ],
   "source": [
    "mags=np.linspace(-10,10,100)\n",
    "measured_corr=np.zeros(100)\n",
    "rsquared=np.zeros(100)\n",
    "pcarsquared=np.zeros(100)\n",
    "mean=[0,0]\n",
    "cov=[[1,0],[0,1]]\n",
    "x=np.random.multivariate_normal(mean, cov, 10**5)\n",
    "toydata=pd.DataFrame(x, columns=['x1','x2'])\n",
    "toydata['y']=toydata.apply(lambda row: 5*row['x1']+5*row['x2']+np.random.normal(), axis=1)\n",
    "\n",
    "\n",
    "for index, mag in tqdm(enumerate(mags)):\n",
    "    toydata['x3']=toydata.apply(lambda row: (row['x1']*row['x2'])+np.random.normal(scale=0.1), axis=1)\n",
    "    toydata['x4']=toydata.apply(lambda row: (row['x1']/row['x2'])+np.random.normal(scale=0.1)+mag*row['x3'], axis=1)\n",
    "    \n",
    "    x_train, x_test, y_train, y_test=train_test_split(toydata[toydata['y']>0][['x3','x4']], toydata[toydata['y']>0]['y'], test_size=0.3, shuffle=True)\n",
    "    Predictor=RandomForestRegressor().fit(x_train, y_train)\n",
    "    rsquared[index]=Predictor.score(x_test, y_test)\n",
    "    \n",
    "    scaler=StandardScaler()\n",
    "    scaler.fit(x_train)\n",
    "    pcax_train=scaler.transform(x_train)\n",
    "    pcax_test=scaler.transform(x_test)\n",
    "    \n",
    "    pca=PCA(0.9999)\n",
    "    pca.fit(pcax_train)\n",
    "    pcax_train=pca.transform(pcax_train)\n",
    "    pcax_test=pca.transform(pcax_test)\n",
    "\n",
    "    Predictor=RandomForestRegressor().fit(pcax_train, y_train)\n",
    "    pcarsquared[index]=Predictor.score(pcax_test, y_test)\n",
    "\n",
    "plt.plot(rhos, rsquared, 'x-', color='blue', label='Before PCA')\n",
    "plt.plot(rhos, pcarsquared, 'x-', color='red', label='After PCA')\n",
    "plt.legend()"
   ]
  },
  {
   "cell_type": "code",
   "execution_count": 18,
   "metadata": {},
   "outputs": [
    {
     "name": "stderr",
     "output_type": "stream",
     "text": [
      "100it [39:42, 23.82s/it]\n"
     ]
    },
    {
     "data": {
      "text/plain": [
       "<matplotlib.legend.Legend at 0x7fb19e600850>"
      ]
     },
     "execution_count": 18,
     "metadata": {},
     "output_type": "execute_result"
    },
    {
     "data": {
      "image/png": "[encoded data removed]",
      "text/plain": [
       "<Figure size 432x288 with 1 Axes>"
      ]
     },
     "metadata": {
      "needs_background": "light"
     },
     "output_type": "display_data"
    }
   ],
   "source": [
    "mags=np.linspace(-10,10,100)\n",
    "measured_corr=np.zeros(100)\n",
    "rsquared=np.zeros(100)\n",
    "pcarsquared=np.zeros(100)\n",
    "mean=[0,0]\n",
    "cov=[[1,0],[0,1]]\n",
    "x=np.random.multivariate_normal(mean, cov, 10**5)\n",
    "toydata=pd.DataFrame(x, columns=['x1','x2'])\n",
    "toydata['y']=toydata.apply(lambda row: 5*row['x1']+5*row['x2']+np.random.normal(), axis=1)\n",
    "\n",
    "\n",
    "for index, mag in tqdm(enumerate(mags)):\n",
    "    toydata['x3']=toydata.apply(lambda row: (row['x1']*row['x2'])+np.random.normal(scale=0.1), axis=1)\n",
    "    toydata['x4']=toydata.apply(lambda row: (row['x1']/row['x2'])+np.random.normal(scale=0.1)+mag*row['x1'], axis=1)\n",
    "    \n",
    "    x_train, x_test, y_train, y_test=train_test_split(toydata[toydata['y']>0][['x3','x4']], toydata[toydata['y']>0]['y'], test_size=0.3, shuffle=True)\n",
    "    Predictor=RandomForestRegressor().fit(x_train, y_train)\n",
    "    rsquared[index]=Predictor.score(x_test, y_test)\n",
    "    \n",
    "    scaler=StandardScaler()\n",
    "    scaler.fit(x_train)\n",
    "    pcax_train=scaler.transform(x_train)\n",
    "    pcax_test=scaler.transform(x_test)\n",
    "    \n",
    "    pca=PCA(0.9999)\n",
    "    pca.fit(pcax_train)\n",
    "    pcax_train=pca.transform(pcax_train)\n",
    "    pcax_test=pca.transform(pcax_test)\n",
    "\n",
    "    Predictor=RandomForestRegressor().fit(pcax_train, y_train)\n",
    "    pcarsquared[index]=Predictor.score(pcax_test, y_test)\n",
    "\n",
    "plt.plot(rhos, rsquared, 'x-', color='blue', label='Before PCA')\n",
    "plt.plot(rhos, pcarsquared, 'x-', color='red', label='After PCA')\n",
    "plt.legend()"
   ]
  },
  {
   "cell_type": "code",
   "execution_count": 24,
   "metadata": {},
   "outputs": [
    {
     "name": "stderr",
     "output_type": "stream",
     "text": [
      "100it [1:42:23, 61.43s/it]\n"
     ]
    },
    {
     "data": {
      "text/plain": [
       "<matplotlib.legend.Legend at 0x7fb19edd4990>"
      ]
     },
     "execution_count": 24,
     "metadata": {},
     "output_type": "execute_result"
    },
    {
     "data": {
      "image/png": "[encoded data removed]",
      "text/plain": [
       "<Figure size 432x288 with 1 Axes>"
      ]
     },
     "metadata": {
      "needs_background": "light"
     },
     "output_type": "display_data"
    }
   ],
   "source": [
    "rhos=np.linspace(-0.9,0.9,100)\n",
    "rsquared=np.zeros(100)\n",
    "pcarsquared=np.zeros(100)\n",
    "mean=[0,0]\n",
    "for index, rho in tqdm(enumerate(rhos)):\n",
    "    cov=[[1,rho],[rho,1]]\n",
    "    x=np.random.multivariate_normal(mean, cov, 10**5)\n",
    "    toydata=pd.DataFrame(x, columns=['x1','x2'])\n",
    "    toydata['y']=toydata.apply(lambda row: 5*row['x1']+5*row['x2']+1*row['x1']**10+np.random.normal(), axis=1)\n",
    "    \n",
    "    x_train, x_test, y_train, y_test=train_test_split(toydata[['x1','x2']], toydata['y'], test_size=0.3, shuffle=True)\n",
    "    Predictor=RandomForestRegressor().fit(x_train, y_train)\n",
    "    rsquared[index]=Predictor.score(x_test, y_test)\n",
    "    \n",
    "    scaler=StandardScaler()\n",
    "    scaler.fit(x_train)\n",
    "    pcax_train=scaler.transform(x_train)\n",
    "    pcax_test=scaler.transform(x_test)\n",
    "    \n",
    "    pca=PCA(0.9999)\n",
    "    pca.fit(pcax_train)\n",
    "    pcax_train=pca.transform(pcax_train)\n",
    "    pcax_test=pca.transform(pcax_test)\n",
    "\n",
    "    Predictor=RandomForestRegressor().fit(pcax_train, y_train)\n",
    "    pcarsquared[index]=Predictor.score(pcax_test, y_test)\n",
    "\n",
    "plt.plot(rhos, rsquared, 'x-', color='blue', label='Before PCA')\n",
    "plt.plot(rhos, pcarsquared, 'x-', color='red', label='After PCA')\n",
    "plt.legend()"
   ]
  },
  {
   "cell_type": "code",
   "execution_count": 74,
   "metadata": {},
   "outputs": [
    {
     "name": "stdout",
     "output_type": "stream",
     "text": [
      "[[ 0.57983117  0.15222136]\n",
      " [ 1.55678584  1.26617851]\n",
      " [-0.63481148 -0.7882648 ]\n",
      " ...\n",
      " [-2.14871966 -2.03494135]\n",
      " [ 0.5557259   0.74399419]\n",
      " [ 2.26327385  1.95310465]]\n"
     ]
    }
   ],
   "source": [
    "x=np.random.multivariate_normal(mean, cov, 10**5)\n",
    "print(x)\n",
    "toydata=pd.DataFrame(x, columns=['x1','x2'])"
   ]
  },
  {
   "cell_type": "code",
   "execution_count": 75,
   "metadata": {},
   "outputs": [
    {
     "data": {
      "text/html": [
       "<div>\n",
       "<style scoped>\n",
       "    .dataframe tbody tr th:only-of-type {\n",
       "        vertical-align: middle;\n",
       "    }\n",
       "\n",
       "    .dataframe tbody tr th {\n",
       "        vertical-align: top;\n",
       "    }\n",
       "\n",
       "    .dataframe thead th {\n",
       "        text-align: right;\n",
       "    }\n",
       "</style>\n",
       "<table border=\"1\" class=\"dataframe\">\n",
       "  <thead>\n",
       "    <tr style=\"text-align: right;\">\n",
       "      <th></th>\n",
       "      <th>x1</th>\n",
       "      <th>x2</th>\n",
       "      <th>y</th>\n",
       "    </tr>\n",
       "  </thead>\n",
       "  <tbody>\n",
       "    <tr>\n",
       "      <th>0</th>\n",
       "      <td>0.579831</td>\n",
       "      <td>0.152221</td>\n",
       "      <td>2.826474</td>\n",
       "    </tr>\n",
       "    <tr>\n",
       "      <th>1</th>\n",
       "      <td>1.556786</td>\n",
       "      <td>1.266179</td>\n",
       "      <td>13.349690</td>\n",
       "    </tr>\n",
       "    <tr>\n",
       "      <th>2</th>\n",
       "      <td>-0.634811</td>\n",
       "      <td>-0.788265</td>\n",
       "      <td>-8.295520</td>\n",
       "    </tr>\n",
       "    <tr>\n",
       "      <th>3</th>\n",
       "      <td>0.021738</td>\n",
       "      <td>0.275417</td>\n",
       "      <td>1.440402</td>\n",
       "    </tr>\n",
       "    <tr>\n",
       "      <th>4</th>\n",
       "      <td>0.923178</td>\n",
       "      <td>0.721709</td>\n",
       "      <td>7.478713</td>\n",
       "    </tr>\n",
       "  </tbody>\n",
       "</table>\n",
       "</div>"
      ],
      "text/plain": [
       "         x1        x2          y\n",
       "0  0.579831  0.152221   2.826474\n",
       "1  1.556786  1.266179  13.349690\n",
       "2 -0.634811 -0.788265  -8.295520\n",
       "3  0.021738  0.275417   1.440402\n",
       "4  0.923178  0.721709   7.478713"
      ]
     },
     "execution_count": 75,
     "metadata": {},
     "output_type": "execute_result"
    }
   ],
   "source": [
    "toydata['y']=toydata.apply(lambda row: 5*row['x1']+5*row['x2']+np.random.normal(), axis=1)\n",
    "toydata.head()"
   ]
  },
  {
   "cell_type": "code",
   "execution_count": 76,
   "metadata": {},
   "outputs": [
    {
     "name": "stdout",
     "output_type": "stream",
     "text": [
      "0.9879826243563596\n"
     ]
    }
   ],
   "source": [
    "x_train, x_test, y_train, y_test=train_test_split(toydata[['x1','x2']], toydata['y'], test_size=0.3, shuffle=True)\n",
    "Predictor=RandomForestRegressor().fit(x_train, y_train)\n",
    "\n",
    "print(Predictor.score(x_test, y_test))\n"
   ]
  },
  {
   "cell_type": "code",
   "execution_count": 58,
   "metadata": {},
   "outputs": [
    {
     "name": "stdout",
     "output_type": "stream",
     "text": [
      "0.9097420921644979\n"
     ]
    }
   ],
   "source": [
    "scaler=StandardScaler()\n",
    "scaler.fit(x_train)\n",
    "pcax_train=scaler.transform(x_train)\n",
    "pcax_test=scaler.transform(x_test)\n",
    "    \n",
    "pca=PCA(0.9999)\n",
    "pca.fit(pcax_train)\n",
    "pcax_train=pca.transform(pcax_train)\n",
    "pcax_test=pca.transform(pcax_test)\n",
    "\n",
    "Predictor=RandomForestRegressor().fit(pcax_train, y_train)\n",
    "\n",
    "print(Predictor.score(pcax_test, y_test))"
   ]
  },
  {
   "cell_type": "code",
   "execution_count": 63,
   "metadata": {},
   "outputs": [
    {
     "name": "stdout",
     "output_type": "stream",
     "text": [
      "0.9987636330097689\n",
      "[ 5.28470656  1.86058317 -0.          1.82329689  0.6368299   1.16405399\n",
      "  0.54779842  8.91600525 -6.39501268 -0.13409521]\n"
     ]
    }
   ],
   "source": [
    "Lasso_predictor=Lasso(0.0001,normalize=True).fit(x_train, y_train)\n",
    "print(Lasso_predictor.score(x_test, y_test))\n",
    "print(Lasso_predictor.coef_)"
   ]
  },
  {
   "cell_type": "code",
   "execution_count": 14,
   "metadata": {},
   "outputs": [],
   "source": [
    "toydata['x3']=toydata.apply(lambda row: np.exp(row['x1'])*0.9+np.random.normal(scale=0.1), axis=1)\n",
    "toydata['x4']=toydata.apply(lambda row: (row['x1']**3)*0.8+np.random.normal(scale=0.1), axis=1)\n",
    "toydata['x5']=toydata.apply(lambda row: np.log(abs(row['x2']))*1.1+np.random.normal(scale=0.1), axis=1)\n",
    "toydata['x6']=toydata.apply(lambda row: 1./row['x2']*1.2+np.random.normal(scale=0.1), axis=1)\n",
    "toydata['x7']=toydata.apply(lambda row: (row['x1']*row['x2'])*1.3+np.random.normal(scale=0.1), axis=1)\n",
    "toydata['x8']=toydata.apply(lambda row: (row['x1']/row['x2'])*0.7+np.random.normal(scale=0.1), axis=1)\n",
    "toydata['x9']=toydata.apply(lambda row: np.exp(row['x2'])*0.7+np.random.normal(scale=0.1), axis=1)"
   ]
  },
  {
   "cell_type": "code",
   "execution_count": 29,
   "metadata": {},
   "outputs": [
    {
     "data": {
      "text/html": [
       "<div>\n",
       "<style scoped>\n",
       "    .dataframe tbody tr th:only-of-type {\n",
       "        vertical-align: middle;\n",
       "    }\n",
       "\n",
       "    .dataframe tbody tr th {\n",
       "        vertical-align: top;\n",
       "    }\n",
       "\n",
       "    .dataframe thead th {\n",
       "        text-align: right;\n",
       "    }\n",
       "</style>\n",
       "<table border=\"1\" class=\"dataframe\">\n",
       "  <thead>\n",
       "    <tr style=\"text-align: right;\">\n",
       "      <th></th>\n",
       "      <th>x7</th>\n",
       "      <th>x8</th>\n",
       "    </tr>\n",
       "  </thead>\n",
       "  <tbody>\n",
       "    <tr>\n",
       "      <th>x7</th>\n",
       "      <td>1.0000</td>\n",
       "      <td>0.9561</td>\n",
       "    </tr>\n",
       "    <tr>\n",
       "      <th>x8</th>\n",
       "      <td>0.9561</td>\n",
       "      <td>1.0000</td>\n",
       "    </tr>\n",
       "  </tbody>\n",
       "</table>\n",
       "</div>"
      ],
      "text/plain": [
       "        x7      x8\n",
       "x7  1.0000  0.9561\n",
       "x8  0.9561  1.0000"
      ]
     },
     "execution_count": 29,
     "metadata": {},
     "output_type": "execute_result"
    }
   ],
   "source": [
    "toydata[['x7', 'x8']].corr()"
   ]
  },
  {
   "cell_type": "code",
   "execution_count": null,
   "metadata": {},
   "outputs": [],
   "source": []
  },
  {
   "cell_type": "code",
   "execution_count": 30,
   "metadata": {},
   "outputs": [
    {
     "name": "stdout",
     "output_type": "stream",
     "text": [
      "0.7761838705194055\n"
     ]
    }
   ],
   "source": [
    "x_train, x_test, y_train, y_test=train_test_split(toydata[toydata['y']>0][['x7','x8']], toydata[toydata['y']>0]['y'], test_size=0.3, shuffle=True)\n",
    "Predictor=RandomForestRegressor().fit(x_train, y_train)\n",
    "\n",
    "print(Predictor.score(x_test, y_test))"
   ]
  },
  {
   "cell_type": "code",
   "execution_count": 32,
   "metadata": {},
   "outputs": [
    {
     "data": {
      "text/plain": [
       "0.13567621507475025"
      ]
     },
     "execution_count": 32,
     "metadata": {},
     "output_type": "execute_result"
    }
   ],
   "source": [
    "Lasso_predictor=Lasso(0.01,normalize=True).fit(x_train, y_train)\n",
    "Lasso_predictor.score(x_test, y_test)"
   ]
  },
  {
   "cell_type": "code",
   "execution_count": 15,
   "metadata": {},
   "outputs": [],
   "source": [
    "DataSet=pd.read_parquet(\"spreads_data_train.par\")\n",
    "DataSet=DataSet.sort_values(by='localtime')\n",
    "tickers=list(DataSet['symbol'].unique())\n",
    "FeatureSet=pd.read_csv('data_descriptions.csv')\n",
    "FeatureSet\n",
    "staticFeatures=list(FeatureSet[(FeatureSet['Category']=='Static') & ((FeatureSet['Type']=='float64') | (FeatureSet['Type']=='int64'))]['Column'])\n",
    "TandQFeatures=list(FeatureSet[(FeatureSet['Category']=='Trade') | (FeatureSet['Category']=='Quote')]['Column'])\n",
    "allNumericalFeatures=staticFeatures+TandQFeatures"
   ]
  },
  {
   "cell_type": "code",
   "execution_count": 16,
   "metadata": {},
   "outputs": [
    {
     "data": {
      "text/plain": [
       "['volatility',\n",
       " 'avg_daily_volume',\n",
       " 'avg_daily_notional',\n",
       " 'median_daily_volume',\n",
       " 'median_daily_notional',\n",
       " 'mean_width',\n",
       " 'median_width',\n",
       " 'median_nbbo_size',\n",
       " 'opening_price',\n",
       " 'closing_price']"
      ]
     },
     "execution_count": 16,
     "metadata": {},
     "output_type": "execute_result"
    }
   ],
   "source": [
    "staticFeatures"
   ]
  },
  {
   "cell_type": "code",
   "execution_count": 17,
   "metadata": {},
   "outputs": [
    {
     "data": {
      "text/html": [
       "<div>\n",
       "<style scoped>\n",
       "    .dataframe tbody tr th:only-of-type {\n",
       "        vertical-align: middle;\n",
       "    }\n",
       "\n",
       "    .dataframe tbody tr th {\n",
       "        vertical-align: top;\n",
       "    }\n",
       "\n",
       "    .dataframe thead th {\n",
       "        text-align: right;\n",
       "    }\n",
       "</style>\n",
       "<table border=\"1\" class=\"dataframe\">\n",
       "  <thead>\n",
       "    <tr style=\"text-align: right;\">\n",
       "      <th></th>\n",
       "      <th>ordinal_times</th>\n",
       "      <th>localtime</th>\n",
       "      <th>symbol</th>\n",
       "      <th>bid</th>\n",
       "      <th>ask</th>\n",
       "      <th>bidsize</th>\n",
       "      <th>asksize</th>\n",
       "      <th>mid</th>\n",
       "      <th>spread</th>\n",
       "      <th>open</th>\n",
       "      <th>...</th>\n",
       "      <th>median_daily_volume</th>\n",
       "      <th>median_daily_notional</th>\n",
       "      <th>mean_width</th>\n",
       "      <th>median_width</th>\n",
       "      <th>median_nbbo_size</th>\n",
       "      <th>opening_price</th>\n",
       "      <th>closing_price</th>\n",
       "      <th>symbol_type</th>\n",
       "      <th>fut_spread</th>\n",
       "      <th>date</th>\n",
       "    </tr>\n",
       "  </thead>\n",
       "  <tbody>\n",
       "    <tr>\n",
       "      <th>0</th>\n",
       "      <td>0</td>\n",
       "      <td>2021-01-04 14:30:00+00:00</td>\n",
       "      <td>CVS</td>\n",
       "      <td>68.56</td>\n",
       "      <td>68.67</td>\n",
       "      <td>205</td>\n",
       "      <td>1</td>\n",
       "      <td>68.615</td>\n",
       "      <td>0.11</td>\n",
       "      <td>68.74</td>\n",
       "      <td>...</td>\n",
       "      <td>5713092.0</td>\n",
       "      <td>404084096.0</td>\n",
       "      <td>0.015603</td>\n",
       "      <td>0.01</td>\n",
       "      <td>642.5</td>\n",
       "      <td>67.70</td>\n",
       "      <td>68.30</td>\n",
       "      <td>Common Stock</td>\n",
       "      <td>0.06</td>\n",
       "      <td>2021-01-04</td>\n",
       "    </tr>\n",
       "    <tr>\n",
       "      <th>1</th>\n",
       "      <td>0</td>\n",
       "      <td>2021-01-04 14:30:00+00:00</td>\n",
       "      <td>BKI</td>\n",
       "      <td>88.71</td>\n",
       "      <td>89.05</td>\n",
       "      <td>17</td>\n",
       "      <td>452</td>\n",
       "      <td>88.880</td>\n",
       "      <td>0.34</td>\n",
       "      <td>88.93</td>\n",
       "      <td>...</td>\n",
       "      <td>588347.0</td>\n",
       "      <td>52530742.0</td>\n",
       "      <td>0.059210</td>\n",
       "      <td>0.05</td>\n",
       "      <td>398.0</td>\n",
       "      <td>88.46</td>\n",
       "      <td>88.35</td>\n",
       "      <td>Common Stock</td>\n",
       "      <td>0.30</td>\n",
       "      <td>2021-01-04</td>\n",
       "    </tr>\n",
       "    <tr>\n",
       "      <th>2</th>\n",
       "      <td>0</td>\n",
       "      <td>2021-01-04 14:30:00+00:00</td>\n",
       "      <td>BEN</td>\n",
       "      <td>24.92</td>\n",
       "      <td>24.96</td>\n",
       "      <td>160</td>\n",
       "      <td>1300</td>\n",
       "      <td>24.940</td>\n",
       "      <td>0.04</td>\n",
       "      <td>25.00</td>\n",
       "      <td>...</td>\n",
       "      <td>2853712.0</td>\n",
       "      <td>67875047.0</td>\n",
       "      <td>0.010363</td>\n",
       "      <td>0.01</td>\n",
       "      <td>3059.5</td>\n",
       "      <td>24.70</td>\n",
       "      <td>24.99</td>\n",
       "      <td>Common Stock</td>\n",
       "      <td>0.01</td>\n",
       "      <td>2021-01-04</td>\n",
       "    </tr>\n",
       "    <tr>\n",
       "      <th>3</th>\n",
       "      <td>0</td>\n",
       "      <td>2021-01-04 14:30:00+00:00</td>\n",
       "      <td>VOT</td>\n",
       "      <td>212.19</td>\n",
       "      <td>212.42</td>\n",
       "      <td>200</td>\n",
       "      <td>300</td>\n",
       "      <td>212.305</td>\n",
       "      <td>0.23</td>\n",
       "      <td>212.97</td>\n",
       "      <td>...</td>\n",
       "      <td>158883.0</td>\n",
       "      <td>32641143.0</td>\n",
       "      <td>0.123496</td>\n",
       "      <td>0.11</td>\n",
       "      <td>300.0</td>\n",
       "      <td>211.78</td>\n",
       "      <td>212.07</td>\n",
       "      <td>ETP</td>\n",
       "      <td>0.23</td>\n",
       "      <td>2021-01-04</td>\n",
       "    </tr>\n",
       "    <tr>\n",
       "      <th>4</th>\n",
       "      <td>0</td>\n",
       "      <td>2021-01-04 14:30:00+00:00</td>\n",
       "      <td>OTEX</td>\n",
       "      <td>45.46</td>\n",
       "      <td>45.50</td>\n",
       "      <td>300</td>\n",
       "      <td>200</td>\n",
       "      <td>45.480</td>\n",
       "      <td>0.04</td>\n",
       "      <td>45.90</td>\n",
       "      <td>...</td>\n",
       "      <td>315591.0</td>\n",
       "      <td>14290142.0</td>\n",
       "      <td>0.024247</td>\n",
       "      <td>0.02</td>\n",
       "      <td>600.5</td>\n",
       "      <td>45.48</td>\n",
       "      <td>45.46</td>\n",
       "      <td>Common Stock</td>\n",
       "      <td>0.03</td>\n",
       "      <td>2021-01-04</td>\n",
       "    </tr>\n",
       "  </tbody>\n",
       "</table>\n",
       "<p>5 rows × 29 columns</p>\n",
       "</div>"
      ],
      "text/plain": [
       "   ordinal_times                 localtime symbol     bid     ask  bidsize  \\\n",
       "0              0 2021-01-04 14:30:00+00:00    CVS   68.56   68.67      205   \n",
       "1              0 2021-01-04 14:30:00+00:00    BKI   88.71   89.05       17   \n",
       "2              0 2021-01-04 14:30:00+00:00    BEN   24.92   24.96      160   \n",
       "3              0 2021-01-04 14:30:00+00:00    VOT  212.19  212.42      200   \n",
       "4              0 2021-01-04 14:30:00+00:00   OTEX   45.46   45.50      300   \n",
       "\n",
       "   asksize      mid  spread    open  ...  median_daily_volume  \\\n",
       "0        1   68.615    0.11   68.74  ...            5713092.0   \n",
       "1      452   88.880    0.34   88.93  ...             588347.0   \n",
       "2     1300   24.940    0.04   25.00  ...            2853712.0   \n",
       "3      300  212.305    0.23  212.97  ...             158883.0   \n",
       "4      200   45.480    0.04   45.90  ...             315591.0   \n",
       "\n",
       "   median_daily_notional  mean_width  median_width  median_nbbo_size  \\\n",
       "0            404084096.0    0.015603          0.01             642.5   \n",
       "1             52530742.0    0.059210          0.05             398.0   \n",
       "2             67875047.0    0.010363          0.01            3059.5   \n",
       "3             32641143.0    0.123496          0.11             300.0   \n",
       "4             14290142.0    0.024247          0.02             600.5   \n",
       "\n",
       "   opening_price  closing_price   symbol_type  fut_spread        date  \n",
       "0          67.70          68.30  Common Stock        0.06  2021-01-04  \n",
       "1          88.46          88.35  Common Stock        0.30  2021-01-04  \n",
       "2          24.70          24.99  Common Stock        0.01  2021-01-04  \n",
       "3         211.78         212.07           ETP        0.23  2021-01-04  \n",
       "4          45.48          45.46  Common Stock        0.03  2021-01-04  \n",
       "\n",
       "[5 rows x 29 columns]"
      ]
     },
     "execution_count": 17,
     "metadata": {},
     "output_type": "execute_result"
    }
   ],
   "source": [
    "DataSet=DataSet.rename_axis(\"ordinal_times\").reset_index()\n",
    "DataSet.head()"
   ]
  },
  {
   "cell_type": "code",
   "execution_count": 18,
   "metadata": {},
   "outputs": [],
   "source": [
    "DataSet['normalized_spread']=DataSet.apply(lambda row: normalizeSpread(row['spread'],row['ask']), axis=1)\n",
    "DataSet['normalized_fut_spread']=DataSet.apply(lambda row: normalizeSpread(row['fut_spread'],row['ask']), axis=1)\n",
    "DataSet['recip_ordinal_times']=DataSet.apply(lambda row: 1./(1+row['ordinal_times']), axis=1)\n",
    "#DataSet['time_of_day']=DataSet['localtime'].dt.time"
   ]
  },
  {
   "cell_type": "code",
   "execution_count": 14,
   "metadata": {},
   "outputs": [
    {
     "name": "stdout",
     "output_type": "stream",
     "text": [
      "['CTRA' 'AFRM' 'PLTK' 'STLA' 'AXON' 'NOK' 'CLVT' 'AEE' 'CCJ' 'HPQ' 'MPC'\n",
      " 'TFII' 'PCOR' 'ARGX' 'SOFI' 'BIIB' 'MNDY' 'IWV' 'TTE' 'BZ' 'DFAC' 'GRUB'\n",
      " 'YMM' 'DIDI' 'GIB' 'QGEN' 'LCID' 'HOOD']\n",
      "['CTRA' 'AFRM' 'PLTK' 'STLA' 'AXON' 'CLVT' 'PCOR' 'SOFI' 'MNDY' 'TTE' 'BZ'\n",
      " 'DFAC' 'YMM' 'DIDI' 'LCID' 'HOOD']\n"
     ]
    }
   ],
   "source": [
    "print(DataSet[DataSet.isna().any(axis=1)==True]['symbol'].unique())\n",
    "print(DataSet[(DataSet.isna().any(axis=1)==True) & (DataSet['numEvents']>0)]['symbol'].unique())"
   ]
  },
  {
   "cell_type": "code",
   "execution_count": 19,
   "metadata": {},
   "outputs": [],
   "source": [
    "DataSet=DataSet[DataSet['numEvents']>0]\n",
    "DataSet=DataSet[(DataSet['normalized_spread']>0) & (DataSet['normalized_fut_spread']>0)]"
   ]
  },
  {
   "cell_type": "code",
   "execution_count": 20,
   "metadata": {},
   "outputs": [],
   "source": [
    "DataSet.loc[DataSet['symbol']=='CTRA','symbol_type']='Common Stock'\n",
    "DataSet[DataSet['symbol']=='CTRA']\n",
    "DataSet=DataSet.dropna()"
   ]
  },
  {
   "cell_type": "code",
   "execution_count": 17,
   "metadata": {
    "collapsed": true,
    "jupyter": {
     "outputs_hidden": true
    }
   },
   "outputs": [
    {
     "data": {
      "text/plain": [
       "Text(0, 0.5, 'GS open price ($)')"
      ]
     },
     "execution_count": 17,
     "metadata": {},
     "output_type": "execute_result"
    },
    {
     "data": {
      "image/png": "[encoded data removed]",
      "text/plain": [
       "<Figure size 432x288 with 1 Axes>"
      ]
     },
     "metadata": {
      "needs_background": "light"
     },
     "output_type": "display_data"
    }
   ],
   "source": [
    "plt.plot(DataSet[DataSet['symbol']=='GS']['localtime'], DataSet[DataSet['symbol']=='GS']['close'])\n",
    "plt.xlabel('Time')\n",
    "plt.ylabel('GS open price ($)')"
   ]
  },
  {
   "cell_type": "code",
   "execution_count": 18,
   "metadata": {
    "collapsed": true,
    "jupyter": {
     "outputs_hidden": true,
     "source_hidden": true
    }
   },
   "outputs": [
    {
     "data": {
      "text/plain": [
       "Text(0.5, 1.0, 'TTD')"
      ]
     },
     "execution_count": 18,
     "metadata": {},
     "output_type": "execute_result"
    },
    {
     "data": {
      "image/png": "[encoded data removed]",
      "text/plain": [
       "<Figure size 1440x432 with 3 Axes>"
      ]
     },
     "metadata": {
      "needs_background": "light"
     },
     "output_type": "display_data"
    }
   ],
   "source": [
    "fig, axs=plt.subplots(1,3)\n",
    "fig.set_size_inches(20,6)\n",
    "axs[0].plot(DataSet[DataSet['symbol']=='AAPL']['localtime'], DataSet[DataSet['symbol']=='AAPL']['open'])\n",
    "axs[0].set_xlabel('Date')\n",
    "axs[0].set_ylabel('Open price ($)')\n",
    "axs[0].set_title('AAPL')\n",
    "\n",
    "axs[1].plot(DataSet[DataSet['symbol']=='MSFT']['localtime'], DataSet[DataSet['symbol']=='MSFT']['close'])\n",
    "axs[1].set_xlabel('Date')\n",
    "axs[1].set_ylabel('Open price ($)')\n",
    "axs[1].set_title('MSFT')\n",
    "\n",
    "axs[2].plot(DataSet[DataSet['symbol']=='TTD']['localtime'], DataSet[DataSet['symbol']=='TTD']['open'])\n",
    "axs[2].set_xlabel('Date')\n",
    "axs[2].set_ylabel('Open price ($)')\n",
    "axs[2].set_title('TTD')"
   ]
  },
  {
   "cell_type": "code",
   "execution_count": 19,
   "metadata": {
    "collapsed": true,
    "jupyter": {
     "outputs_hidden": true,
     "source_hidden": true
    }
   },
   "outputs": [
    {
     "data": {
      "image/png": "[encoded data removed]",
      "text/plain": [
       "<Figure size 1440x360 with 3 Axes>"
      ]
     },
     "metadata": {
      "needs_background": "light"
     },
     "output_type": "display_data"
    }
   ],
   "source": [
    "ZS=DataSet[DataSet['symbol']=='ZS'][['fut_spread', 'spread', 'ordinal_times']].groupby(['ordinal_times']).mean()\n",
    "VOO=DataSet[DataSet['symbol']=='VOO'][['fut_spread', 'spread', 'ordinal_times']].groupby(['ordinal_times']).mean()\n",
    "DIDI=DataSet[DataSet['symbol']=='DIDI'][['fut_spread', 'spread', 'ordinal_times']].groupby(['ordinal_times']).mean()\n",
    "fig, axs=plt.subplots(1,3, sharex=True)\n",
    "\n",
    "fig.set_size_inches(20,5)\n",
    "\n",
    "axs[0].plot(ZS['fut_spread'])\n",
    "axs[0].set_xlabel('ordinal time')\n",
    "axs[0].set_ylabel('future spread (normalized)')\n",
    "axs[0].set_title('ZS (Common Stock)')\n",
    "axs[0].set_xscale('log')\n",
    "axs[0].set_yscale('log')\n",
    "\n",
    "axs[1].plot(VOO['fut_spread'])\n",
    "axs[1].set_xlabel('ordinal time')\n",
    "axs[1].set_title('VOO (ETP)')\n",
    "axs[1].set_xscale('log')\n",
    "axs[1].set_yscale('log')\n",
    "\n",
    "axs[2].plot(DIDI['fut_spread'])\n",
    "axs[2].set_xlabel('ordinal time')\n",
    "axs[2].set_title('DIDI (ADR)')\n",
    "axs[2].set_xscale('log')\n",
    "axs[2].set_yscale('log')\n",
    "\n",
    "plt.show()"
   ]
  },
  {
   "cell_type": "code",
   "execution_count": 20,
   "metadata": {
    "collapsed": true,
    "jupyter": {
     "outputs_hidden": true,
     "source_hidden": true
    }
   },
   "outputs": [
    {
     "name": "stdout",
     "output_type": "stream",
     "text": [
      "2021-01-04\n",
      "2021-07-30\n",
      "DatetimeIndex(['2021-01-18', '2021-02-10', '2021-02-11', '2021-02-15',\n",
      "               '2021-03-01', '2021-03-02', '2021-03-03', '2021-03-04',\n",
      "               '2021-03-05', '2021-03-08', '2021-03-09', '2021-03-10',\n",
      "               '2021-03-11', '2021-03-12', '2021-03-15', '2021-03-16',\n",
      "               '2021-03-17', '2021-03-18', '2021-03-19', '2021-03-22',\n",
      "               '2021-03-23', '2021-03-24', '2021-03-25', '2021-03-26',\n",
      "               '2021-03-29', '2021-03-30', '2021-03-31', '2021-04-01',\n",
      "               '2021-04-02', '2021-04-05', '2021-04-06', '2021-04-07',\n",
      "               '2021-04-08', '2021-04-09', '2021-04-12', '2021-04-13',\n",
      "               '2021-04-14', '2021-04-15', '2021-04-16', '2021-04-19',\n",
      "               '2021-04-20', '2021-04-21', '2021-04-22', '2021-04-23',\n",
      "               '2021-04-26', '2021-04-27', '2021-04-28', '2021-04-29',\n",
      "               '2021-04-30', '2021-05-31', '2021-07-05'],\n",
      "              dtype='datetime64[ns]', freq=None)\n"
     ]
    }
   ],
   "source": [
    "start_date=min(DataSet['date'])\n",
    "end_date=max(DataSet['date'])\n",
    "missing_dates=pd.date_range(start=start_date, end=end_date, freq='B').difference(DataSet['date'])\n",
    "print(start_date)\n",
    "print(end_date)\n",
    "print(missing_dates)"
   ]
  },
  {
   "cell_type": "code",
   "execution_count": 21,
   "metadata": {
    "collapsed": true,
    "jupyter": {
     "outputs_hidden": true,
     "source_hidden": true
    }
   },
   "outputs": [
    {
     "data": {
      "text/plain": [
       "Text(0, 0.5, 'Frequency')"
      ]
     },
     "execution_count": 21,
     "metadata": {},
     "output_type": "execute_result"
    },
    {
     "data": {
      "image/png": "[encoded data removed]",
      "text/plain": [
       "<Figure size 432x288 with 1 Axes>"
      ]
     },
     "metadata": {
      "needs_background": "light"
     },
     "output_type": "display_data"
    }
   ],
   "source": [
    "plt.hist(DataSet['normalized_fut_spread'])\n",
    "plt.yscale('log')\n",
    "plt.xlabel('future spread (normalized)')\n",
    "plt.ylabel('Frequency')"
   ]
  },
  {
   "cell_type": "code",
   "execution_count": 22,
   "metadata": {
    "collapsed": true,
    "jupyter": {
     "outputs_hidden": true,
     "source_hidden": true
    }
   },
   "outputs": [
    {
     "data": {
      "text/plain": [
       "(0.0, 0.1)"
      ]
     },
     "execution_count": 22,
     "metadata": {},
     "output_type": "execute_result"
    },
    {
     "data": {
      "image/png": "[encoded data removed]",
      "text/plain": [
       "<Figure size 1008x288 with 2 Axes>"
      ]
     },
     "metadata": {
      "needs_background": "light"
     },
     "output_type": "display_data"
    }
   ],
   "source": [
    "fig, axs=plt.subplots(1,2)\n",
    "fig.set_size_inches(14,4)\n",
    "axs[0].plot(np.log(DataSet['bidsize']), DataSet['normalized_fut_spread'], ls='none', Marker='.', MarkerSize=6)\n",
    "axs[0].set_xlabel('log(Bid Size)')\n",
    "axs[0].set_ylabel('Future Spread (normalized)')\n",
    "axs[0].set_ylim(0,0.1)\n",
    "\n",
    "axs[1].plot(np.log(DataSet['asksize']), DataSet['normalized_fut_spread'], ls='none', Marker='.', MarkerSize=6)\n",
    "axs[1].set_xlabel('log(ask Size)')\n",
    "axs[1].set_ylim(0,0.1)"
   ]
  },
  {
   "cell_type": "code",
   "execution_count": 23,
   "metadata": {
    "collapsed": true,
    "jupyter": {
     "outputs_hidden": true,
     "source_hidden": true
    }
   },
   "outputs": [
    {
     "data": {
      "text/plain": [
       "ordinal_times           -0.066620\n",
       "bid                      0.702829\n",
       "ask                      0.703635\n",
       "bidsize                 -0.036163\n",
       "asksize                 -0.036752\n",
       "mid                      0.703232\n",
       "spread                   0.860707\n",
       "open                     0.703193\n",
       "high                     0.704024\n",
       "low                      0.702686\n",
       "close                    0.703228\n",
       "volume                  -0.046998\n",
       "numEvents               -0.034903\n",
       "notional_volume          0.006574\n",
       "volatility               0.019232\n",
       "avg_daily_volume        -0.074347\n",
       "avg_daily_notional       0.002051\n",
       "median_daily_volume     -0.079782\n",
       "median_daily_notional    0.001923\n",
       "mean_width               0.023923\n",
       "median_width             0.859819\n",
       "median_nbbo_size        -0.039676\n",
       "opening_price            0.704258\n",
       "closing_price            0.703705\n",
       "fut_spread               1.000000\n",
       "normalized_spread        0.297874\n",
       "normalized_fut_spread    0.409448\n",
       "recip_ordinal_times      0.076929\n",
       "Name: fut_spread, dtype: float64"
      ]
     },
     "execution_count": 23,
     "metadata": {},
     "output_type": "execute_result"
    }
   ],
   "source": [
    "DataSet.corr()['fut_spread']"
   ]
  },
  {
   "cell_type": "code",
   "execution_count": 24,
   "metadata": {},
   "outputs": [
    {
     "data": {
      "text/html": [
       "<div>\n",
       "<style scoped>\n",
       "    .dataframe tbody tr th:only-of-type {\n",
       "        vertical-align: middle;\n",
       "    }\n",
       "\n",
       "    .dataframe tbody tr th {\n",
       "        vertical-align: top;\n",
       "    }\n",
       "\n",
       "    .dataframe thead th {\n",
       "        text-align: right;\n",
       "    }\n",
       "</style>\n",
       "<table border=\"1\" class=\"dataframe\">\n",
       "  <thead>\n",
       "    <tr style=\"text-align: right;\">\n",
       "      <th></th>\n",
       "      <th>volatility</th>\n",
       "      <th>avg_daily_volume</th>\n",
       "      <th>avg_daily_notional</th>\n",
       "      <th>median_daily_volume</th>\n",
       "      <th>median_daily_notional</th>\n",
       "      <th>mean_width</th>\n",
       "      <th>median_width</th>\n",
       "      <th>median_nbbo_size</th>\n",
       "      <th>opening_price</th>\n",
       "      <th>closing_price</th>\n",
       "      <th>ordinal_times</th>\n",
       "      <th>fut_spread</th>\n",
       "      <th>recip_ordinal_times</th>\n",
       "    </tr>\n",
       "  </thead>\n",
       "  <tbody>\n",
       "    <tr>\n",
       "      <th>volatility</th>\n",
       "      <td>1.000000</td>\n",
       "      <td>0.247031</td>\n",
       "      <td>0.072569</td>\n",
       "      <td>0.202399</td>\n",
       "      <td>0.044974</td>\n",
       "      <td>0.003184</td>\n",
       "      <td>0.020348</td>\n",
       "      <td>0.007606</td>\n",
       "      <td>-0.026140</td>\n",
       "      <td>-0.026626</td>\n",
       "      <td>0.001073</td>\n",
       "      <td>0.019232</td>\n",
       "      <td>-0.001092</td>\n",
       "    </tr>\n",
       "    <tr>\n",
       "      <th>avg_daily_volume</th>\n",
       "      <td>0.247031</td>\n",
       "      <td>1.000000</td>\n",
       "      <td>0.457935</td>\n",
       "      <td>0.977716</td>\n",
       "      <td>0.422859</td>\n",
       "      <td>0.016321</td>\n",
       "      <td>-0.078667</td>\n",
       "      <td>0.258526</td>\n",
       "      <td>-0.097359</td>\n",
       "      <td>-0.097534</td>\n",
       "      <td>0.000577</td>\n",
       "      <td>-0.074347</td>\n",
       "      <td>-0.000525</td>\n",
       "    </tr>\n",
       "    <tr>\n",
       "      <th>avg_daily_notional</th>\n",
       "      <td>0.072569</td>\n",
       "      <td>0.457935</td>\n",
       "      <td>1.000000</td>\n",
       "      <td>0.483875</td>\n",
       "      <td>0.995043</td>\n",
       "      <td>0.006121</td>\n",
       "      <td>0.005801</td>\n",
       "      <td>-0.001882</td>\n",
       "      <td>0.209113</td>\n",
       "      <td>0.209190</td>\n",
       "      <td>0.000059</td>\n",
       "      <td>0.002051</td>\n",
       "      <td>0.000029</td>\n",
       "    </tr>\n",
       "    <tr>\n",
       "      <th>median_daily_volume</th>\n",
       "      <td>0.202399</td>\n",
       "      <td>0.977716</td>\n",
       "      <td>0.483875</td>\n",
       "      <td>1.000000</td>\n",
       "      <td>0.459740</td>\n",
       "      <td>0.020033</td>\n",
       "      <td>-0.084416</td>\n",
       "      <td>0.270495</td>\n",
       "      <td>-0.101848</td>\n",
       "      <td>-0.102000</td>\n",
       "      <td>0.000570</td>\n",
       "      <td>-0.079782</td>\n",
       "      <td>-0.000487</td>\n",
       "    </tr>\n",
       "    <tr>\n",
       "      <th>median_daily_notional</th>\n",
       "      <td>0.044974</td>\n",
       "      <td>0.422859</td>\n",
       "      <td>0.995043</td>\n",
       "      <td>0.459740</td>\n",
       "      <td>1.000000</td>\n",
       "      <td>0.006807</td>\n",
       "      <td>0.005647</td>\n",
       "      <td>-0.001317</td>\n",
       "      <td>0.210238</td>\n",
       "      <td>0.210363</td>\n",
       "      <td>0.000039</td>\n",
       "      <td>0.001923</td>\n",
       "      <td>0.000056</td>\n",
       "    </tr>\n",
       "    <tr>\n",
       "      <th>mean_width</th>\n",
       "      <td>0.003184</td>\n",
       "      <td>0.016321</td>\n",
       "      <td>0.006121</td>\n",
       "      <td>0.020033</td>\n",
       "      <td>0.006807</td>\n",
       "      <td>1.000000</td>\n",
       "      <td>0.024536</td>\n",
       "      <td>-0.001755</td>\n",
       "      <td>0.017015</td>\n",
       "      <td>0.017086</td>\n",
       "      <td>0.000027</td>\n",
       "      <td>0.023923</td>\n",
       "      <td>-0.000022</td>\n",
       "    </tr>\n",
       "    <tr>\n",
       "      <th>median_width</th>\n",
       "      <td>0.020348</td>\n",
       "      <td>-0.078667</td>\n",
       "      <td>0.005801</td>\n",
       "      <td>-0.084416</td>\n",
       "      <td>0.005647</td>\n",
       "      <td>0.024536</td>\n",
       "      <td>1.000000</td>\n",
       "      <td>-0.041984</td>\n",
       "      <td>0.798089</td>\n",
       "      <td>0.797099</td>\n",
       "      <td>0.000474</td>\n",
       "      <td>0.859819</td>\n",
       "      <td>-0.000414</td>\n",
       "    </tr>\n",
       "    <tr>\n",
       "      <th>median_nbbo_size</th>\n",
       "      <td>0.007606</td>\n",
       "      <td>0.258526</td>\n",
       "      <td>-0.001882</td>\n",
       "      <td>0.270495</td>\n",
       "      <td>-0.001317</td>\n",
       "      <td>-0.001755</td>\n",
       "      <td>-0.041984</td>\n",
       "      <td>1.000000</td>\n",
       "      <td>-0.082501</td>\n",
       "      <td>-0.082550</td>\n",
       "      <td>0.000281</td>\n",
       "      <td>-0.039676</td>\n",
       "      <td>-0.000284</td>\n",
       "    </tr>\n",
       "    <tr>\n",
       "      <th>opening_price</th>\n",
       "      <td>-0.026140</td>\n",
       "      <td>-0.097359</td>\n",
       "      <td>0.209113</td>\n",
       "      <td>-0.101848</td>\n",
       "      <td>0.210238</td>\n",
       "      <td>0.017015</td>\n",
       "      <td>0.798089</td>\n",
       "      <td>-0.082501</td>\n",
       "      <td>1.000000</td>\n",
       "      <td>0.999802</td>\n",
       "      <td>0.000294</td>\n",
       "      <td>0.704258</td>\n",
       "      <td>-0.000239</td>\n",
       "    </tr>\n",
       "    <tr>\n",
       "      <th>closing_price</th>\n",
       "      <td>-0.026626</td>\n",
       "      <td>-0.097534</td>\n",
       "      <td>0.209190</td>\n",
       "      <td>-0.102000</td>\n",
       "      <td>0.210363</td>\n",
       "      <td>0.017086</td>\n",
       "      <td>0.797099</td>\n",
       "      <td>-0.082550</td>\n",
       "      <td>0.999802</td>\n",
       "      <td>1.000000</td>\n",
       "      <td>0.000292</td>\n",
       "      <td>0.703705</td>\n",
       "      <td>-0.000238</td>\n",
       "    </tr>\n",
       "    <tr>\n",
       "      <th>ordinal_times</th>\n",
       "      <td>0.001073</td>\n",
       "      <td>0.000577</td>\n",
       "      <td>0.000059</td>\n",
       "      <td>0.000570</td>\n",
       "      <td>0.000039</td>\n",
       "      <td>0.000027</td>\n",
       "      <td>0.000474</td>\n",
       "      <td>0.000281</td>\n",
       "      <td>0.000294</td>\n",
       "      <td>0.000292</td>\n",
       "      <td>1.000000</td>\n",
       "      <td>-0.066620</td>\n",
       "      <td>-0.609919</td>\n",
       "    </tr>\n",
       "    <tr>\n",
       "      <th>fut_spread</th>\n",
       "      <td>0.019232</td>\n",
       "      <td>-0.074347</td>\n",
       "      <td>0.002051</td>\n",
       "      <td>-0.079782</td>\n",
       "      <td>0.001923</td>\n",
       "      <td>0.023923</td>\n",
       "      <td>0.859819</td>\n",
       "      <td>-0.039676</td>\n",
       "      <td>0.704258</td>\n",
       "      <td>0.703705</td>\n",
       "      <td>-0.066620</td>\n",
       "      <td>1.000000</td>\n",
       "      <td>0.076929</td>\n",
       "    </tr>\n",
       "    <tr>\n",
       "      <th>recip_ordinal_times</th>\n",
       "      <td>-0.001092</td>\n",
       "      <td>-0.000525</td>\n",
       "      <td>0.000029</td>\n",
       "      <td>-0.000487</td>\n",
       "      <td>0.000056</td>\n",
       "      <td>-0.000022</td>\n",
       "      <td>-0.000414</td>\n",
       "      <td>-0.000284</td>\n",
       "      <td>-0.000239</td>\n",
       "      <td>-0.000238</td>\n",
       "      <td>-0.609919</td>\n",
       "      <td>0.076929</td>\n",
       "      <td>1.000000</td>\n",
       "    </tr>\n",
       "  </tbody>\n",
       "</table>\n",
       "</div>"
      ],
      "text/plain": [
       "                       volatility  avg_daily_volume  avg_daily_notional  \\\n",
       "volatility               1.000000          0.247031            0.072569   \n",
       "avg_daily_volume         0.247031          1.000000            0.457935   \n",
       "avg_daily_notional       0.072569          0.457935            1.000000   \n",
       "median_daily_volume      0.202399          0.977716            0.483875   \n",
       "median_daily_notional    0.044974          0.422859            0.995043   \n",
       "mean_width               0.003184          0.016321            0.006121   \n",
       "median_width             0.020348         -0.078667            0.005801   \n",
       "median_nbbo_size         0.007606          0.258526           -0.001882   \n",
       "opening_price           -0.026140         -0.097359            0.209113   \n",
       "closing_price           -0.026626         -0.097534            0.209190   \n",
       "ordinal_times            0.001073          0.000577            0.000059   \n",
       "fut_spread               0.019232         -0.074347            0.002051   \n",
       "recip_ordinal_times     -0.001092         -0.000525            0.000029   \n",
       "\n",
       "                       median_daily_volume  median_daily_notional  mean_width  \\\n",
       "volatility                        0.202399               0.044974    0.003184   \n",
       "avg_daily_volume                  0.977716               0.422859    0.016321   \n",
       "avg_daily_notional                0.483875               0.995043    0.006121   \n",
       "median_daily_volume               1.000000               0.459740    0.020033   \n",
       "median_daily_notional             0.459740               1.000000    0.006807   \n",
       "mean_width                        0.020033               0.006807    1.000000   \n",
       "median_width                     -0.084416               0.005647    0.024536   \n",
       "median_nbbo_size                  0.270495              -0.001317   -0.001755   \n",
       "opening_price                    -0.101848               0.210238    0.017015   \n",
       "closing_price                    -0.102000               0.210363    0.017086   \n",
       "ordinal_times                     0.000570               0.000039    0.000027   \n",
       "fut_spread                       -0.079782               0.001923    0.023923   \n",
       "recip_ordinal_times              -0.000487               0.000056   -0.000022   \n",
       "\n",
       "                       median_width  median_nbbo_size  opening_price  \\\n",
       "volatility                 0.020348          0.007606      -0.026140   \n",
       "avg_daily_volume          -0.078667          0.258526      -0.097359   \n",
       "avg_daily_notional         0.005801         -0.001882       0.209113   \n",
       "median_daily_volume       -0.084416          0.270495      -0.101848   \n",
       "median_daily_notional      0.005647         -0.001317       0.210238   \n",
       "mean_width                 0.024536         -0.001755       0.017015   \n",
       "median_width               1.000000         -0.041984       0.798089   \n",
       "median_nbbo_size          -0.041984          1.000000      -0.082501   \n",
       "opening_price              0.798089         -0.082501       1.000000   \n",
       "closing_price              0.797099         -0.082550       0.999802   \n",
       "ordinal_times              0.000474          0.000281       0.000294   \n",
       "fut_spread                 0.859819         -0.039676       0.704258   \n",
       "recip_ordinal_times       -0.000414         -0.000284      -0.000239   \n",
       "\n",
       "                       closing_price  ordinal_times  fut_spread  \\\n",
       "volatility                 -0.026626       0.001073    0.019232   \n",
       "avg_daily_volume           -0.097534       0.000577   -0.074347   \n",
       "avg_daily_notional          0.209190       0.000059    0.002051   \n",
       "median_daily_volume        -0.102000       0.000570   -0.079782   \n",
       "median_daily_notional       0.210363       0.000039    0.001923   \n",
       "mean_width                  0.017086       0.000027    0.023923   \n",
       "median_width                0.797099       0.000474    0.859819   \n",
       "median_nbbo_size           -0.082550       0.000281   -0.039676   \n",
       "opening_price               0.999802       0.000294    0.704258   \n",
       "closing_price               1.000000       0.000292    0.703705   \n",
       "ordinal_times               0.000292       1.000000   -0.066620   \n",
       "fut_spread                  0.703705      -0.066620    1.000000   \n",
       "recip_ordinal_times        -0.000238      -0.609919    0.076929   \n",
       "\n",
       "                       recip_ordinal_times  \n",
       "volatility                       -0.001092  \n",
       "avg_daily_volume                 -0.000525  \n",
       "avg_daily_notional                0.000029  \n",
       "median_daily_volume              -0.000487  \n",
       "median_daily_notional             0.000056  \n",
       "mean_width                       -0.000022  \n",
       "median_width                     -0.000414  \n",
       "median_nbbo_size                 -0.000284  \n",
       "opening_price                    -0.000239  \n",
       "closing_price                    -0.000238  \n",
       "ordinal_times                    -0.609919  \n",
       "fut_spread                        0.076929  \n",
       "recip_ordinal_times               1.000000  "
      ]
     },
     "execution_count": 24,
     "metadata": {},
     "output_type": "execute_result"
    }
   ],
   "source": [
    "DataSet[staticFeatures+['ordinal_times']+['fut_spread']+['recip_ordinal_times']].corr()"
   ]
  },
  {
   "cell_type": "code",
   "execution_count": 25,
   "metadata": {},
   "outputs": [
    {
     "data": {
      "text/plain": [
       "volatility               0.220316\n",
       "avg_daily_volume         0.217390\n",
       "avg_daily_notional       0.214133\n",
       "median_daily_volume      0.208773\n",
       "median_daily_notional    0.210524\n",
       "mean_width               0.272402\n",
       "median_width             0.188796\n",
       "median_nbbo_size        -0.191222\n",
       "opening_price            0.072970\n",
       "closing_price            0.068884\n",
       "ordinal_times           -0.004614\n",
       "fut_spread               1.000000\n",
       "recip_ordinal_times      0.107043\n",
       "Name: fut_spread, dtype: float64"
      ]
     },
     "execution_count": 25,
     "metadata": {},
     "output_type": "execute_result"
    }
   ],
   "source": [
    "DataSet[DataSet['symbol']=='AAPL'][staticFeatures+['ordinal_times']+['fut_spread']+['recip_ordinal_times']].corr()['fut_spread']"
   ]
  },
  {
   "cell_type": "code",
   "execution_count": 26,
   "metadata": {},
   "outputs": [
    {
     "data": {
      "text/plain": [
       "volatility              -0.223709\n",
       "avg_daily_volume        -0.250826\n",
       "avg_daily_notional       0.020823\n",
       "median_daily_volume     -0.255034\n",
       "median_daily_notional    0.030584\n",
       "mean_width               0.421930\n",
       "median_width             0.430318\n",
       "median_nbbo_size        -0.272718\n",
       "opening_price            0.404124\n",
       "closing_price            0.397041\n",
       "ordinal_times           -0.432351\n",
       "fut_spread               1.000000\n",
       "recip_ordinal_times      0.506825\n",
       "Name: fut_spread, dtype: float64"
      ]
     },
     "execution_count": 26,
     "metadata": {},
     "output_type": "execute_result"
    }
   ],
   "source": [
    "DataSet[DataSet['symbol']=='IAC'][staticFeatures+['ordinal_times']+['fut_spread']+['recip_ordinal_times']].corr()['fut_spread']"
   ]
  },
  {
   "cell_type": "code",
   "execution_count": 27,
   "metadata": {},
   "outputs": [
    {
     "data": {
      "text/plain": [
       "Text(0.5, 0, 'Ordinal Times')"
      ]
     },
     "execution_count": 27,
     "metadata": {},
     "output_type": "execute_result"
    },
    {
     "data": {
      "image/png": "[encoded data removed]",
      "text/plain": [
       "<Figure size 864x432 with 3 Axes>"
      ]
     },
     "metadata": {
      "needs_background": "light"
     },
     "output_type": "display_data"
    }
   ],
   "source": [
    "fig, axs=plt.subplots(1,3, sharey=True)\n",
    "fig.set_size_inches(12,6)\n",
    "axs[0].plot(np.log(DataSet['avg_daily_volume']), DataSet['normalized_fut_spread'],ls='none', Marker='.',MarkerSize=4)\n",
    "axs[0].set_ylabel('Normalized Future Spread')\n",
    "axs[0].set_xlabel('log(avg_daily_volume)')\n",
    "\n",
    "axs[1].plot(DataSet['volatility'], DataSet['normalized_fut_spread'],ls='none', Marker='.',MarkerSize=4)\n",
    "axs[1].set_xlabel('volatility')\n",
    "\n",
    "axs[2].plot(DataSet['ordinal_times'], DataSet['normalized_fut_spread'], ls='none', Marker='.', MarkerSize=4)\n",
    "axs[2].set_xlabel('Ordinal Times')"
   ]
  },
  {
   "cell_type": "code",
   "execution_count": 28,
   "metadata": {},
   "outputs": [
    {
     "data": {
      "text/html": [
       "<div>\n",
       "<style scoped>\n",
       "    .dataframe tbody tr th:only-of-type {\n",
       "        vertical-align: middle;\n",
       "    }\n",
       "\n",
       "    .dataframe tbody tr th {\n",
       "        vertical-align: top;\n",
       "    }\n",
       "\n",
       "    .dataframe thead th {\n",
       "        text-align: right;\n",
       "    }\n",
       "</style>\n",
       "<table border=\"1\" class=\"dataframe\">\n",
       "  <thead>\n",
       "    <tr style=\"text-align: right;\">\n",
       "      <th></th>\n",
       "      <th>avg_daily_volume</th>\n",
       "      <th>volatility</th>\n",
       "    </tr>\n",
       "    <tr>\n",
       "      <th>symbol</th>\n",
       "      <th></th>\n",
       "      <th></th>\n",
       "    </tr>\n",
       "  </thead>\n",
       "  <tbody>\n",
       "    <tr>\n",
       "      <th>A</th>\n",
       "      <td>1.190817e+06</td>\n",
       "      <td>0.185294</td>\n",
       "    </tr>\n",
       "    <tr>\n",
       "      <th>AAL</th>\n",
       "      <td>3.960736e+07</td>\n",
       "      <td>0.449055</td>\n",
       "    </tr>\n",
       "    <tr>\n",
       "      <th>AAP</th>\n",
       "      <td>7.592952e+05</td>\n",
       "      <td>0.251260</td>\n",
       "    </tr>\n",
       "    <tr>\n",
       "      <th>AAPL</th>\n",
       "      <td>7.317024e+07</td>\n",
       "      <td>0.273495</td>\n",
       "    </tr>\n",
       "    <tr>\n",
       "      <th>ABB</th>\n",
       "      <td>1.424474e+06</td>\n",
       "      <td>0.233069</td>\n",
       "    </tr>\n",
       "  </tbody>\n",
       "</table>\n",
       "</div>"
      ],
      "text/plain": [
       "        avg_daily_volume  volatility\n",
       "symbol                              \n",
       "A           1.190817e+06    0.185294\n",
       "AAL         3.960736e+07    0.449055\n",
       "AAP         7.592952e+05    0.251260\n",
       "AAPL        7.317024e+07    0.273495\n",
       "ABB         1.424474e+06    0.233069"
      ]
     },
     "execution_count": 28,
     "metadata": {},
     "output_type": "execute_result"
    }
   ],
   "source": [
    "avg_by_ticker=DataSet[['symbol','avg_daily_volume','volatility']].groupby('symbol').mean()\n",
    "avg_by_ticker.head()"
   ]
  },
  {
   "cell_type": "code",
   "execution_count": 29,
   "metadata": {
    "jupyter": {
     "source_hidden": true
    }
   },
   "outputs": [
    {
     "data": {
      "image/png": "[encoded data removed]",
      "text/plain": [
       "<Figure size 720x288 with 2 Axes>"
      ]
     },
     "metadata": {
      "needs_background": "light"
     },
     "output_type": "display_data"
    }
   ],
   "source": [
    "fig, axs=plt.subplots(1,2)\n",
    "fig.set_size_inches(10,4)\n",
    "axs[0].set_title('Average Volume of Tickers')\n",
    "axs[0].hist(avg_by_ticker['avg_daily_volume'])\n",
    "axs[0].set_yscale('log')\n",
    "axs[0].set_xlabel('Volume')\n",
    "axs[0].set_ylabel('Frequency')\n",
    "axs[1].hist(avg_by_ticker['volatility'])\n",
    "axs[1].set_xlabel('Volatility')\n",
    "axs[1].set_ylabel('Frequency')\n",
    "axs[1].set_title('Average Volatility of Tickers')\n",
    "axs[1].set_yscale('log')\n",
    "plt.savefig('vol_vol_freq_plot_per_ticker.pdf')"
   ]
  },
  {
   "cell_type": "code",
   "execution_count": 30,
   "metadata": {},
   "outputs": [
    {
     "name": "stdout",
     "output_type": "stream",
     "text": [
      "['AMC']\n",
      "['GME' 'CP']\n",
      "['IAC']\n",
      "['DVN' 'RBLX' 'OPEN' 'CLF' 'DKNG' 'PTON' 'PLUG' 'F' 'MRO']\n",
      "['CCJ' 'BIIB' 'ENPH' 'DASH' 'CVNA' 'WDC' 'CLVT' 'TECK' 'SOFI' 'RUN' 'ETSY'\n",
      " 'PCOR' 'BILL' 'UPST' 'NUE' 'RNG' 'ROKU' 'EXAS' 'SNOW' 'TTD' 'NVAX' 'NLOK'\n",
      " 'DDOG' 'AFRM' 'PENN' 'NET' 'MRNA' 'W' 'STX' 'CZR' 'DOCU' 'COIN' 'ASAN'\n",
      " 'FTCH' 'PATH' 'GH' 'AMAT' 'WIX' 'XP' 'LYV' 'BLDR']\n",
      "['AXON' 'IAC' 'SEDG' 'TXG' 'BAP' 'APP' 'WIX' 'GH' 'AFG' 'NTRA' 'LSPD' 'RH'\n",
      " 'MDB' 'ALB']\n",
      "['MSFT' 'KMI' 'SNAP' 'VIAC' 'PLTR' 'VZ' 'PFE' 'PCG' 'AAL' 'FCX' 'C' 'T'\n",
      " 'GOLD' 'UAL' 'INTC' 'XOM' 'F' 'WFC' 'BA' 'SIRI' 'AMD' 'KO' 'DISCA' 'HBAN'\n",
      " 'SLB' 'UBER' 'CSCO' 'CCL' 'CMCSA' 'PINS' 'MU' 'GM' 'TSLA' 'BAC' 'FB'\n",
      " 'OXY' 'AAPL' 'MRO' 'GE' 'ABNB']\n",
      "['GS' 'ATVI' 'BDX' 'LUMN' 'LOW' 'NUAN' 'HES' 'QCOM' 'CMA' 'BNS' 'MFC'\n",
      " 'TJX' 'CNC' 'WSM' 'DRI' 'EOG' 'VFC' 'PHM' 'UBS' 'XEL' 'HWM' 'HON' 'FITB'\n",
      " 'PPL' 'ADI' 'AON' 'RF' 'WMT' 'APH' 'MRK' 'INTU' 'ACN' 'AMAT' 'A' 'EIX'\n",
      " 'ESTC' 'PNC' 'LYFT' 'SWKS' 'HPE' 'CI' 'CF' 'FE' 'VLO' 'MCD' 'MET' 'PG'\n",
      " 'VTRS' 'TFC' 'KR' 'LYV' 'BK' 'AIG' 'ADBE' 'CB' 'AEP' 'HD' 'TGT' 'AFL'\n",
      " 'LIN' 'CAH' 'JEF' 'AMZN' 'DHI' 'WEC' 'CBRE' 'KDP' 'ZM' 'IP' 'HCA' 'SQ'\n",
      " 'NOW' 'NXPI' 'DAR' 'ORCL' 'SPGI' 'EXPD' 'COP' 'TDOC' 'U' 'MDLZ' 'ED'\n",
      " 'DAL' 'IBM' 'HPQ' 'PBA' 'WBA' 'MDT' 'FIS' 'DE' 'QSR' 'CPB' 'CTSH' 'INFO'\n",
      " 'AVGO' 'USB' 'ABNB' 'KMB' 'DG' 'IVZ' 'NVDA' 'WRK' 'COUP' 'KHC' 'AES' 'ZS'\n",
      " 'MAS' 'PYPL' 'PXD' 'CRWD' 'CMS' 'CNI' 'WM' 'CVS' 'DD' 'BWA' 'HLT' 'HAL'\n",
      " 'Z' 'SCHW' 'DISCK' 'FTV' 'RCL' 'BSY' 'VRTX' 'EBAY' 'COF' 'GILD' 'EW'\n",
      " 'BAX' 'CNHI' 'ABBV' 'OVV' 'FSLR' 'PM' 'MNST' 'PGR' 'ABT' 'CTVA' 'OKTA'\n",
      " 'AEM' 'BHC' 'NEE' 'DLTR' 'EXPE' 'RTX' 'ENB' 'TTWO' 'MRVL' 'ACGL' 'PEP'\n",
      " 'WMB' 'STT' 'DIS' 'LNT' 'AXP' 'AMCR' 'ABC' 'TD' 'FISV' 'IPG' 'SCCO' 'BLL'\n",
      " 'OTIS' 'GOOGL' 'APO' 'SO' 'ADM' 'ES' 'CNP' 'BBY' 'ICE' 'KEY' 'UNP' 'TPR'\n",
      " 'NTR' 'V' 'MGM' 'NEM' 'SYY' 'LYB' 'EXC' 'DOW' 'ZTS' 'ELAN' 'BX' 'RPRX'\n",
      " 'MTCH' 'CDNS' 'LNC' 'WAB' 'EQH' 'QRVO' 'CL' 'MMM' 'GLW' 'AKAM' 'GPN' 'DT'\n",
      " 'LRCX' 'XLNX' 'PCAR' 'BMY' 'BLDR' 'D' 'MS' 'KKR' 'UNH' 'CARR' 'MCHP'\n",
      " 'TMUS' 'SRE' 'WDAY' 'CSX' 'WPM' 'ALLY' 'EA' 'MGA' 'FDX' 'SHOP' 'JPM'\n",
      " 'UPS' 'NWSA' 'ZI' 'HIG' 'CLX' 'SU' 'CFG' 'CVE' 'MAR' 'ZBH' 'K' 'CAG'\n",
      " 'LVS' 'MMC' 'TXN' 'STLA' 'STLD' 'LUV' 'OMC' 'DELL' 'JNJ' 'LLY' 'DHR'\n",
      " 'BKR' 'FOXA' 'OKE' 'FANG' 'TWLO' 'KL' 'JCI' 'TRGP' 'ALL' 'PSX' 'AVTR'\n",
      " 'COST' 'ON' 'DFS' 'BAM' 'NKE' 'EMR' 'NTAP' 'BEN' 'TRMB' 'AEE' 'SPLK'\n",
      " 'BSX' 'HRL' 'CLR' 'SYF' 'XRAY' 'GIS' 'WYNN' 'XP' 'DB' 'LKQ' 'PPD' 'DISH'\n",
      " 'CERN' 'FAST' 'YUM' 'SPOT' 'NRG' 'SBUX' 'ROST' 'MOS' 'APTV' 'GOOG' 'FNF'\n",
      " 'CPNG' 'LBTYK' 'YUMC' 'EL' 'IR' 'CVX' 'OSH' 'TEAM' 'TSN' 'MNDY' 'TWTR'\n",
      " 'YNDX' 'MPC' 'CNQ' 'AMGN' 'PRU' 'ADP' 'CAT' 'HZNP' 'MO' 'MA' 'HOLX' 'PEG'\n",
      " 'ETN' 'NFLX' 'TER' 'ACI' 'CRM' 'DUK' 'LEN' 'PWR' 'W' 'DDOG' 'CCJ' 'KSU'\n",
      " 'ENPH' 'EXAS' 'NUE' 'ASAN' 'PINS' 'MCK' 'MRNA' 'ETSY' 'NET' 'SNOW' 'AJG'\n",
      " 'RNG' 'PENN']\n",
      "['TRI' 'CM' 'HSY' 'FFIV' 'REGN' 'LPLA' 'ZEN' 'BRKR' 'SCI' 'MOH' 'PH'\n",
      " 'RGEN' 'MKC' 'ARES' 'RPM' 'STZ' 'ILMN' 'RCI' 'OTEX' 'CG' 'CPRT' 'ORLY'\n",
      " 'SLF' 'EWBC' 'AME' 'IDXX' 'AVLR' 'GDDY' 'TECH' 'SHW' 'APD' 'PTC' 'NSC'\n",
      " 'JLL' 'ALLE' 'HEI' 'TYL' 'DGX' 'MKTX' 'CHKP' 'ETR' 'GIB' 'FTNT' 'PKI'\n",
      " 'CE' 'NDAQ' 'PLTK' 'TXT' 'ROP' 'CRL' 'FICO' 'NVR' 'URI' 'GLOB' 'ZION'\n",
      " 'TT' 'HUM' 'CTXS' 'ANSS' 'MASI' 'MLM' 'RSG' 'CSL' 'AZPN' 'ODFL' 'TSCO'\n",
      " 'BRO' 'EFX' 'SWK' 'SNX' 'FND' 'CHTR' 'QGEN' 'L' 'ANET' 'MORN' 'ANTM'\n",
      " 'PAYC' 'AZO' 'PPG' 'FIVN' 'PNR' 'VRSN' 'ATO' 'MHK' 'EPAM' 'CME' 'DPZ'\n",
      " 'BAH' 'TRV' 'KSU' 'TEL' 'PAYX' 'FIVE' 'FRC' 'HUBS' 'LH' 'CTAS' 'ROK'\n",
      " 'ENTG' 'EMN' 'AMP' 'LOGI' 'ADSK' 'RE' 'BKNG' 'BLK' 'CBOE' 'FLT' 'GWRE'\n",
      " 'NOC' 'GNRC' 'WAT' 'WST' 'MPWR' 'WLK' 'TFX' 'EVRG' 'TROW' 'CDAY' 'VMW'\n",
      " 'CMI' 'MELI' 'DOV' 'RY' 'BG' 'ZG' 'FTS' 'VRSK' 'SBNY' 'CTLT' 'ZBRA' 'WHR'\n",
      " 'PKG' 'HSIC' 'ITW' 'TU' 'TMO' 'BKI' 'RHI' 'IEX' 'LMT' 'FBHS' 'STE' 'MSCI'\n",
      " 'PEGA' 'FMC' 'SNA' 'BMRN' 'TDY' 'DTE' 'AWK' 'GD' 'LAD' 'DOX' 'MANH'\n",
      " 'LULU' 'CCEP' 'AGR' 'WAL' 'WCN' 'BR' 'CINF' 'LHX' 'MTD' 'HAS' 'MSI'\n",
      " 'PANW' 'INCY' 'SGEN' 'XLRN' 'MCK' 'KLAC' 'CDW' 'SSNC' 'DVA' 'WSO' 'PWR'\n",
      " 'IQV' 'LBRDK' 'ALGN' 'UHAL' 'JBHT' 'MTB' 'PODD' 'TFII' 'KMX' 'SC' 'DXCM'\n",
      " 'MTN' 'IT' 'SYK' 'HRC' 'FOX' 'LBRDA' 'AAP' 'ALC' 'ICLR' 'SJM' 'FDS'\n",
      " 'BURL' 'WTRG' 'GPC' 'TRP' 'ROL' 'NWS' 'VEEV' 'ALNY' 'LNG' 'BCE' 'CGNX'\n",
      " 'AVY' 'CSGP' 'LBTYA' 'MKL' 'WLTW' 'RACE' 'NVCR' 'GGG' 'TRU' 'BMO' 'JKHY'\n",
      " 'NDSN' 'XYL' 'LDOS' 'GRMN' 'IFF' 'LII' 'WRB' 'HUBB' 'J' 'GWW' 'CABO'\n",
      " 'TDG' 'NTRS' 'ABMD' 'SNPS' 'CMG' 'CHD' 'FNV' 'TTC' 'ULTA' 'CCK' 'CHRW'\n",
      " 'TREX' 'RJF' 'ISRG' 'PFG' 'POOL' 'BIO' 'VMC' 'PCTY' 'LEA' 'KEYS' 'MCO'\n",
      " 'GFL' 'RMD' 'ATH' 'COO' 'ECL' 'AJG' 'SIVB' 'WAB' 'QSR' 'SEDG' 'CLX'\n",
      " 'GOOG' 'EL' 'EXPD' 'WEC' 'WM' 'ZBH' 'ABC' 'AKAM' 'TXG' 'ALB']\n"
     ]
    }
   ],
   "source": [
    "print(DataSet[(DataSet['volatility']>1.5) & (DataSet['avg_daily_volume']>10**7) & \n",
    "              (DataSet['date']>=datetime.date(2021,6,14)) & (DataSet['date']<=datetime.date(2021,6,18))\n",
    "             & (DataSet['symbol_type']=='Common Stock')]['symbol'].unique())\n",
    "\n",
    "print(DataSet[(DataSet['volatility']>1.5) & (DataSet['avg_daily_volume']>10**6) & (DataSet['avg_daily_volume']<10**7)\n",
    "              & (DataSet['date']>=datetime.date(2021,6,14)) & (DataSet['date']<=datetime.date(2021,6,18))\n",
    "             & (DataSet['symbol_type']=='Common Stock')]['symbol'].unique())\n",
    "\n",
    "print(DataSet[(DataSet['volatility']>1.5) & (DataSet['avg_daily_volume']<10**6)\n",
    "              & (DataSet['date']>=datetime.date(2021,6,14)) & (DataSet['date']<=datetime.date(2021,6,18))\n",
    "             & (DataSet['symbol_type']=='Common Stock')]['symbol'].unique())\n",
    "\n",
    "\n",
    "print(DataSet[(DataSet['volatility']<1.5) & (DataSet['volatility']>.5) & (DataSet['avg_daily_volume']>10**7)\n",
    "              & (DataSet['date']>=datetime.date(2021,6,14)) & (DataSet['date']<=datetime.date(2021,6,18))\n",
    "             & (DataSet['symbol_type']=='Common Stock')]['symbol'].unique())\n",
    "\n",
    "print(DataSet[(DataSet['volatility']<1.5) & (DataSet['volatility']>.5) & (DataSet['avg_daily_volume']>10**6) & (DataSet['avg_daily_volume']<10**7)\n",
    "              & (DataSet['date']>=datetime.date(2021,6,14)) & (DataSet['date']<=datetime.date(2021,6,18))\n",
    "             & (DataSet['symbol_type']=='Common Stock')]['symbol'].unique())\n",
    "\n",
    "print(DataSet[(DataSet['volatility']<1.5) & (DataSet['volatility']>.5)& (DataSet['avg_daily_volume']<10**6)\n",
    "              & (DataSet['date']>=datetime.date(2021,6,14)) & (DataSet['date']<=datetime.date(2021,6,18))\n",
    "             & (DataSet['symbol_type']=='Common Stock')]['symbol'].unique())\n",
    "\n",
    "\n",
    "print(DataSet[(DataSet['volatility']<.5) & (DataSet['avg_daily_volume']>10**7)\n",
    "              & (DataSet['date']>=datetime.date(2021,6,14)) & (DataSet['date']<=datetime.date(2021,6,18))\n",
    "             & (DataSet['symbol_type']=='Common Stock')]['symbol'].unique())\n",
    "print(DataSet[(DataSet['volatility']<.5) & (DataSet['avg_daily_volume']>10**6) & (DataSet['avg_daily_volume']<10**7)\n",
    "              & (DataSet['date']>=datetime.date(2021,6,14)) & (DataSet['date']<=datetime.date(2021,6,18))\n",
    "             & (DataSet['symbol_type']=='Common Stock')]['symbol'].unique())\n",
    "print(DataSet[(DataSet['volatility']<.5) & (DataSet['avg_daily_volume']<10**6)\n",
    "              & (DataSet['date']>=datetime.date(2021,6,14)) & (DataSet['date']<=datetime.date(2021,6,18))\n",
    "             & (DataSet['symbol_type']=='Common Stock')]['symbol'].unique())"
   ]
  },
  {
   "cell_type": "code",
   "execution_count": 31,
   "metadata": {
    "jupyter": {
     "source_hidden": true
    }
   },
   "outputs": [
    {
     "data": {
      "image/png": "[encoded data removed]",
      "text/plain": [
       "<Figure size 1080x1080 with 9 Axes>"
      ]
     },
     "metadata": {
      "needs_background": "light"
     },
     "output_type": "display_data"
    }
   ],
   "source": [
    "fig, ax=plt.subplots(3,3, sharex=True, sharey=True)\n",
    "fig.set_size_inches(15,15)\n",
    "\n",
    "minutes_since_open=10.*DataSet['ordinal_times'].unique()\n",
    "dates_to_plot=[datetime.date(2021,6,14),datetime.date(2021,6,15),datetime.date(2021,6,16),datetime.date(2021,6,17),datetime.date(2021,6,18)]\n",
    "\n",
    "ticker_of_int='IAC'\n",
    "for day in dates_to_plot:\n",
    "    if len(minutes_since_open)==len(DataSet[(DataSet['symbol']==ticker_of_int) & (DataSet['date']==day)]['normalized_fut_spread']):\n",
    "        ax[0,0].plot(minutes_since_open, DataSet[(DataSet['symbol']==ticker_of_int) & (DataSet['date']==day)]['normalized_fut_spread'])\n",
    "ax[0,0].set_title('high volatility, low volume (IAC)')\n",
    "\n",
    "ticker_of_int='CP'\n",
    "for day in dates_to_plot:\n",
    "    if len(minutes_since_open)==len(DataSet[(DataSet['symbol']==ticker_of_int) & (DataSet['date']==day)]['normalized_fut_spread']):\n",
    "        ax[0,1].plot(minutes_since_open, DataSet[(DataSet['symbol']==ticker_of_int) & (DataSet['date']==day)]['normalized_fut_spread'])\n",
    "ax[0,1].set_title('high volatility, mid volume (CP)')\n",
    "\n",
    "ticker_of_int='AMC'\n",
    "for day in dates_to_plot:\n",
    "    if len(minutes_since_open)==len(DataSet[(DataSet['symbol']==ticker_of_int) & (DataSet['date']==day)]['normalized_fut_spread']):\n",
    "        ax[0,2].plot(minutes_since_open, DataSet[(DataSet['symbol']==ticker_of_int) & (DataSet['date']==day)]['normalized_fut_spread'])\n",
    "ax[0,2].set_title('high volatility, high volume (AMC)')\n",
    "\n",
    "ticker_of_int='AXON'\n",
    "for day in dates_to_plot:\n",
    "    if len(minutes_since_open)==len(DataSet[(DataSet['symbol']==ticker_of_int) & (DataSet['date']==day)]['normalized_fut_spread']):\n",
    "        ax[1,0].plot(minutes_since_open, DataSet[(DataSet['symbol']==ticker_of_int) & (DataSet['date']==day)]['normalized_fut_spread'])\n",
    "ax[1,0].set_title('mid volatility, low volume (AXON)')\n",
    "\n",
    "ticker_of_int='CCJ'\n",
    "for day in dates_to_plot:\n",
    "    if len(minutes_since_open)==len(DataSet[(DataSet['symbol']==ticker_of_int) & (DataSet['date']==day)]['normalized_fut_spread']):\n",
    "        ax[1,1].plot(minutes_since_open, DataSet[(DataSet['symbol']==ticker_of_int) & (DataSet['date']==day)]['normalized_fut_spread'])\n",
    "ax[1,1].set_title('mid volatility, mid volume (CCJ)')\n",
    "\n",
    "ticker_of_int='DVN'\n",
    "for day in dates_to_plot:\n",
    "    if len(minutes_since_open)==len(DataSet[(DataSet['symbol']==ticker_of_int) & (DataSet['date']==day)]['normalized_fut_spread']):\n",
    "        ax[1,2].plot(minutes_since_open, DataSet[(DataSet['symbol']==ticker_of_int) & (DataSet['date']==day)]['normalized_fut_spread'])\n",
    "ax[1,2].set_title('mid volatility, high volume (DVN)')\n",
    "\n",
    "ticker_of_int='REGN'\n",
    "for day in dates_to_plot:\n",
    "    if len(minutes_since_open)==len(DataSet[(DataSet['symbol']==ticker_of_int) & (DataSet['date']==day)]['normalized_fut_spread']):\n",
    "        ax[2,0].plot(minutes_since_open, DataSet[(DataSet['symbol']==ticker_of_int) & (DataSet['date']==day)]['normalized_fut_spread'])\n",
    "ax[2,0].set_title('low volatility, low volume (REGN)')\n",
    "\n",
    "ticker_of_int='GS'\n",
    "for day in dates_to_plot:\n",
    "    if len(minutes_since_open)==len(DataSet[(DataSet['symbol']==ticker_of_int) & (DataSet['date']==day)]['normalized_fut_spread']):\n",
    "        ax[2,1].plot(minutes_since_open, DataSet[(DataSet['symbol']==ticker_of_int) & (DataSet['date']==day)]['normalized_fut_spread'])\n",
    "ax[2,1].set_title('low volatility, mid volume (GS)')\n",
    "\n",
    "ticker_of_int='MSFT'\n",
    "for day in dates_to_plot:\n",
    "    if len(minutes_since_open)==len(DataSet[(DataSet['symbol']==ticker_of_int) & (DataSet['date']==day)]['normalized_fut_spread']):\n",
    "        ax[2,2].plot(minutes_since_open, DataSet[(DataSet['symbol']==ticker_of_int) & (DataSet['date']==day)]['normalized_fut_spread'])\n",
    "ax[2,2].set_title('low volatility, high volume (MSFT)')\n",
    "\n",
    "plt.savefig('Volatility_vs_Volume.pdf')"
   ]
  },
  {
   "cell_type": "code",
   "execution_count": 32,
   "metadata": {},
   "outputs": [
    {
     "data": {
      "text/html": [
       "<div>\n",
       "<style scoped>\n",
       "    .dataframe tbody tr th:only-of-type {\n",
       "        vertical-align: middle;\n",
       "    }\n",
       "\n",
       "    .dataframe tbody tr th {\n",
       "        vertical-align: top;\n",
       "    }\n",
       "\n",
       "    .dataframe thead th {\n",
       "        text-align: right;\n",
       "    }\n",
       "</style>\n",
       "<table border=\"1\" class=\"dataframe\">\n",
       "  <thead>\n",
       "    <tr style=\"text-align: right;\">\n",
       "      <th></th>\n",
       "      <th>avg_daily_volume_avg</th>\n",
       "      <th>volatility_avg</th>\n",
       "      <th>fut_spread_avg</th>\n",
       "      <th>avg_daily_volume_std</th>\n",
       "      <th>volatility_std</th>\n",
       "      <th>fut_spread_std</th>\n",
       "    </tr>\n",
       "    <tr>\n",
       "      <th>symbol_type</th>\n",
       "      <th></th>\n",
       "      <th></th>\n",
       "      <th></th>\n",
       "      <th></th>\n",
       "      <th></th>\n",
       "      <th></th>\n",
       "    </tr>\n",
       "  </thead>\n",
       "  <tbody>\n",
       "    <tr>\n",
       "      <th>ADR</th>\n",
       "      <td>6.729040e+06</td>\n",
       "      <td>0.385499</td>\n",
       "      <td>0.063461</td>\n",
       "      <td>1.527040e+07</td>\n",
       "      <td>0.303837</td>\n",
       "      <td>0.189559</td>\n",
       "    </tr>\n",
       "    <tr>\n",
       "      <th>Common Stock</th>\n",
       "      <td>3.479819e+06</td>\n",
       "      <td>0.326581</td>\n",
       "      <td>0.166805</td>\n",
       "      <td>9.196941e+06</td>\n",
       "      <td>0.325911</td>\n",
       "      <td>0.610921</td>\n",
       "    </tr>\n",
       "    <tr>\n",
       "      <th>ETP</th>\n",
       "      <td>4.788620e+06</td>\n",
       "      <td>0.162414</td>\n",
       "      <td>0.029905</td>\n",
       "      <td>9.098183e+06</td>\n",
       "      <td>0.086231</td>\n",
       "      <td>0.045162</td>\n",
       "    </tr>\n",
       "    <tr>\n",
       "      <th>Ltd Part</th>\n",
       "      <td>2.403466e+05</td>\n",
       "      <td>0.149166</td>\n",
       "      <td>0.041311</td>\n",
       "      <td>4.740135e+04</td>\n",
       "      <td>0.033897</td>\n",
       "      <td>0.019937</td>\n",
       "    </tr>\n",
       "    <tr>\n",
       "      <th>MLP</th>\n",
       "      <td>5.223539e+06</td>\n",
       "      <td>0.261230</td>\n",
       "      <td>0.035309</td>\n",
       "      <td>6.416160e+06</td>\n",
       "      <td>0.076364</td>\n",
       "      <td>0.051603</td>\n",
       "    </tr>\n",
       "    <tr>\n",
       "      <th>NY Reg Shrs</th>\n",
       "      <td>1.811098e+06</td>\n",
       "      <td>0.360900</td>\n",
       "      <td>0.117271</td>\n",
       "      <td>1.538434e+06</td>\n",
       "      <td>0.097086</td>\n",
       "      <td>0.204124</td>\n",
       "    </tr>\n",
       "    <tr>\n",
       "      <th>REIT</th>\n",
       "      <td>1.783624e+06</td>\n",
       "      <td>0.262028</td>\n",
       "      <td>0.073727</td>\n",
       "      <td>2.177627e+06</td>\n",
       "      <td>0.338662</td>\n",
       "      <td>0.138918</td>\n",
       "    </tr>\n",
       "    <tr>\n",
       "      <th>Tracking Stk</th>\n",
       "      <td>6.075667e+05</td>\n",
       "      <td>0.265130</td>\n",
       "      <td>0.051341</td>\n",
       "      <td>1.210284e+05</td>\n",
       "      <td>0.060252</td>\n",
       "      <td>0.039726</td>\n",
       "    </tr>\n",
       "  </tbody>\n",
       "</table>\n",
       "</div>"
      ],
      "text/plain": [
       "              avg_daily_volume_avg  volatility_avg  fut_spread_avg  \\\n",
       "symbol_type                                                          \n",
       "ADR                   6.729040e+06        0.385499        0.063461   \n",
       "Common Stock          3.479819e+06        0.326581        0.166805   \n",
       "ETP                   4.788620e+06        0.162414        0.029905   \n",
       "Ltd Part              2.403466e+05        0.149166        0.041311   \n",
       "MLP                   5.223539e+06        0.261230        0.035309   \n",
       "NY Reg Shrs           1.811098e+06        0.360900        0.117271   \n",
       "REIT                  1.783624e+06        0.262028        0.073727   \n",
       "Tracking Stk          6.075667e+05        0.265130        0.051341   \n",
       "\n",
       "              avg_daily_volume_std  volatility_std  fut_spread_std  \n",
       "symbol_type                                                         \n",
       "ADR                   1.527040e+07        0.303837        0.189559  \n",
       "Common Stock          9.196941e+06        0.325911        0.610921  \n",
       "ETP                   9.098183e+06        0.086231        0.045162  \n",
       "Ltd Part              4.740135e+04        0.033897        0.019937  \n",
       "MLP                   6.416160e+06        0.076364        0.051603  \n",
       "NY Reg Shrs           1.538434e+06        0.097086        0.204124  \n",
       "REIT                  2.177627e+06        0.338662        0.138918  \n",
       "Tracking Stk          1.210284e+05        0.060252        0.039726  "
      ]
     },
     "execution_count": 32,
     "metadata": {},
     "output_type": "execute_result"
    }
   ],
   "source": [
    "avg_by_symbol_type=DataSet[['symbol_type','avg_daily_volume','volatility','fut_spread']].groupby('symbol_type').mean()\n",
    "std_by_symbol_type=DataSet[['symbol_type','avg_daily_volume','volatility','fut_spread']].groupby('symbol_type').std()\n",
    "avg_and_std_by_symbol_type=pd.merge(avg_by_symbol_type, std_by_symbol_type, on='symbol_type', suffixes=('_avg', '_std'))\n",
    "avg_and_std_by_symbol_type"
   ]
  },
  {
   "cell_type": "code",
   "execution_count": 33,
   "metadata": {},
   "outputs": [
    {
     "data": {
      "image/png": "[encoded data removed]",
      "text/plain": [
       "<Figure size 864x864 with 4 Axes>"
      ]
     },
     "metadata": {
      "needs_background": "light"
     },
     "output_type": "display_data"
    }
   ],
   "source": [
    "fig, axs=plt.subplots(2,2, sharey=True)\n",
    "fig.set_size_inches(12,12)\n",
    "axs[0,0].plot(np.log(DataSet[(DataSet['symbol']=='GRUB') & (DataSet['ordinal_times']==0)]['avg_daily_volume']), DataSet[(DataSet['symbol']=='GRUB')  & (DataSet['ordinal_times']==0)]['normalized_fut_spread'],ls=\"none\", Marker='.',ms=5)\n",
    "axs[0,0].set_xlabel('log(avg_daily_volume)')\n",
    "axs[0,0].set_ylabel('normalized_future_spread')\n",
    "axs[0,0].set_title('GRUB (ADR)')\n",
    "\n",
    "axs[0,1].plot(np.log(DataSet[(DataSet['symbol']=='IAC') & (DataSet['ordinal_times']==0)]['avg_daily_volume']), DataSet[(DataSet['symbol']=='IAC') & (DataSet['ordinal_times']==0)]['normalized_fut_spread'],ls=\"none\", Marker='.',ms=5)\n",
    "axs[0,1].set_xlabel('log(avg_daily_volume)')\n",
    "axs[0,1].set_ylabel('normalized_future_spread')\n",
    "axs[0,1].set_title('IAC (Common Stock)')\n",
    "\n",
    "axs[1,0].plot(DataSet[(DataSet['symbol']=='GRUB') & (DataSet['ordinal_times']==0)]['volatility'], DataSet[(DataSet['symbol']=='GRUB') & (DataSet['ordinal_times']==0)]['normalized_fut_spread'],ls=\"none\", Marker='.',ms=5)\n",
    "axs[1,0].set_xlabel('volatility')\n",
    "axs[1,0].set_ylabel('normalized_future_spread')\n",
    "axs[1,0].set_title('GRUB (ADR)')\n",
    "\n",
    "axs[1,1].plot(DataSet[(DataSet['symbol']=='IAC') & (DataSet['ordinal_times']==0)]['volatility'], DataSet[(DataSet['symbol']=='IAC') & (DataSet['ordinal_times']==0)]['normalized_fut_spread'],ls=\"none\", Marker='.',ms=5)\n",
    "axs[1,1].set_xlabel('volatility')\n",
    "axs[1,1].set_ylabel('normalized_future_spread')\n",
    "axs[1,1].set_title('IAC (Common Stock)')\n",
    "plt.show()"
   ]
  },
  {
   "cell_type": "code",
   "execution_count": 219,
   "metadata": {},
   "outputs": [
    {
     "ename": "KeyError",
     "evalue": "\"['recip_ordinal_times'] not in index\"",
     "output_type": "error",
     "traceback": [
      "\u001b[0;31m---------------------------------------------------------------------------\u001b[0m",
      "\u001b[0;31mKeyError\u001b[0m                                  Traceback (most recent call last)",
      "\u001b[0;32m<ipython-input-219-e029f1a54a2b>\u001b[0m in \u001b[0;36m<module>\u001b[0;34m\u001b[0m\n\u001b[0;32m----> 1\u001b[0;31m \u001b[0mx_train\u001b[0m\u001b[0;34m,\u001b[0m \u001b[0mx_test\u001b[0m\u001b[0;34m,\u001b[0m \u001b[0my_train\u001b[0m\u001b[0;34m,\u001b[0m \u001b[0my_test\u001b[0m\u001b[0;34m=\u001b[0m\u001b[0msplitData\u001b[0m\u001b[0;34m(\u001b[0m\u001b[0mDataSet\u001b[0m\u001b[0;34m[\u001b[0m\u001b[0mDataSet\u001b[0m\u001b[0;34m[\u001b[0m\u001b[0;34m'symbol'\u001b[0m\u001b[0;34m]\u001b[0m\u001b[0;34m==\u001b[0m\u001b[0;34m'ZS'\u001b[0m\u001b[0;34m]\u001b[0m\u001b[0;34m,\u001b[0m \u001b[0mstaticFeatures\u001b[0m\u001b[0;34m+\u001b[0m\u001b[0;34m[\u001b[0m\u001b[0;34m'recip_ordinal_times'\u001b[0m\u001b[0;34m]\u001b[0m\u001b[0;34m,\u001b[0m \u001b[0;34m'fut_spread'\u001b[0m\u001b[0;34m,\u001b[0m \u001b[0;36m0.1\u001b[0m\u001b[0;34m)\u001b[0m\u001b[0;34m\u001b[0m\u001b[0;34m\u001b[0m\u001b[0m\n\u001b[0m\u001b[1;32m      2\u001b[0m \u001b[0;34m\u001b[0m\u001b[0m\n\u001b[1;32m      3\u001b[0m \u001b[0mPredictor\u001b[0m\u001b[0;34m=\u001b[0m\u001b[0mRidge\u001b[0m\u001b[0;34m(\u001b[0m\u001b[0malpha\u001b[0m\u001b[0;34m=\u001b[0m\u001b[0;36m0.00001\u001b[0m\u001b[0;34m,\u001b[0m\u001b[0mnormalize\u001b[0m\u001b[0;34m=\u001b[0m\u001b[0;32mTrue\u001b[0m\u001b[0;34m)\u001b[0m\u001b[0;34m.\u001b[0m\u001b[0mfit\u001b[0m\u001b[0;34m(\u001b[0m\u001b[0mx_train\u001b[0m\u001b[0;34m,\u001b[0m \u001b[0my_train\u001b[0m\u001b[0;34m)\u001b[0m\u001b[0;34m\u001b[0m\u001b[0;34m\u001b[0m\u001b[0m\n\u001b[1;32m      4\u001b[0m \u001b[0;34m\u001b[0m\u001b[0m\n\u001b[1;32m      5\u001b[0m \u001b[0mprint\u001b[0m\u001b[0;34m(\u001b[0m\u001b[0mPredictor\u001b[0m\u001b[0;34m.\u001b[0m\u001b[0mcoef_\u001b[0m\u001b[0;34m)\u001b[0m\u001b[0;34m\u001b[0m\u001b[0;34m\u001b[0m\u001b[0m\n",
      "\u001b[0;32m<ipython-input-4-a0d1447f500c>\u001b[0m in \u001b[0;36msplitData\u001b[0;34m(data, features, target, test_fraction, set_seed)\u001b[0m\n\u001b[1;32m      1\u001b[0m \u001b[0;32mdef\u001b[0m \u001b[0msplitData\u001b[0m\u001b[0;34m(\u001b[0m\u001b[0mdata\u001b[0m\u001b[0;34m,\u001b[0m \u001b[0mfeatures\u001b[0m\u001b[0;34m,\u001b[0m \u001b[0mtarget\u001b[0m\u001b[0;34m,\u001b[0m \u001b[0mtest_fraction\u001b[0m\u001b[0;34m,\u001b[0m \u001b[0mset_seed\u001b[0m\u001b[0;34m=\u001b[0m\u001b[0;32mFalse\u001b[0m\u001b[0;34m)\u001b[0m\u001b[0;34m:\u001b[0m\u001b[0;34m\u001b[0m\u001b[0;34m\u001b[0m\u001b[0m\n\u001b[1;32m      2\u001b[0m     \u001b[0;31m#splitting data into train and test\u001b[0m\u001b[0;34m\u001b[0m\u001b[0;34m\u001b[0m\u001b[0;34m\u001b[0m\u001b[0m\n\u001b[0;32m----> 3\u001b[0;31m     \u001b[0mx\u001b[0m\u001b[0;34m=\u001b[0m\u001b[0mdata\u001b[0m\u001b[0;34m[\u001b[0m\u001b[0mfeatures\u001b[0m\u001b[0;34m]\u001b[0m\u001b[0;34m\u001b[0m\u001b[0;34m\u001b[0m\u001b[0m\n\u001b[0m\u001b[1;32m      4\u001b[0m     \u001b[0my\u001b[0m\u001b[0;34m=\u001b[0m\u001b[0mdata\u001b[0m\u001b[0;34m[\u001b[0m\u001b[0mtarget\u001b[0m\u001b[0;34m]\u001b[0m\u001b[0;34m\u001b[0m\u001b[0;34m\u001b[0m\u001b[0m\n\u001b[1;32m      5\u001b[0m     \u001b[0;32mif\u001b[0m \u001b[0mset_seed\u001b[0m\u001b[0;34m==\u001b[0m\u001b[0;32mTrue\u001b[0m\u001b[0;34m:\u001b[0m\u001b[0;34m\u001b[0m\u001b[0;34m\u001b[0m\u001b[0m\n",
      "\u001b[0;32m/opt/anaconda3/lib/python3.7/site-packages/pandas/core/frame.py\u001b[0m in \u001b[0;36m__getitem__\u001b[0;34m(self, key)\u001b[0m\n\u001b[1;32m   3462\u001b[0m             \u001b[0;32mif\u001b[0m \u001b[0mis_iterator\u001b[0m\u001b[0;34m(\u001b[0m\u001b[0mkey\u001b[0m\u001b[0;34m)\u001b[0m\u001b[0;34m:\u001b[0m\u001b[0;34m\u001b[0m\u001b[0;34m\u001b[0m\u001b[0m\n\u001b[1;32m   3463\u001b[0m                 \u001b[0mkey\u001b[0m \u001b[0;34m=\u001b[0m \u001b[0mlist\u001b[0m\u001b[0;34m(\u001b[0m\u001b[0mkey\u001b[0m\u001b[0;34m)\u001b[0m\u001b[0;34m\u001b[0m\u001b[0;34m\u001b[0m\u001b[0m\n\u001b[0;32m-> 3464\u001b[0;31m             \u001b[0mindexer\u001b[0m \u001b[0;34m=\u001b[0m \u001b[0mself\u001b[0m\u001b[0;34m.\u001b[0m\u001b[0mloc\u001b[0m\u001b[0;34m.\u001b[0m\u001b[0m_get_listlike_indexer\u001b[0m\u001b[0;34m(\u001b[0m\u001b[0mkey\u001b[0m\u001b[0;34m,\u001b[0m \u001b[0maxis\u001b[0m\u001b[0;34m=\u001b[0m\u001b[0;36m1\u001b[0m\u001b[0;34m)\u001b[0m\u001b[0;34m[\u001b[0m\u001b[0;36m1\u001b[0m\u001b[0;34m]\u001b[0m\u001b[0;34m\u001b[0m\u001b[0;34m\u001b[0m\u001b[0m\n\u001b[0m\u001b[1;32m   3465\u001b[0m \u001b[0;34m\u001b[0m\u001b[0m\n\u001b[1;32m   3466\u001b[0m         \u001b[0;31m# take() does not accept boolean indexers\u001b[0m\u001b[0;34m\u001b[0m\u001b[0;34m\u001b[0m\u001b[0;34m\u001b[0m\u001b[0m\n",
      "\u001b[0;32m/opt/anaconda3/lib/python3.7/site-packages/pandas/core/indexing.py\u001b[0m in \u001b[0;36m_get_listlike_indexer\u001b[0;34m(self, key, axis)\u001b[0m\n\u001b[1;32m   1312\u001b[0m             \u001b[0mkeyarr\u001b[0m\u001b[0;34m,\u001b[0m \u001b[0mindexer\u001b[0m\u001b[0;34m,\u001b[0m \u001b[0mnew_indexer\u001b[0m \u001b[0;34m=\u001b[0m \u001b[0max\u001b[0m\u001b[0;34m.\u001b[0m\u001b[0m_reindex_non_unique\u001b[0m\u001b[0;34m(\u001b[0m\u001b[0mkeyarr\u001b[0m\u001b[0;34m)\u001b[0m\u001b[0;34m\u001b[0m\u001b[0;34m\u001b[0m\u001b[0m\n\u001b[1;32m   1313\u001b[0m \u001b[0;34m\u001b[0m\u001b[0m\n\u001b[0;32m-> 1314\u001b[0;31m         \u001b[0mself\u001b[0m\u001b[0;34m.\u001b[0m\u001b[0m_validate_read_indexer\u001b[0m\u001b[0;34m(\u001b[0m\u001b[0mkeyarr\u001b[0m\u001b[0;34m,\u001b[0m \u001b[0mindexer\u001b[0m\u001b[0;34m,\u001b[0m \u001b[0maxis\u001b[0m\u001b[0;34m)\u001b[0m\u001b[0;34m\u001b[0m\u001b[0;34m\u001b[0m\u001b[0m\n\u001b[0m\u001b[1;32m   1315\u001b[0m \u001b[0;34m\u001b[0m\u001b[0m\n\u001b[1;32m   1316\u001b[0m         if needs_i8_conversion(ax.dtype) or isinstance(\n",
      "\u001b[0;32m/opt/anaconda3/lib/python3.7/site-packages/pandas/core/indexing.py\u001b[0m in \u001b[0;36m_validate_read_indexer\u001b[0;34m(self, key, indexer, axis)\u001b[0m\n\u001b[1;32m   1375\u001b[0m \u001b[0;34m\u001b[0m\u001b[0m\n\u001b[1;32m   1376\u001b[0m             \u001b[0mnot_found\u001b[0m \u001b[0;34m=\u001b[0m \u001b[0mlist\u001b[0m\u001b[0;34m(\u001b[0m\u001b[0mensure_index\u001b[0m\u001b[0;34m(\u001b[0m\u001b[0mkey\u001b[0m\u001b[0;34m)\u001b[0m\u001b[0;34m[\u001b[0m\u001b[0mmissing_mask\u001b[0m\u001b[0;34m.\u001b[0m\u001b[0mnonzero\u001b[0m\u001b[0;34m(\u001b[0m\u001b[0;34m)\u001b[0m\u001b[0;34m[\u001b[0m\u001b[0;36m0\u001b[0m\u001b[0;34m]\u001b[0m\u001b[0;34m]\u001b[0m\u001b[0;34m.\u001b[0m\u001b[0munique\u001b[0m\u001b[0;34m(\u001b[0m\u001b[0;34m)\u001b[0m\u001b[0;34m)\u001b[0m\u001b[0;34m\u001b[0m\u001b[0;34m\u001b[0m\u001b[0m\n\u001b[0;32m-> 1377\u001b[0;31m             \u001b[0;32mraise\u001b[0m \u001b[0mKeyError\u001b[0m\u001b[0;34m(\u001b[0m\u001b[0;34mf\"{not_found} not in index\"\u001b[0m\u001b[0;34m)\u001b[0m\u001b[0;34m\u001b[0m\u001b[0;34m\u001b[0m\u001b[0m\n\u001b[0m\u001b[1;32m   1378\u001b[0m \u001b[0;34m\u001b[0m\u001b[0m\n\u001b[1;32m   1379\u001b[0m \u001b[0;34m\u001b[0m\u001b[0m\n",
      "\u001b[0;31mKeyError\u001b[0m: \"['recip_ordinal_times'] not in index\""
     ]
    }
   ],
   "source": [
    "x_train, x_test, y_train, y_test=splitData(DataSet[DataSet['symbol']=='ZS'], staticFeatures+['recip_ordinal_times'], 'fut_spread', 0.1)\n",
    "\n",
    "Predictor=Ridge(alpha=0.00001,normalize=True).fit(x_train, y_train)\n",
    "\n",
    "print(Predictor.coef_)\n",
    "\n",
    "print(Predictor.score(x_test, y_test))\n",
    "\n",
    "y_test_pred=Predictor.predict(x_test)\n",
    "\n",
    "error=(y_test_pred-y_test)**2\n",
    "RMSE=np.sqrt(error.sum()/len(y_test))\n",
    "\n",
    "print(RMSE/DataSet[(DataSet['symbol']=='ZS')]['fut_spread'].std())\n",
    "\n",
    "plt.plot(y_test, y_test_pred,ls='none', MarkerSize=4, Marker='.')\n",
    "\n",
    "plt.xlim(0,3)\n",
    "plt.ylim(0,3)"
   ]
  },
  {
   "cell_type": "code",
   "execution_count": 69,
   "metadata": {},
   "outputs": [
    {
     "name": "stderr",
     "output_type": "stream",
     "text": [
      "0it [00:00, ?it/s]\n"
     ]
    },
    {
     "ename": "KeyError",
     "evalue": "\"['exp_ordinal_times'] not in index\"",
     "output_type": "error",
     "traceback": [
      "\u001b[0;31m---------------------------------------------------------------------------\u001b[0m",
      "\u001b[0;31mKeyError\u001b[0m                                  Traceback (most recent call last)",
      "\u001b[0;32m<ipython-input-69-a484eaa6745f>\u001b[0m in \u001b[0;36m<module>\u001b[0;34m\u001b[0m\n\u001b[1;32m     14\u001b[0m \u001b[0;34m\u001b[0m\u001b[0m\n\u001b[1;32m     15\u001b[0m \u001b[0;32mfor\u001b[0m \u001b[0mindex\u001b[0m\u001b[0;34m,\u001b[0m \u001b[0malpha\u001b[0m \u001b[0;32min\u001b[0m \u001b[0mtqdm\u001b[0m\u001b[0;34m(\u001b[0m\u001b[0menumerate\u001b[0m\u001b[0;34m(\u001b[0m\u001b[0malphas\u001b[0m\u001b[0;34m)\u001b[0m\u001b[0;34m)\u001b[0m\u001b[0;34m:\u001b[0m\u001b[0;34m\u001b[0m\u001b[0;34m\u001b[0m\u001b[0m\n\u001b[0;32m---> 16\u001b[0;31m     \u001b[0;34m(\u001b[0m\u001b[0mLasso_fit\u001b[0m\u001b[0;34m,\u001b[0m \u001b[0mx_train\u001b[0m\u001b[0;34m,\u001b[0m \u001b[0mx_test\u001b[0m\u001b[0;34m,\u001b[0m \u001b[0my_train\u001b[0m\u001b[0;34m,\u001b[0m \u001b[0my_test\u001b[0m\u001b[0;34m)\u001b[0m\u001b[0;34m=\u001b[0m\u001b[0mLassoFitter\u001b[0m\u001b[0;34m(\u001b[0m\u001b[0mDataSet\u001b[0m\u001b[0;34m,\u001b[0m\u001b[0msymbol_type\u001b[0m\u001b[0;34m,\u001b[0m \u001b[0mstaticFeatures_lasso\u001b[0m\u001b[0;34m,\u001b[0m \u001b[0mtarget\u001b[0m\u001b[0;34m,\u001b[0m \u001b[0mtestsize\u001b[0m\u001b[0;34m,\u001b[0m \u001b[0malpha\u001b[0m\u001b[0;34m)\u001b[0m\u001b[0;34m\u001b[0m\u001b[0;34m\u001b[0m\u001b[0m\n\u001b[0m\u001b[1;32m     17\u001b[0m     \u001b[0my_train_pred\u001b[0m\u001b[0;34m=\u001b[0m\u001b[0mLasso_fit\u001b[0m\u001b[0;34m.\u001b[0m\u001b[0mpredict\u001b[0m\u001b[0;34m(\u001b[0m\u001b[0mx_train\u001b[0m\u001b[0;34m)\u001b[0m\u001b[0;34m\u001b[0m\u001b[0;34m\u001b[0m\u001b[0m\n\u001b[1;32m     18\u001b[0m     \u001b[0my_test_pred\u001b[0m\u001b[0;34m=\u001b[0m\u001b[0mLasso_fit\u001b[0m\u001b[0;34m.\u001b[0m\u001b[0mpredict\u001b[0m\u001b[0;34m(\u001b[0m\u001b[0mx_test\u001b[0m\u001b[0;34m)\u001b[0m\u001b[0;34m\u001b[0m\u001b[0;34m\u001b[0m\u001b[0m\n",
      "\u001b[0;32m<ipython-input-6-ab67ee4597c0>\u001b[0m in \u001b[0;36mLassoFitter\u001b[0;34m(DataSet, symbol_type, features, target, testsize, alpha, set_seed)\u001b[0m\n\u001b[1;32m      1\u001b[0m \u001b[0;32mdef\u001b[0m \u001b[0mLassoFitter\u001b[0m\u001b[0;34m(\u001b[0m\u001b[0mDataSet\u001b[0m\u001b[0;34m,\u001b[0m\u001b[0msymbol_type\u001b[0m\u001b[0;34m,\u001b[0m \u001b[0mfeatures\u001b[0m\u001b[0;34m,\u001b[0m \u001b[0mtarget\u001b[0m\u001b[0;34m,\u001b[0m \u001b[0mtestsize\u001b[0m\u001b[0;34m,\u001b[0m \u001b[0malpha\u001b[0m\u001b[0;34m,\u001b[0m \u001b[0mset_seed\u001b[0m\u001b[0;34m=\u001b[0m\u001b[0;32mFalse\u001b[0m\u001b[0;34m)\u001b[0m\u001b[0;34m:\u001b[0m\u001b[0;34m\u001b[0m\u001b[0;34m\u001b[0m\u001b[0m\n\u001b[1;32m      2\u001b[0m     \u001b[0mDataSet\u001b[0m\u001b[0;34m=\u001b[0m\u001b[0mDataSet\u001b[0m\u001b[0;34m[\u001b[0m\u001b[0mDataSet\u001b[0m\u001b[0;34m[\u001b[0m\u001b[0;34m'symbol_type'\u001b[0m\u001b[0;34m]\u001b[0m\u001b[0;34m==\u001b[0m\u001b[0msymbol_type\u001b[0m\u001b[0;34m]\u001b[0m\u001b[0;34m\u001b[0m\u001b[0;34m\u001b[0m\u001b[0m\n\u001b[0;32m----> 3\u001b[0;31m     \u001b[0mx_train\u001b[0m\u001b[0;34m,\u001b[0m \u001b[0mx_test\u001b[0m\u001b[0;34m,\u001b[0m \u001b[0my_train\u001b[0m\u001b[0;34m,\u001b[0m \u001b[0my_test\u001b[0m\u001b[0;34m=\u001b[0m\u001b[0msplitData\u001b[0m\u001b[0;34m(\u001b[0m\u001b[0mDataSet\u001b[0m\u001b[0;34m,\u001b[0m \u001b[0mfeatures\u001b[0m\u001b[0;34m,\u001b[0m \u001b[0mtarget\u001b[0m\u001b[0;34m,\u001b[0m \u001b[0mtestsize\u001b[0m\u001b[0;34m,\u001b[0m \u001b[0mset_seed\u001b[0m\u001b[0;34m)\u001b[0m\u001b[0;34m\u001b[0m\u001b[0;34m\u001b[0m\u001b[0m\n\u001b[0m\u001b[1;32m      4\u001b[0m \u001b[0;34m\u001b[0m\u001b[0m\n\u001b[1;32m      5\u001b[0m     \u001b[0mLasso_fit\u001b[0m\u001b[0;34m=\u001b[0m\u001b[0mLasso\u001b[0m\u001b[0;34m(\u001b[0m\u001b[0malpha\u001b[0m\u001b[0;34m,\u001b[0m \u001b[0mnormalize\u001b[0m\u001b[0;34m=\u001b[0m\u001b[0;32mTrue\u001b[0m\u001b[0;34m)\u001b[0m\u001b[0;34m.\u001b[0m\u001b[0mfit\u001b[0m\u001b[0;34m(\u001b[0m\u001b[0mx_train\u001b[0m\u001b[0;34m,\u001b[0m \u001b[0my_train\u001b[0m\u001b[0;34m)\u001b[0m\u001b[0;34m\u001b[0m\u001b[0;34m\u001b[0m\u001b[0m\n",
      "\u001b[0;32m<ipython-input-3-a0d1447f500c>\u001b[0m in \u001b[0;36msplitData\u001b[0;34m(data, features, target, test_fraction, set_seed)\u001b[0m\n\u001b[1;32m      1\u001b[0m \u001b[0;32mdef\u001b[0m \u001b[0msplitData\u001b[0m\u001b[0;34m(\u001b[0m\u001b[0mdata\u001b[0m\u001b[0;34m,\u001b[0m \u001b[0mfeatures\u001b[0m\u001b[0;34m,\u001b[0m \u001b[0mtarget\u001b[0m\u001b[0;34m,\u001b[0m \u001b[0mtest_fraction\u001b[0m\u001b[0;34m,\u001b[0m \u001b[0mset_seed\u001b[0m\u001b[0;34m=\u001b[0m\u001b[0;32mFalse\u001b[0m\u001b[0;34m)\u001b[0m\u001b[0;34m:\u001b[0m\u001b[0;34m\u001b[0m\u001b[0;34m\u001b[0m\u001b[0m\n\u001b[1;32m      2\u001b[0m     \u001b[0;31m#splitting data into train and test\u001b[0m\u001b[0;34m\u001b[0m\u001b[0;34m\u001b[0m\u001b[0;34m\u001b[0m\u001b[0m\n\u001b[0;32m----> 3\u001b[0;31m     \u001b[0mx\u001b[0m\u001b[0;34m=\u001b[0m\u001b[0mdata\u001b[0m\u001b[0;34m[\u001b[0m\u001b[0mfeatures\u001b[0m\u001b[0;34m]\u001b[0m\u001b[0;34m\u001b[0m\u001b[0;34m\u001b[0m\u001b[0m\n\u001b[0m\u001b[1;32m      4\u001b[0m     \u001b[0my\u001b[0m\u001b[0;34m=\u001b[0m\u001b[0mdata\u001b[0m\u001b[0;34m[\u001b[0m\u001b[0mtarget\u001b[0m\u001b[0;34m]\u001b[0m\u001b[0;34m\u001b[0m\u001b[0;34m\u001b[0m\u001b[0m\n\u001b[1;32m      5\u001b[0m     \u001b[0;32mif\u001b[0m \u001b[0mset_seed\u001b[0m\u001b[0;34m==\u001b[0m\u001b[0;32mTrue\u001b[0m\u001b[0;34m:\u001b[0m\u001b[0;34m\u001b[0m\u001b[0;34m\u001b[0m\u001b[0m\n",
      "\u001b[0;32m/opt/anaconda3/lib/python3.7/site-packages/pandas/core/frame.py\u001b[0m in \u001b[0;36m__getitem__\u001b[0;34m(self, key)\u001b[0m\n\u001b[1;32m   3462\u001b[0m             \u001b[0;32mif\u001b[0m \u001b[0mis_iterator\u001b[0m\u001b[0;34m(\u001b[0m\u001b[0mkey\u001b[0m\u001b[0;34m)\u001b[0m\u001b[0;34m:\u001b[0m\u001b[0;34m\u001b[0m\u001b[0;34m\u001b[0m\u001b[0m\n\u001b[1;32m   3463\u001b[0m                 \u001b[0mkey\u001b[0m \u001b[0;34m=\u001b[0m \u001b[0mlist\u001b[0m\u001b[0;34m(\u001b[0m\u001b[0mkey\u001b[0m\u001b[0;34m)\u001b[0m\u001b[0;34m\u001b[0m\u001b[0;34m\u001b[0m\u001b[0m\n\u001b[0;32m-> 3464\u001b[0;31m             \u001b[0mindexer\u001b[0m \u001b[0;34m=\u001b[0m \u001b[0mself\u001b[0m\u001b[0;34m.\u001b[0m\u001b[0mloc\u001b[0m\u001b[0;34m.\u001b[0m\u001b[0m_get_listlike_indexer\u001b[0m\u001b[0;34m(\u001b[0m\u001b[0mkey\u001b[0m\u001b[0;34m,\u001b[0m \u001b[0maxis\u001b[0m\u001b[0;34m=\u001b[0m\u001b[0;36m1\u001b[0m\u001b[0;34m)\u001b[0m\u001b[0;34m[\u001b[0m\u001b[0;36m1\u001b[0m\u001b[0;34m]\u001b[0m\u001b[0;34m\u001b[0m\u001b[0;34m\u001b[0m\u001b[0m\n\u001b[0m\u001b[1;32m   3465\u001b[0m \u001b[0;34m\u001b[0m\u001b[0m\n\u001b[1;32m   3466\u001b[0m         \u001b[0;31m# take() does not accept boolean indexers\u001b[0m\u001b[0;34m\u001b[0m\u001b[0;34m\u001b[0m\u001b[0;34m\u001b[0m\u001b[0m\n",
      "\u001b[0;32m/opt/anaconda3/lib/python3.7/site-packages/pandas/core/indexing.py\u001b[0m in \u001b[0;36m_get_listlike_indexer\u001b[0;34m(self, key, axis)\u001b[0m\n\u001b[1;32m   1312\u001b[0m             \u001b[0mkeyarr\u001b[0m\u001b[0;34m,\u001b[0m \u001b[0mindexer\u001b[0m\u001b[0;34m,\u001b[0m \u001b[0mnew_indexer\u001b[0m \u001b[0;34m=\u001b[0m \u001b[0max\u001b[0m\u001b[0;34m.\u001b[0m\u001b[0m_reindex_non_unique\u001b[0m\u001b[0;34m(\u001b[0m\u001b[0mkeyarr\u001b[0m\u001b[0;34m)\u001b[0m\u001b[0;34m\u001b[0m\u001b[0;34m\u001b[0m\u001b[0m\n\u001b[1;32m   1313\u001b[0m \u001b[0;34m\u001b[0m\u001b[0m\n\u001b[0;32m-> 1314\u001b[0;31m         \u001b[0mself\u001b[0m\u001b[0;34m.\u001b[0m\u001b[0m_validate_read_indexer\u001b[0m\u001b[0;34m(\u001b[0m\u001b[0mkeyarr\u001b[0m\u001b[0;34m,\u001b[0m \u001b[0mindexer\u001b[0m\u001b[0;34m,\u001b[0m \u001b[0maxis\u001b[0m\u001b[0;34m)\u001b[0m\u001b[0;34m\u001b[0m\u001b[0;34m\u001b[0m\u001b[0m\n\u001b[0m\u001b[1;32m   1315\u001b[0m \u001b[0;34m\u001b[0m\u001b[0m\n\u001b[1;32m   1316\u001b[0m         if needs_i8_conversion(ax.dtype) or isinstance(\n",
      "\u001b[0;32m/opt/anaconda3/lib/python3.7/site-packages/pandas/core/indexing.py\u001b[0m in \u001b[0;36m_validate_read_indexer\u001b[0;34m(self, key, indexer, axis)\u001b[0m\n\u001b[1;32m   1375\u001b[0m \u001b[0;34m\u001b[0m\u001b[0m\n\u001b[1;32m   1376\u001b[0m             \u001b[0mnot_found\u001b[0m \u001b[0;34m=\u001b[0m \u001b[0mlist\u001b[0m\u001b[0;34m(\u001b[0m\u001b[0mensure_index\u001b[0m\u001b[0;34m(\u001b[0m\u001b[0mkey\u001b[0m\u001b[0;34m)\u001b[0m\u001b[0;34m[\u001b[0m\u001b[0mmissing_mask\u001b[0m\u001b[0;34m.\u001b[0m\u001b[0mnonzero\u001b[0m\u001b[0;34m(\u001b[0m\u001b[0;34m)\u001b[0m\u001b[0;34m[\u001b[0m\u001b[0;36m0\u001b[0m\u001b[0;34m]\u001b[0m\u001b[0;34m]\u001b[0m\u001b[0;34m.\u001b[0m\u001b[0munique\u001b[0m\u001b[0;34m(\u001b[0m\u001b[0;34m)\u001b[0m\u001b[0;34m)\u001b[0m\u001b[0;34m\u001b[0m\u001b[0;34m\u001b[0m\u001b[0m\n\u001b[0;32m-> 1377\u001b[0;31m             \u001b[0;32mraise\u001b[0m \u001b[0mKeyError\u001b[0m\u001b[0;34m(\u001b[0m\u001b[0;34mf\"{not_found} not in index\"\u001b[0m\u001b[0;34m)\u001b[0m\u001b[0;34m\u001b[0m\u001b[0;34m\u001b[0m\u001b[0m\n\u001b[0m\u001b[1;32m   1378\u001b[0m \u001b[0;34m\u001b[0m\u001b[0m\n\u001b[1;32m   1379\u001b[0m \u001b[0;34m\u001b[0m\u001b[0m\n",
      "\u001b[0;31mKeyError\u001b[0m: \"['exp_ordinal_times'] not in index\""
     ]
    }
   ],
   "source": [
    "alphas=np.logspace(-8.,-3.,num=10, endpoint=True)\n",
    "symbol_type='Common Stock'\n",
    "target='fut_spread'\n",
    "testsize=0.25\n",
    "staticFeatures_lasso=staticFeatures+['ordinal_times']+['exp_ordinal_times']\n",
    "\n",
    "coefficient_tracker=np.zeros((len(staticFeatures_lasso), len(alphas)))\n",
    "\n",
    "train_error=np.zeros(len(alphas))\n",
    "test_error=np.zeros(len(alphas))\n",
    "train_rsquared=np.zeros(len(alphas))\n",
    "test_rsquared=np.zeros(len(alphas))\n",
    "\n",
    "\n",
    "for index, alpha in tqdm(enumerate(alphas)):\n",
    "    (Lasso_fit, x_train, x_test, y_train, y_test)=LassoFitter(DataSet,symbol_type, staticFeatures_lasso, target, testsize, alpha)\n",
    "    y_train_pred=Lasso_fit.predict(x_train)\n",
    "    y_test_pred=Lasso_fit.predict(x_test)\n",
    "    \n",
    "    num_indep_var=np.sum((Lasso_fit.coef_)>0)\n",
    "    \n",
    "    train_error[index]=np.sqrt(metrics.mean_squared_error(y_train_pred, y_train))/(DataSet[DataSet['symbol_type']=='Common Stock']['fut_spread'].std())\n",
    "    test_error[index]=np.sqrt(metrics.mean_squared_error(y_test_pred, y_test))/(DataSet[DataSet['symbol_type']=='Common Stock']['fut_spread'].std())\n",
    "    \n",
    "    rsquared=Lasso_fit.score(x_train, y_train)\n",
    "    n=np.shape(x_train)[0]\n",
    "    train_rsquared[index]=1-(1-rsquared)*(n-1)/(n-num_indep_var-1)\n",
    "    \n",
    "    rsquared=Lasso_fit.score(x_test, y_test)\n",
    "    n=np.shape(x_test)[0]\n",
    "    test_rsquared[index]=1-(1-rsquared)*(n-1)/(n-num_indep_var-1)\n",
    "    \n",
    "    \n",
    "    coefficients=Lasso_fit.coef_\n",
    "    coefficient_tracker[:, index]=coefficients\n",
    "\n",
    "                                                                                   "
   ]
  },
  {
   "cell_type": "code",
   "execution_count": null,
   "metadata": {},
   "outputs": [],
   "source": [
    "coef_names=x_train.columns\n",
    "\n",
    "fig, axs=plt.subplots(1,3)\n",
    "\n",
    "for index, name in enumerate(coef_names):\n",
    "    axs[0].plot(alphas, coefficient_tracker[index,:], label=coef_names[index])\n",
    "fig.set_size_inches(25,6)  \n",
    "axs[0].legend()\n",
    "axs[0].set_xlabel('alpha')\n",
    "axs[0].set_ylabel('Regression Coefficient')\n",
    "\n",
    "axs[0].set_yscale('log')\n",
    "axs[0].set_xscale('log')\n",
    "\n",
    "axs[1].plot(alphas, train_rsquared, label='train')\n",
    "axs[1].plot(alphas, test_rsquared, label='test')\n",
    "axs[1].legend()\n",
    "\n",
    "axs[1].set_xlabel('alpha')\n",
    "axs[1].set_ylabel('adjusted coefficient of determination')\n",
    "axs[1].set_xscale('log')\n",
    "\n",
    "axs[2].plot(alphas, train_error, label='train')\n",
    "axs[2].plot(alphas, test_error, label='test')\n",
    "axs[2].legend()\n",
    "\n",
    "axs[2].set_xlabel('alpha')\n",
    "axs[2].set_ylabel('RMSE normalized by target mean')\n",
    "axs[2].set_xscale('log')\n",
    "\n",
    "\n",
    "\n",
    "plt.show()"
   ]
  },
  {
   "cell_type": "code",
   "execution_count": null,
   "metadata": {},
   "outputs": [],
   "source": [
    "alphas=np.logspace(-8.,-3.,num=10, endpoint=True)\n",
    "symbol_type='Common Stock'\n",
    "target='fut_spread'\n",
    "testsize=0.25\n",
    "staticFeatures_ridge=staticFeatures+['ordinal_times']+['exp_ordinal_times']\n",
    "\n",
    "coefficient_tracker=np.zeros((len(staticFeatures_ridge), len(alphas)))\n",
    "train_error=np.zeros(len(alphas))\n",
    "test_error=np.zeros(len(alphas))\n",
    "train_rsquared=np.zeros(len(alphas))\n",
    "test_rsquared=np.zeros(len(alphas))\n",
    "\n",
    "\n",
    "for index, alpha in tqdm(enumerate(alphas)):\n",
    "    (Ridge_fit, x_train, x_test, y_train, y_test)=RidgeFitter(DataSet,symbol_type, staticFeatures_ridge, target, testsize, alpha)\n",
    "    y_train_pred=Ridge_fit.predict(x_train)\n",
    "    y_test_pred=Ridge_fit.predict(x_test)\n",
    "    \n",
    "    train_error[index]=np.sqrt(metrics.mean_squared_error(y_train_pred, y_train))/(DataSet[DataSet['symbol_type']=='Common Stock']['fut_spread'].std())\n",
    "    test_error[index]=np.sqrt(metrics.mean_squared_error(y_test_pred, y_test))/(DataSet[DataSet['symbol_type']=='Common Stock']['fut_spread'].std())\n",
    "\n",
    "    rsquared=Ridge_fit.score(x_train, y_train)\n",
    "    n=np.shape(x_train)[0]\n",
    "    train_rsquared[index]=1-(1-rsquared)*(n-1)/(n-num_indep_var-1)\n",
    "    \n",
    "    rsquared=Ridge_fit.score(x_test, y_test)\n",
    "    n=np.shape(x_test)[0]\n",
    "    test_rsquared[index]=1-(1-rsquared)*(n-1)/(n-num_indep_var-1)\n",
    "\n",
    "    coefficients=Ridge_fit.coef_\n",
    "    coefficient_tracker[:, index]=coefficients"
   ]
  },
  {
   "cell_type": "code",
   "execution_count": null,
   "metadata": {},
   "outputs": [],
   "source": [
    "coef_names=x_train.columns\n",
    "\n",
    "fig, axs=plt.subplots(1,3)\n",
    "\n",
    "for index, name in enumerate(coef_names):\n",
    "    axs[0].plot(alphas, coefficient_tracker[index,:], label=coef_names[index])\n",
    "fig.set_size_inches(30,12)  \n",
    "axs[0].legend()\n",
    "axs[0].set_xlabel('alpha')\n",
    "axs[0].set_ylabel('Regression Coefficient')\n",
    "\n",
    "axs[0].set_yscale('log')\n",
    "axs[0].set_xscale('log')\n",
    "\n",
    "axs[1].plot(alphas, train_rsquared, label='train')\n",
    "axs[1].plot(alphas, test_rsquared, label='test')\n",
    "axs[1].legend()\n",
    "\n",
    "axs[1].set_xlabel('alpha')\n",
    "axs[1].set_ylabel('adjusted coefficient of determination')\n",
    "axs[1].set_xscale('log')\n",
    "\n",
    "axs[2].plot(alphas, train_error, label='train')\n",
    "axs[2].plot(alphas, test_error, label='test')\n",
    "axs[2].legend()\n",
    "\n",
    "axs[2].set_xlabel('alpha')\n",
    "axs[2].set_ylabel('RMSE normalized by target mean')\n",
    "axs[2].set_xscale('log')\n",
    "\n",
    "\n",
    "\n",
    "plt.show()"
   ]
  },
  {
   "cell_type": "code",
   "execution_count": null,
   "metadata": {},
   "outputs": [],
   "source": [
    "alphas=np.logspace(-6.,-1.,num=10, endpoint=True)\n",
    "symbol_type='Common Stock'\n",
    "target='fut_spread'\n",
    "testsize=0.25\n",
    "allNumericalFeatures_lasso=allNumericalFeatures+['ordinal_times']+['exp_ordinal_times']\n",
    "\n",
    "coefficient_tracker=np.zeros((len(allNumericalFeatures_lasso), len(alphas)))\n",
    "\n",
    "train_error=np.zeros(len(alphas))\n",
    "test_error=np.zeros(len(alphas))\n",
    "train_rsquared=np.zeros(len(alphas))\n",
    "test_rsquared=np.zeros(len(alphas))\n",
    "\n",
    "\n",
    "for index, alpha in tqdm(enumerate(alphas)):\n",
    "    (Lasso_fit, x_train, x_test, y_train, y_test)=LassoFitter(DataSet,symbol_type, allNumericalFeatures_lasso, target, testsize, alpha)\n",
    "    y_train_pred=Lasso_fit.predict(x_train)\n",
    "    y_test_pred=Lasso_fit.predict(x_test)\n",
    "    \n",
    "    num_indep_var=np.sum((Lasso_fit.coef_)>0)\n",
    "    \n",
    "    train_error[index]=np.sqrt(metrics.mean_squared_error(y_train_pred, y_train))/(DataSet[DataSet['symbol_type']=='Common Stock']['fut_spread'].std())\n",
    "    test_error[index]=np.sqrt(metrics.mean_squared_error(y_test_pred, y_test))/(DataSet[DataSet['symbol_type']=='Common Stock']['fut_spread'].std())\n",
    "    \n",
    "    rsquared=Lasso_fit.score(x_train, y_train)\n",
    "    n=np.shape(x_train)[0]\n",
    "    train_rsquared[index]=1-(1-rsquared)*(n-1)/(n-num_indep_var-1)\n",
    "    \n",
    "    rsquared=Lasso_fit.score(x_test, y_test)\n",
    "    n=np.shape(x_test)[0]\n",
    "    test_rsquared[index]=1-(1-rsquared)*(n-1)/(n-num_indep_var-1)\n",
    "    \n",
    "    \n",
    "    coefficients=Lasso_fit.coef_\n",
    "    coefficient_tracker[:, index]=coefficients\n",
    "\n",
    "                                                                                 "
   ]
  },
  {
   "cell_type": "code",
   "execution_count": null,
   "metadata": {},
   "outputs": [],
   "source": [
    "coef_names=x_train.columns\n",
    "\n",
    "fig, axs=plt.subplots(1,3)\n",
    "\n",
    "for index, name in enumerate(coef_names):\n",
    "    axs[0].plot(alphas, coefficient_tracker[index,:], label=coef_names[index])\n",
    "fig.set_size_inches(30,12)  \n",
    "axs[0].legend()\n",
    "axs[0].set_xlabel('alpha')\n",
    "axs[0].set_ylabel('Regression Coefficient')\n",
    "\n",
    "axs[0].set_yscale('log')\n",
    "axs[0].set_xscale('log')\n",
    "\n",
    "axs[1].plot(alphas, train_rsquared, label='train')\n",
    "axs[1].plot(alphas, test_rsquared, label='test')\n",
    "axs[1].legend()\n",
    "\n",
    "axs[1].set_xlabel('alpha')\n",
    "axs[1].set_ylabel('adjusted coefficient of determination')\n",
    "axs[1].set_xscale('log')\n",
    "\n",
    "axs[2].plot(alphas, train_error, label='train')\n",
    "axs[2].plot(alphas, test_error, label='test')\n",
    "axs[2].legend()\n",
    "\n",
    "axs[2].set_xlabel('alpha')\n",
    "axs[2].set_ylabel('RMSE normalized by target mean')\n",
    "axs[2].set_xscale('log')\n",
    "\n",
    "\n",
    "\n",
    "plt.show()"
   ]
  },
  {
   "cell_type": "code",
   "execution_count": null,
   "metadata": {},
   "outputs": [],
   "source": [
    "alphas=np.logspace(-8.,-3.,num=10, endpoint=True)\n",
    "symbol_type='Common Stock'\n",
    "target='fut_spread'\n",
    "testsize=0.25\n",
    "allNumericalFeatures_ridge=allNumericalFeatures+['ordinal_times']+['exp_ordinal_times']\n",
    "\n",
    "coefficient_tracker=np.zeros((len(allNumericalFeatures_ridge), len(alphas)))\n",
    "\n",
    "train_error=np.zeros(len(alphas))\n",
    "test_error=np.zeros(len(alphas))\n",
    "train_rsquared=np.zeros(len(alphas))\n",
    "test_rsquared=np.zeros(len(alphas))\n",
    "\n",
    "\n",
    "for index, alpha in tqdm(enumerate(alphas)):\n",
    "    (Ridge_fit, x_train, x_test, y_train, y_test)=RidgeFitter(DataSet,symbol_type, allNumericalFeatures_ridge, target, testsize, alpha)\n",
    "    y_train_pred=Ridge_fit.predict(x_train)\n",
    "    y_test_pred=Ridge_fit.predict(x_test)\n",
    "    \n",
    "    num_indep_var=np.sum((Ridge_fit.coef_)>0)\n",
    "    \n",
    "    train_error[index]=np.sqrt(metrics.mean_squared_error(y_train_pred, y_train))/(DataSet[DataSet['symbol_type']=='Common Stock']['fut_spread'].std())\n",
    "    test_error[index]=np.sqrt(metrics.mean_squared_error(y_test_pred, y_test))/(DataSet[DataSet['symbol_type']=='Common Stock']['fut_spread'].std())\n",
    "    \n",
    "    rsquared=Ridge_fit.score(x_train, y_train)\n",
    "    n=np.shape(x_train)[0]\n",
    "    train_rsquared[index]=1-(1-rsquared)*(n-1)/(n-num_indep_var-1)\n",
    "    \n",
    "    rsquared=Ridge_fit.score(x_test, y_test)\n",
    "    n=np.shape(x_test)[0]\n",
    "    test_rsquared[index]=1-(1-rsquared)*(n-1)/(n-num_indep_var-1)\n",
    "    \n",
    "    \n",
    "    coefficients=Ridge_fit.coef_\n",
    "    coefficient_tracker[:, index]=coefficients\n",
    "\n",
    "             "
   ]
  },
  {
   "cell_type": "code",
   "execution_count": null,
   "metadata": {},
   "outputs": [],
   "source": [
    "coef_names=x_train.columns\n",
    "\n",
    "fig, axs=plt.subplots(1,3)\n",
    "\n",
    "for index, name in enumerate(coef_names):\n",
    "    axs[0].plot(alphas, coefficient_tracker[index,:], label=coef_names[index])\n",
    "fig.set_size_inches(30,12)  \n",
    "axs[0].legend()\n",
    "axs[0].set_xlabel('alpha')\n",
    "axs[0].set_ylabel('Regression Coefficient')\n",
    "\n",
    "axs[0].set_yscale('log')\n",
    "axs[0].set_xscale('log')\n",
    "\n",
    "axs[1].plot(alphas, train_rsquared, label='train')\n",
    "axs[1].plot(alphas, test_rsquared, label='test')\n",
    "axs[1].legend()\n",
    "\n",
    "axs[1].set_xlabel('alpha')\n",
    "axs[1].set_ylabel('adjusted coefficient of determination')\n",
    "axs[1].set_xscale('log')\n",
    "\n",
    "axs[2].plot(alphas, train_error, label='train')\n",
    "axs[2].plot(alphas, test_error, label='test')\n",
    "axs[2].legend()\n",
    "\n",
    "axs[2].set_xlabel('alpha')\n",
    "axs[2].set_ylabel('RMSE normalized by target mean')\n",
    "axs[2].set_xscale('log')\n",
    "\n",
    "\n",
    "\n",
    "plt.show()"
   ]
  },
  {
   "cell_type": "code",
   "execution_count": null,
   "metadata": {},
   "outputs": [],
   "source": [
    "Ridge_fit.coef_\n",
    "print(x_train.columns)"
   ]
  },
  {
   "cell_type": "code",
   "execution_count": null,
   "metadata": {},
   "outputs": [],
   "source": [
    "XGroup=DataSet[['opening_price','avg_daily_volume','volatility', 'median_width']]\n",
    "YGroup=DataSet['symbol']\n",
    "\n",
    "x_train, x_test, y_train, y_test=train_test_split(XGroup, YGroup, test_size=0.25, shuffle=True)\n",
    "#scaler=StandardScaler()\n",
    "#scaler.fit(x_train)\n",
    "#x_train=scaler.transform(x_train)\n",
    "#x_test=scaler.transform(x_test)\n",
    "    \n",
    "#pca=PCA(0.95)\n",
    "#pca.fit(x_train)\n",
    "#print(pca.explained_variance_ratio_)\n",
    "#x_train=pca.transform(x_train)\n",
    "#x_test=pca.transform(x_test)\n",
    "\n",
    "Predictor=DecisionTreeClassifier(max_depth=8).fit(x_train, y_train)\n",
    "print(Predictor.score(x_train, y_train))\n",
    "print(Predictor.score(x_test, y_test))"
   ]
  },
  {
   "cell_type": "code",
   "execution_count": null,
   "metadata": {},
   "outputs": [],
   "source": [
    "from sklearn.ensemble import RandomForestClassifier\n",
    "\n",
    "XGroup=DataSet[staticFeatures]\n",
    "YGroup=DataSet['symbol']\n",
    "\n",
    "x_train, x_test, y_train, y_test=train_test_split(XGroup, YGroup, test_size=0.25, shuffle=True, random_state=12262021)\n",
    "scaler=StandardScaler()\n",
    "scaler.fit(x_train)\n",
    "x_train=scaler.transform(x_train)\n",
    "x_test=scaler.transform(x_test)\n",
    "    \n",
    "pca=PCA(0.95)\n",
    "pca.fit(x_train)\n",
    "print(pca.explained_variance_ratio_)\n",
    "x_train=pca.transform(x_train)\n",
    "x_test=pca.transform(x_test)\n",
    "\n",
    "Predictor=RandomForestClassifier(max_depth=5, n_estimators=20).fit(x_train, y_train)\n",
    "print(Predictor.score(x_train, y_train))\n",
    "print(Predictor.score(x_test, y_test))\n"
   ]
  },
  {
   "cell_type": "code",
   "execution_count": 21,
   "metadata": {},
   "outputs": [
    {
     "data": {
      "text/html": [
       "<div>\n",
       "<style scoped>\n",
       "    .dataframe tbody tr th:only-of-type {\n",
       "        vertical-align: middle;\n",
       "    }\n",
       "\n",
       "    .dataframe tbody tr th {\n",
       "        vertical-align: top;\n",
       "    }\n",
       "\n",
       "    .dataframe thead th {\n",
       "        text-align: right;\n",
       "    }\n",
       "</style>\n",
       "<table border=\"1\" class=\"dataframe\">\n",
       "  <thead>\n",
       "    <tr style=\"text-align: right;\">\n",
       "      <th></th>\n",
       "      <th>ordinal_times</th>\n",
       "      <th>localtime</th>\n",
       "      <th>bid</th>\n",
       "      <th>ask</th>\n",
       "      <th>bidsize</th>\n",
       "      <th>asksize</th>\n",
       "      <th>mid</th>\n",
       "      <th>spread</th>\n",
       "      <th>open</th>\n",
       "      <th>high</th>\n",
       "      <th>...</th>\n",
       "      <th>normalized_fut_spread</th>\n",
       "      <th>recip_ordinal_times</th>\n",
       "      <th>ADR</th>\n",
       "      <th>Common Stock</th>\n",
       "      <th>ETP</th>\n",
       "      <th>Ltd Part</th>\n",
       "      <th>MLP</th>\n",
       "      <th>NY Reg Shrs</th>\n",
       "      <th>REIT</th>\n",
       "      <th>Tracking Stk</th>\n",
       "    </tr>\n",
       "  </thead>\n",
       "  <tbody>\n",
       "    <tr>\n",
       "      <th>0</th>\n",
       "      <td>0</td>\n",
       "      <td>2021-01-04 14:30:00+00:00</td>\n",
       "      <td>68.56</td>\n",
       "      <td>68.67</td>\n",
       "      <td>205</td>\n",
       "      <td>1</td>\n",
       "      <td>68.615</td>\n",
       "      <td>0.11</td>\n",
       "      <td>68.74</td>\n",
       "      <td>68.77</td>\n",
       "      <td>...</td>\n",
       "      <td>0.000874</td>\n",
       "      <td>1.000000</td>\n",
       "      <td>0</td>\n",
       "      <td>1</td>\n",
       "      <td>0</td>\n",
       "      <td>0</td>\n",
       "      <td>0</td>\n",
       "      <td>0</td>\n",
       "      <td>0</td>\n",
       "      <td>0</td>\n",
       "    </tr>\n",
       "    <tr>\n",
       "      <th>1</th>\n",
       "      <td>0</td>\n",
       "      <td>2021-01-04 14:30:00+00:00</td>\n",
       "      <td>88.71</td>\n",
       "      <td>89.05</td>\n",
       "      <td>17</td>\n",
       "      <td>452</td>\n",
       "      <td>88.880</td>\n",
       "      <td>0.34</td>\n",
       "      <td>88.93</td>\n",
       "      <td>89.05</td>\n",
       "      <td>...</td>\n",
       "      <td>0.003369</td>\n",
       "      <td>1.000000</td>\n",
       "      <td>0</td>\n",
       "      <td>1</td>\n",
       "      <td>0</td>\n",
       "      <td>0</td>\n",
       "      <td>0</td>\n",
       "      <td>0</td>\n",
       "      <td>0</td>\n",
       "      <td>0</td>\n",
       "    </tr>\n",
       "    <tr>\n",
       "      <th>2</th>\n",
       "      <td>0</td>\n",
       "      <td>2021-01-04 14:30:00+00:00</td>\n",
       "      <td>24.92</td>\n",
       "      <td>24.96</td>\n",
       "      <td>160</td>\n",
       "      <td>1300</td>\n",
       "      <td>24.940</td>\n",
       "      <td>0.04</td>\n",
       "      <td>25.00</td>\n",
       "      <td>25.05</td>\n",
       "      <td>...</td>\n",
       "      <td>0.000401</td>\n",
       "      <td>1.000000</td>\n",
       "      <td>0</td>\n",
       "      <td>1</td>\n",
       "      <td>0</td>\n",
       "      <td>0</td>\n",
       "      <td>0</td>\n",
       "      <td>0</td>\n",
       "      <td>0</td>\n",
       "      <td>0</td>\n",
       "    </tr>\n",
       "    <tr>\n",
       "      <th>3</th>\n",
       "      <td>0</td>\n",
       "      <td>2021-01-04 14:30:00+00:00</td>\n",
       "      <td>212.19</td>\n",
       "      <td>212.42</td>\n",
       "      <td>200</td>\n",
       "      <td>300</td>\n",
       "      <td>212.305</td>\n",
       "      <td>0.23</td>\n",
       "      <td>212.97</td>\n",
       "      <td>213.00</td>\n",
       "      <td>...</td>\n",
       "      <td>0.001083</td>\n",
       "      <td>1.000000</td>\n",
       "      <td>0</td>\n",
       "      <td>0</td>\n",
       "      <td>1</td>\n",
       "      <td>0</td>\n",
       "      <td>0</td>\n",
       "      <td>0</td>\n",
       "      <td>0</td>\n",
       "      <td>0</td>\n",
       "    </tr>\n",
       "    <tr>\n",
       "      <th>4</th>\n",
       "      <td>0</td>\n",
       "      <td>2021-01-04 14:30:00+00:00</td>\n",
       "      <td>45.46</td>\n",
       "      <td>45.50</td>\n",
       "      <td>300</td>\n",
       "      <td>200</td>\n",
       "      <td>45.480</td>\n",
       "      <td>0.04</td>\n",
       "      <td>45.90</td>\n",
       "      <td>45.90</td>\n",
       "      <td>...</td>\n",
       "      <td>0.000659</td>\n",
       "      <td>1.000000</td>\n",
       "      <td>0</td>\n",
       "      <td>1</td>\n",
       "      <td>0</td>\n",
       "      <td>0</td>\n",
       "      <td>0</td>\n",
       "      <td>0</td>\n",
       "      <td>0</td>\n",
       "      <td>0</td>\n",
       "    </tr>\n",
       "    <tr>\n",
       "      <th>...</th>\n",
       "      <td>...</td>\n",
       "      <td>...</td>\n",
       "      <td>...</td>\n",
       "      <td>...</td>\n",
       "      <td>...</td>\n",
       "      <td>...</td>\n",
       "      <td>...</td>\n",
       "      <td>...</td>\n",
       "      <td>...</td>\n",
       "      <td>...</td>\n",
       "      <td>...</td>\n",
       "      <td>...</td>\n",
       "      <td>...</td>\n",
       "      <td>...</td>\n",
       "      <td>...</td>\n",
       "      <td>...</td>\n",
       "      <td>...</td>\n",
       "      <td>...</td>\n",
       "      <td>...</td>\n",
       "      <td>...</td>\n",
       "      <td>...</td>\n",
       "    </tr>\n",
       "    <tr>\n",
       "      <th>3406037</th>\n",
       "      <td>38</td>\n",
       "      <td>2021-07-30 19:50:00+00:00</td>\n",
       "      <td>41.81</td>\n",
       "      <td>41.82</td>\n",
       "      <td>5563</td>\n",
       "      <td>4347</td>\n",
       "      <td>41.815</td>\n",
       "      <td>0.01</td>\n",
       "      <td>41.82</td>\n",
       "      <td>41.87</td>\n",
       "      <td>...</td>\n",
       "      <td>0.000239</td>\n",
       "      <td>0.025641</td>\n",
       "      <td>0</td>\n",
       "      <td>1</td>\n",
       "      <td>0</td>\n",
       "      <td>0</td>\n",
       "      <td>0</td>\n",
       "      <td>0</td>\n",
       "      <td>0</td>\n",
       "      <td>0</td>\n",
       "    </tr>\n",
       "    <tr>\n",
       "      <th>3406038</th>\n",
       "      <td>38</td>\n",
       "      <td>2021-07-30 19:50:00+00:00</td>\n",
       "      <td>12.98</td>\n",
       "      <td>12.99</td>\n",
       "      <td>217462</td>\n",
       "      <td>94563</td>\n",
       "      <td>12.985</td>\n",
       "      <td>0.01</td>\n",
       "      <td>12.96</td>\n",
       "      <td>13.01</td>\n",
       "      <td>...</td>\n",
       "      <td>0.000770</td>\n",
       "      <td>0.025641</td>\n",
       "      <td>0</td>\n",
       "      <td>1</td>\n",
       "      <td>0</td>\n",
       "      <td>0</td>\n",
       "      <td>0</td>\n",
       "      <td>0</td>\n",
       "      <td>0</td>\n",
       "      <td>0</td>\n",
       "    </tr>\n",
       "    <tr>\n",
       "      <th>3406039</th>\n",
       "      <td>38</td>\n",
       "      <td>2021-07-30 19:50:00+00:00</td>\n",
       "      <td>402.74</td>\n",
       "      <td>402.75</td>\n",
       "      <td>1500</td>\n",
       "      <td>500</td>\n",
       "      <td>402.745</td>\n",
       "      <td>0.01</td>\n",
       "      <td>402.79</td>\n",
       "      <td>403.17</td>\n",
       "      <td>...</td>\n",
       "      <td>0.000025</td>\n",
       "      <td>0.025641</td>\n",
       "      <td>0</td>\n",
       "      <td>0</td>\n",
       "      <td>1</td>\n",
       "      <td>0</td>\n",
       "      <td>0</td>\n",
       "      <td>0</td>\n",
       "      <td>0</td>\n",
       "      <td>0</td>\n",
       "    </tr>\n",
       "    <tr>\n",
       "      <th>3406040</th>\n",
       "      <td>38</td>\n",
       "      <td>2021-07-30 19:50:00+00:00</td>\n",
       "      <td>52.13</td>\n",
       "      <td>52.15</td>\n",
       "      <td>200</td>\n",
       "      <td>105</td>\n",
       "      <td>52.140</td>\n",
       "      <td>0.02</td>\n",
       "      <td>52.19</td>\n",
       "      <td>52.22</td>\n",
       "      <td>...</td>\n",
       "      <td>0.000192</td>\n",
       "      <td>0.025641</td>\n",
       "      <td>0</td>\n",
       "      <td>1</td>\n",
       "      <td>0</td>\n",
       "      <td>0</td>\n",
       "      <td>0</td>\n",
       "      <td>0</td>\n",
       "      <td>0</td>\n",
       "      <td>0</td>\n",
       "    </tr>\n",
       "    <tr>\n",
       "      <th>3406041</th>\n",
       "      <td>38</td>\n",
       "      <td>2021-07-30 19:50:00+00:00</td>\n",
       "      <td>22.20</td>\n",
       "      <td>22.22</td>\n",
       "      <td>1068</td>\n",
       "      <td>796</td>\n",
       "      <td>22.210</td>\n",
       "      <td>0.02</td>\n",
       "      <td>22.15</td>\n",
       "      <td>22.24</td>\n",
       "      <td>...</td>\n",
       "      <td>0.001800</td>\n",
       "      <td>0.025641</td>\n",
       "      <td>0</td>\n",
       "      <td>1</td>\n",
       "      <td>0</td>\n",
       "      <td>0</td>\n",
       "      <td>0</td>\n",
       "      <td>0</td>\n",
       "      <td>0</td>\n",
       "      <td>0</td>\n",
       "    </tr>\n",
       "  </tbody>\n",
       "</table>\n",
       "<p>3365521 rows × 38 columns</p>\n",
       "</div>"
      ],
      "text/plain": [
       "         ordinal_times                 localtime     bid     ask  bidsize  \\\n",
       "0                    0 2021-01-04 14:30:00+00:00   68.56   68.67      205   \n",
       "1                    0 2021-01-04 14:30:00+00:00   88.71   89.05       17   \n",
       "2                    0 2021-01-04 14:30:00+00:00   24.92   24.96      160   \n",
       "3                    0 2021-01-04 14:30:00+00:00  212.19  212.42      200   \n",
       "4                    0 2021-01-04 14:30:00+00:00   45.46   45.50      300   \n",
       "...                ...                       ...     ...     ...      ...   \n",
       "3406037             38 2021-07-30 19:50:00+00:00   41.81   41.82     5563   \n",
       "3406038             38 2021-07-30 19:50:00+00:00   12.98   12.99   217462   \n",
       "3406039             38 2021-07-30 19:50:00+00:00  402.74  402.75     1500   \n",
       "3406040             38 2021-07-30 19:50:00+00:00   52.13   52.15      200   \n",
       "3406041             38 2021-07-30 19:50:00+00:00   22.20   22.22     1068   \n",
       "\n",
       "         asksize      mid  spread    open    high  ...  normalized_fut_spread  \\\n",
       "0              1   68.615    0.11   68.74   68.77  ...               0.000874   \n",
       "1            452   88.880    0.34   88.93   89.05  ...               0.003369   \n",
       "2           1300   24.940    0.04   25.00   25.05  ...               0.000401   \n",
       "3            300  212.305    0.23  212.97  213.00  ...               0.001083   \n",
       "4            200   45.480    0.04   45.90   45.90  ...               0.000659   \n",
       "...          ...      ...     ...     ...     ...  ...                    ...   \n",
       "3406037     4347   41.815    0.01   41.82   41.87  ...               0.000239   \n",
       "3406038    94563   12.985    0.01   12.96   13.01  ...               0.000770   \n",
       "3406039      500  402.745    0.01  402.79  403.17  ...               0.000025   \n",
       "3406040      105   52.140    0.02   52.19   52.22  ...               0.000192   \n",
       "3406041      796   22.210    0.02   22.15   22.24  ...               0.001800   \n",
       "\n",
       "         recip_ordinal_times  ADR  Common Stock  ETP  Ltd Part  MLP  \\\n",
       "0                   1.000000    0             1    0         0    0   \n",
       "1                   1.000000    0             1    0         0    0   \n",
       "2                   1.000000    0             1    0         0    0   \n",
       "3                   1.000000    0             0    1         0    0   \n",
       "4                   1.000000    0             1    0         0    0   \n",
       "...                      ...  ...           ...  ...       ...  ...   \n",
       "3406037             0.025641    0             1    0         0    0   \n",
       "3406038             0.025641    0             1    0         0    0   \n",
       "3406039             0.025641    0             0    1         0    0   \n",
       "3406040             0.025641    0             1    0         0    0   \n",
       "3406041             0.025641    0             1    0         0    0   \n",
       "\n",
       "         NY Reg Shrs  REIT  Tracking Stk  \n",
       "0                  0     0             0  \n",
       "1                  0     0             0  \n",
       "2                  0     0             0  \n",
       "3                  0     0             0  \n",
       "4                  0     0             0  \n",
       "...              ...   ...           ...  \n",
       "3406037            0     0             0  \n",
       "3406038            0     0             0  \n",
       "3406039            0     0             0  \n",
       "3406040            0     0             0  \n",
       "3406041            0     0             0  \n",
       "\n",
       "[3365521 rows x 38 columns]"
      ]
     },
     "execution_count": 21,
     "metadata": {},
     "output_type": "execute_result"
    }
   ],
   "source": [
    "#one_hot_symbol=pd.get_dummies(DataSet['symbol'])\n",
    "testGroup=DataSet\n",
    "one_hot_type=pd.get_dummies(testGroup['symbol_type'])\n",
    "testGroup=testGroup.drop('symbol', axis=1)\n",
    "#testGroup=testGroup.join(one_hot_symbol)\n",
    "testGroup=testGroup.drop('symbol_type', axis=1)\n",
    "testGroup=testGroup.join(one_hot_type)\n",
    "\n",
    "#ticker_one_hot_feature=list(one_hot_symbol.columns)\n",
    "type_one_hot_features=list(one_hot_type.columns)\n",
    "\n",
    "staticFeaturesAll=staticFeatures+['recip_ordinal_times']+type_one_hot_features\n",
    "\n",
    "\n",
    "testGroup"
   ]
  },
  {
   "cell_type": "code",
   "execution_count": 42,
   "metadata": {},
   "outputs": [
    {
     "name": "stdout",
     "output_type": "stream",
     "text": [
      "[0.30039225 0.28295374 0.12416045 0.09998014 0.09914926 0.06848861]\n"
     ]
    }
   ],
   "source": [
    "import random\n",
    "\n",
    "\n",
    "list_of_days=testGroup['date'].unique()\n",
    "random.shuffle(list_of_days)\n",
    "cut=random.randint(0,len(list_of_days))\n",
    "train_days=list_of_days[:cut]\n",
    "test_days=list_of_days[cut:]\n",
    "\n",
    "x_train=testGroup[testGroup['date'].isin(train_days)][staticFeaturesAll]\n",
    "y_train=testGroup[testGroup['date'].isin(train_days)]['fut_spread']\n",
    "\n",
    "x_test=testGroup[testGroup['date'].isin(test_days)][staticFeaturesAll]\n",
    "y_test=testGroup[testGroup['date'].isin(test_days)]['fut_spread']\n",
    "\n",
    "\n",
    "x_train.head()\n",
    "\n",
    "to_pca_train=x_train[staticFeatures]\n",
    "x_train=x_train.drop(staticFeatures, axis=1)\n",
    "to_pca_test=x_test[staticFeatures]\n",
    "x_test=x_test.drop(staticFeatures, axis=1)\n",
    "\n",
    "scaler=StandardScaler()\n",
    "scaler.fit(to_pca_train)\n",
    "to_pca_train=scaler.transform(to_pca_train)\n",
    "to_pca_test=scaler.transform(to_pca_test)\n",
    "    \n",
    "pca=PCA(0.95)\n",
    "pca.fit(to_pca_train)\n",
    "print(pca.explained_variance_ratio_)\n",
    "to_pca_train=pca.transform(to_pca_train)\n",
    "to_pca_test=pca.transform(to_pca_test)\n",
    "\n",
    "to_pca_train=pd.DataFrame(to_pca_train, dtype=float)\n",
    "x_train.reset_index(drop=True, inplace=True)\n",
    "\n",
    "to_pca_test=pd.DataFrame(to_pca_test, dtype=float)\n",
    "x_test.reset_index(drop=True, inplace=True)\n",
    "\n",
    "x_train=pd.concat([x_train, to_pca_train], axis=1)\n",
    "x_test=pd.concat([x_test, to_pca_test], axis=1)"
   ]
  },
  {
   "cell_type": "code",
   "execution_count": 47,
   "metadata": {},
   "outputs": [
    {
     "name": "stdout",
     "output_type": "stream",
     "text": [
      "0.8868852924105025\n",
      "0.7840148732249401\n",
      "0.33886210818119666\n",
      "0.43858890398358596\n"
     ]
    }
   ],
   "source": [
    "from xgboost import XGBRegressor\n",
    "\n",
    "\n",
    "Predictor=XGBRegressor(n_estimators=200,max_depth=7, eta=0.1, subsample=0.7,colsample_bytree=0.8)\n",
    "Predictor.fit(x_train, y_train)\n",
    "\n",
    "y_test_pred=Predictor.predict(x_test)\n",
    "y_train_pred=Predictor.predict(x_train)\n",
    "\n",
    "training_error=np.sqrt(metrics.mean_squared_error(y_train_pred, y_train))/(DataSet['fut_spread'].std())\n",
    "test_error=np.sqrt(metrics.mean_squared_error(y_test_pred, y_test))/(DataSet['fut_spread'].std())\n",
    "\n",
    "print(Predictor.score(x_train, y_train))\n",
    "print(Predictor.score(x_test, y_test))\n",
    "\n",
    "\n",
    "print(training_error)\n",
    "print(test_error)"
   ]
  },
  {
   "cell_type": "code",
   "execution_count": 44,
   "metadata": {},
   "outputs": [
    {
     "data": {
      "text/plain": [
       "[<matplotlib.lines.Line2D at 0x7f7c61bd0e50>]"
      ]
     },
     "execution_count": 44,
     "metadata": {},
     "output_type": "execute_result"
    },
    {
     "data": {
      "image/png": "[encoded data removed]",
      "text/plain": [
       "<Figure size 432x288 with 1 Axes>"
      ]
     },
     "metadata": {
      "needs_background": "light"
     },
     "output_type": "display_data"
    }
   ],
   "source": [
    "plt.plot(y_train, y_train_pred, ls='None', Marker='.', ms=4)"
   ]
  },
  {
   "cell_type": "code",
   "execution_count": 45,
   "metadata": {},
   "outputs": [
    {
     "data": {
      "text/plain": [
       "[<matplotlib.lines.Line2D at 0x7f7c0c96b590>]"
      ]
     },
     "execution_count": 45,
     "metadata": {},
     "output_type": "execute_result"
    },
    {
     "data": {
      "image/png": "[encoded data removed]",
      "text/plain": [
       "<Figure size 432x288 with 1 Axes>"
      ]
     },
     "metadata": {
      "needs_background": "light"
     },
     "output_type": "display_data"
    }
   ],
   "source": [
    "plt.plot(y_test, y_test_pred, ls='None', Marker='.', ms=4)"
   ]
  },
  {
   "cell_type": "code",
   "execution_count": 46,
   "metadata": {},
   "outputs": [
    {
     "ename": "KeyError",
     "evalue": "'ZS'",
     "output_type": "error",
     "traceback": [
      "\u001b[0;31m---------------------------------------------------------------------------\u001b[0m",
      "\u001b[0;31mKeyError\u001b[0m                                  Traceback (most recent call last)",
      "\u001b[0;32m/opt/anaconda3/lib/python3.7/site-packages/pandas/core/indexes/base.py\u001b[0m in \u001b[0;36mget_loc\u001b[0;34m(self, key, method, tolerance)\u001b[0m\n\u001b[1;32m   3360\u001b[0m             \u001b[0;32mtry\u001b[0m\u001b[0;34m:\u001b[0m\u001b[0;34m\u001b[0m\u001b[0;34m\u001b[0m\u001b[0m\n\u001b[0;32m-> 3361\u001b[0;31m                 \u001b[0;32mreturn\u001b[0m \u001b[0mself\u001b[0m\u001b[0;34m.\u001b[0m\u001b[0m_engine\u001b[0m\u001b[0;34m.\u001b[0m\u001b[0mget_loc\u001b[0m\u001b[0;34m(\u001b[0m\u001b[0mcasted_key\u001b[0m\u001b[0;34m)\u001b[0m\u001b[0;34m\u001b[0m\u001b[0;34m\u001b[0m\u001b[0m\n\u001b[0m\u001b[1;32m   3362\u001b[0m             \u001b[0;32mexcept\u001b[0m \u001b[0mKeyError\u001b[0m \u001b[0;32mas\u001b[0m \u001b[0merr\u001b[0m\u001b[0;34m:\u001b[0m\u001b[0;34m\u001b[0m\u001b[0;34m\u001b[0m\u001b[0m\n",
      "\u001b[0;32m/opt/anaconda3/lib/python3.7/site-packages/pandas/_libs/index.pyx\u001b[0m in \u001b[0;36mpandas._libs.index.IndexEngine.get_loc\u001b[0;34m()\u001b[0m\n",
      "\u001b[0;32m/opt/anaconda3/lib/python3.7/site-packages/pandas/_libs/index.pyx\u001b[0m in \u001b[0;36mpandas._libs.index.IndexEngine.get_loc\u001b[0;34m()\u001b[0m\n",
      "\u001b[0;32mpandas/_libs/hashtable_class_helper.pxi\u001b[0m in \u001b[0;36mpandas._libs.hashtable.PyObjectHashTable.get_item\u001b[0;34m()\u001b[0m\n",
      "\u001b[0;32mpandas/_libs/hashtable_class_helper.pxi\u001b[0m in \u001b[0;36mpandas._libs.hashtable.PyObjectHashTable.get_item\u001b[0;34m()\u001b[0m\n",
      "\u001b[0;31mKeyError\u001b[0m: 'ZS'",
      "\nThe above exception was the direct cause of the following exception:\n",
      "\u001b[0;31mKeyError\u001b[0m                                  Traceback (most recent call last)",
      "\u001b[0;32m<ipython-input-46-b3be0984004c>\u001b[0m in \u001b[0;36m<module>\u001b[0;34m\u001b[0m\n\u001b[0;32m----> 1\u001b[0;31m \u001b[0meye_test\u001b[0m\u001b[0;34m=\u001b[0m\u001b[0mtestGroup\u001b[0m\u001b[0;34m[\u001b[0m\u001b[0;34m(\u001b[0m\u001b[0mtestGroup\u001b[0m\u001b[0;34m[\u001b[0m\u001b[0;34m'ZS'\u001b[0m\u001b[0;34m]\u001b[0m\u001b[0;34m==\u001b[0m\u001b[0;36m1\u001b[0m\u001b[0;34m)\u001b[0m \u001b[0;34m&\u001b[0m \u001b[0;34m(\u001b[0m\u001b[0mtestGroup\u001b[0m\u001b[0;34m[\u001b[0m\u001b[0;34m'date'\u001b[0m\u001b[0;34m]\u001b[0m\u001b[0;34m==\u001b[0m\u001b[0mdatetime\u001b[0m\u001b[0;34m.\u001b[0m\u001b[0mdate\u001b[0m\u001b[0;34m(\u001b[0m\u001b[0;36m2021\u001b[0m\u001b[0;34m,\u001b[0m\u001b[0;36m7\u001b[0m\u001b[0;34m,\u001b[0m\u001b[0;36m22\u001b[0m\u001b[0;34m)\u001b[0m\u001b[0;34m)\u001b[0m\u001b[0;34m]\u001b[0m\u001b[0;34m[\u001b[0m\u001b[0mstaticFeaturesAll\u001b[0m\u001b[0;34m]\u001b[0m\u001b[0;34m\u001b[0m\u001b[0;34m\u001b[0m\u001b[0m\n\u001b[0m\u001b[1;32m      2\u001b[0m \u001b[0;34m\u001b[0m\u001b[0m\n\u001b[1;32m      3\u001b[0m \u001b[0mto_pca_train\u001b[0m\u001b[0;34m=\u001b[0m\u001b[0meye_test\u001b[0m\u001b[0;34m[\u001b[0m\u001b[0mstaticFeatures\u001b[0m\u001b[0;34m]\u001b[0m\u001b[0;34m\u001b[0m\u001b[0;34m\u001b[0m\u001b[0m\n\u001b[1;32m      4\u001b[0m \u001b[0meye_test\u001b[0m\u001b[0;34m=\u001b[0m\u001b[0meye_test\u001b[0m\u001b[0;34m.\u001b[0m\u001b[0mdrop\u001b[0m\u001b[0;34m(\u001b[0m\u001b[0mstaticFeatures\u001b[0m\u001b[0;34m,\u001b[0m \u001b[0maxis\u001b[0m\u001b[0;34m=\u001b[0m\u001b[0;36m1\u001b[0m\u001b[0;34m)\u001b[0m\u001b[0;34m\u001b[0m\u001b[0;34m\u001b[0m\u001b[0m\n\u001b[1;32m      5\u001b[0m \u001b[0mto_pca_train\u001b[0m\u001b[0;34m=\u001b[0m\u001b[0mscaler\u001b[0m\u001b[0;34m.\u001b[0m\u001b[0mtransform\u001b[0m\u001b[0;34m(\u001b[0m\u001b[0mto_pca_train\u001b[0m\u001b[0;34m)\u001b[0m\u001b[0;34m\u001b[0m\u001b[0;34m\u001b[0m\u001b[0m\n",
      "\u001b[0;32m/opt/anaconda3/lib/python3.7/site-packages/pandas/core/frame.py\u001b[0m in \u001b[0;36m__getitem__\u001b[0;34m(self, key)\u001b[0m\n\u001b[1;32m   3456\u001b[0m             \u001b[0;32mif\u001b[0m \u001b[0mself\u001b[0m\u001b[0;34m.\u001b[0m\u001b[0mcolumns\u001b[0m\u001b[0;34m.\u001b[0m\u001b[0mnlevels\u001b[0m \u001b[0;34m>\u001b[0m \u001b[0;36m1\u001b[0m\u001b[0;34m:\u001b[0m\u001b[0;34m\u001b[0m\u001b[0;34m\u001b[0m\u001b[0m\n\u001b[1;32m   3457\u001b[0m                 \u001b[0;32mreturn\u001b[0m \u001b[0mself\u001b[0m\u001b[0;34m.\u001b[0m\u001b[0m_getitem_multilevel\u001b[0m\u001b[0;34m(\u001b[0m\u001b[0mkey\u001b[0m\u001b[0;34m)\u001b[0m\u001b[0;34m\u001b[0m\u001b[0;34m\u001b[0m\u001b[0m\n\u001b[0;32m-> 3458\u001b[0;31m             \u001b[0mindexer\u001b[0m \u001b[0;34m=\u001b[0m \u001b[0mself\u001b[0m\u001b[0;34m.\u001b[0m\u001b[0mcolumns\u001b[0m\u001b[0;34m.\u001b[0m\u001b[0mget_loc\u001b[0m\u001b[0;34m(\u001b[0m\u001b[0mkey\u001b[0m\u001b[0;34m)\u001b[0m\u001b[0;34m\u001b[0m\u001b[0;34m\u001b[0m\u001b[0m\n\u001b[0m\u001b[1;32m   3459\u001b[0m             \u001b[0;32mif\u001b[0m \u001b[0mis_integer\u001b[0m\u001b[0;34m(\u001b[0m\u001b[0mindexer\u001b[0m\u001b[0;34m)\u001b[0m\u001b[0;34m:\u001b[0m\u001b[0;34m\u001b[0m\u001b[0;34m\u001b[0m\u001b[0m\n\u001b[1;32m   3460\u001b[0m                 \u001b[0mindexer\u001b[0m \u001b[0;34m=\u001b[0m \u001b[0;34m[\u001b[0m\u001b[0mindexer\u001b[0m\u001b[0;34m]\u001b[0m\u001b[0;34m\u001b[0m\u001b[0;34m\u001b[0m\u001b[0m\n",
      "\u001b[0;32m/opt/anaconda3/lib/python3.7/site-packages/pandas/core/indexes/base.py\u001b[0m in \u001b[0;36mget_loc\u001b[0;34m(self, key, method, tolerance)\u001b[0m\n\u001b[1;32m   3361\u001b[0m                 \u001b[0;32mreturn\u001b[0m \u001b[0mself\u001b[0m\u001b[0;34m.\u001b[0m\u001b[0m_engine\u001b[0m\u001b[0;34m.\u001b[0m\u001b[0mget_loc\u001b[0m\u001b[0;34m(\u001b[0m\u001b[0mcasted_key\u001b[0m\u001b[0;34m)\u001b[0m\u001b[0;34m\u001b[0m\u001b[0;34m\u001b[0m\u001b[0m\n\u001b[1;32m   3362\u001b[0m             \u001b[0;32mexcept\u001b[0m \u001b[0mKeyError\u001b[0m \u001b[0;32mas\u001b[0m \u001b[0merr\u001b[0m\u001b[0;34m:\u001b[0m\u001b[0;34m\u001b[0m\u001b[0;34m\u001b[0m\u001b[0m\n\u001b[0;32m-> 3363\u001b[0;31m                 \u001b[0;32mraise\u001b[0m \u001b[0mKeyError\u001b[0m\u001b[0;34m(\u001b[0m\u001b[0mkey\u001b[0m\u001b[0;34m)\u001b[0m \u001b[0;32mfrom\u001b[0m \u001b[0merr\u001b[0m\u001b[0;34m\u001b[0m\u001b[0;34m\u001b[0m\u001b[0m\n\u001b[0m\u001b[1;32m   3364\u001b[0m \u001b[0;34m\u001b[0m\u001b[0m\n\u001b[1;32m   3365\u001b[0m         \u001b[0;32mif\u001b[0m \u001b[0mis_scalar\u001b[0m\u001b[0;34m(\u001b[0m\u001b[0mkey\u001b[0m\u001b[0;34m)\u001b[0m \u001b[0;32mand\u001b[0m \u001b[0misna\u001b[0m\u001b[0;34m(\u001b[0m\u001b[0mkey\u001b[0m\u001b[0;34m)\u001b[0m \u001b[0;32mand\u001b[0m \u001b[0;32mnot\u001b[0m \u001b[0mself\u001b[0m\u001b[0;34m.\u001b[0m\u001b[0mhasnans\u001b[0m\u001b[0;34m:\u001b[0m\u001b[0;34m\u001b[0m\u001b[0;34m\u001b[0m\u001b[0m\n",
      "\u001b[0;31mKeyError\u001b[0m: 'ZS'"
     ]
    }
   ],
   "source": [
    "eye_test=testGroup[(testGroup['ZS']==1) & (testGroup['date']==datetime.date(2021,7,22))][staticFeaturesAll]\n",
    "\n",
    "to_pca_train=eye_test[staticFeatures]\n",
    "eye_test=eye_test.drop(staticFeatures, axis=1)\n",
    "to_pca_train=scaler.transform(to_pca_train)\n",
    "to_pca_train=pca.transform(to_pca_train)\n",
    "\n",
    "to_pca_train=pd.DataFrame(to_pca_train, dtype=float)\n",
    "eye_test.reset_index(drop=True, inplace=True)\n",
    "\n",
    "eye_test=pd.concat([eye_test, to_pca_train], axis=1)\n",
    "y_test_pred=Predictor.predict(eye_test)\n",
    "\n",
    "plt.plot(y_test_pred, testGroup[(testGroup['ZS']==1) & (testGroup['date']==datetime.date(2021,7,22))]['fut_spread'], ls='none', MarkerSize=4, Marker='.')\n"
   ]
  },
  {
   "cell_type": "code",
   "execution_count": null,
   "metadata": {},
   "outputs": [],
   "source": []
  },
  {
   "cell_type": "code",
   "execution_count": 104,
   "metadata": {},
   "outputs": [
    {
     "data": {
      "text/html": [
       "<div>\n",
       "<style scoped>\n",
       "    .dataframe tbody tr th:only-of-type {\n",
       "        vertical-align: middle;\n",
       "    }\n",
       "\n",
       "    .dataframe tbody tr th {\n",
       "        vertical-align: top;\n",
       "    }\n",
       "\n",
       "    .dataframe thead th {\n",
       "        text-align: right;\n",
       "    }\n",
       "</style>\n",
       "<table border=\"1\" class=\"dataframe\">\n",
       "  <thead>\n",
       "    <tr style=\"text-align: right;\">\n",
       "      <th></th>\n",
       "      <th>ordinal_times</th>\n",
       "      <th>localtime</th>\n",
       "      <th>symbol</th>\n",
       "      <th>bid</th>\n",
       "      <th>ask</th>\n",
       "      <th>bidsize</th>\n",
       "      <th>asksize</th>\n",
       "      <th>mid</th>\n",
       "      <th>spread</th>\n",
       "      <th>open</th>\n",
       "      <th>...</th>\n",
       "      <th>median_width</th>\n",
       "      <th>median_nbbo_size</th>\n",
       "      <th>opening_price</th>\n",
       "      <th>closing_price</th>\n",
       "      <th>symbol_type</th>\n",
       "      <th>fut_spread</th>\n",
       "      <th>date</th>\n",
       "      <th>normalized_spread</th>\n",
       "      <th>normalized_fut_spread</th>\n",
       "      <th>recip_ordinal_times</th>\n",
       "    </tr>\n",
       "  </thead>\n",
       "  <tbody>\n",
       "    <tr>\n",
       "      <th>0</th>\n",
       "      <td>0</td>\n",
       "      <td>2021-01-04 14:30:00+00:00</td>\n",
       "      <td>CVS</td>\n",
       "      <td>68.56</td>\n",
       "      <td>68.67</td>\n",
       "      <td>205</td>\n",
       "      <td>1</td>\n",
       "      <td>68.615</td>\n",
       "      <td>0.11</td>\n",
       "      <td>68.74</td>\n",
       "      <td>...</td>\n",
       "      <td>0.01</td>\n",
       "      <td>642.5</td>\n",
       "      <td>67.70</td>\n",
       "      <td>68.30</td>\n",
       "      <td>Common Stock</td>\n",
       "      <td>0.06</td>\n",
       "      <td>2021-01-04</td>\n",
       "      <td>0.001602</td>\n",
       "      <td>0.000874</td>\n",
       "      <td>1.0</td>\n",
       "    </tr>\n",
       "    <tr>\n",
       "      <th>1</th>\n",
       "      <td>0</td>\n",
       "      <td>2021-01-04 14:30:00+00:00</td>\n",
       "      <td>BKI</td>\n",
       "      <td>88.71</td>\n",
       "      <td>89.05</td>\n",
       "      <td>17</td>\n",
       "      <td>452</td>\n",
       "      <td>88.880</td>\n",
       "      <td>0.34</td>\n",
       "      <td>88.93</td>\n",
       "      <td>...</td>\n",
       "      <td>0.05</td>\n",
       "      <td>398.0</td>\n",
       "      <td>88.46</td>\n",
       "      <td>88.35</td>\n",
       "      <td>Common Stock</td>\n",
       "      <td>0.30</td>\n",
       "      <td>2021-01-04</td>\n",
       "      <td>0.003818</td>\n",
       "      <td>0.003369</td>\n",
       "      <td>1.0</td>\n",
       "    </tr>\n",
       "    <tr>\n",
       "      <th>2</th>\n",
       "      <td>0</td>\n",
       "      <td>2021-01-04 14:30:00+00:00</td>\n",
       "      <td>BEN</td>\n",
       "      <td>24.92</td>\n",
       "      <td>24.96</td>\n",
       "      <td>160</td>\n",
       "      <td>1300</td>\n",
       "      <td>24.940</td>\n",
       "      <td>0.04</td>\n",
       "      <td>25.00</td>\n",
       "      <td>...</td>\n",
       "      <td>0.01</td>\n",
       "      <td>3059.5</td>\n",
       "      <td>24.70</td>\n",
       "      <td>24.99</td>\n",
       "      <td>Common Stock</td>\n",
       "      <td>0.01</td>\n",
       "      <td>2021-01-04</td>\n",
       "      <td>0.001603</td>\n",
       "      <td>0.000401</td>\n",
       "      <td>1.0</td>\n",
       "    </tr>\n",
       "    <tr>\n",
       "      <th>3</th>\n",
       "      <td>0</td>\n",
       "      <td>2021-01-04 14:30:00+00:00</td>\n",
       "      <td>VOT</td>\n",
       "      <td>212.19</td>\n",
       "      <td>212.42</td>\n",
       "      <td>200</td>\n",
       "      <td>300</td>\n",
       "      <td>212.305</td>\n",
       "      <td>0.23</td>\n",
       "      <td>212.97</td>\n",
       "      <td>...</td>\n",
       "      <td>0.11</td>\n",
       "      <td>300.0</td>\n",
       "      <td>211.78</td>\n",
       "      <td>212.07</td>\n",
       "      <td>ETP</td>\n",
       "      <td>0.23</td>\n",
       "      <td>2021-01-04</td>\n",
       "      <td>0.001083</td>\n",
       "      <td>0.001083</td>\n",
       "      <td>1.0</td>\n",
       "    </tr>\n",
       "    <tr>\n",
       "      <th>4</th>\n",
       "      <td>0</td>\n",
       "      <td>2021-01-04 14:30:00+00:00</td>\n",
       "      <td>OTEX</td>\n",
       "      <td>45.46</td>\n",
       "      <td>45.50</td>\n",
       "      <td>300</td>\n",
       "      <td>200</td>\n",
       "      <td>45.480</td>\n",
       "      <td>0.04</td>\n",
       "      <td>45.90</td>\n",
       "      <td>...</td>\n",
       "      <td>0.02</td>\n",
       "      <td>600.5</td>\n",
       "      <td>45.48</td>\n",
       "      <td>45.46</td>\n",
       "      <td>Common Stock</td>\n",
       "      <td>0.03</td>\n",
       "      <td>2021-01-04</td>\n",
       "      <td>0.000879</td>\n",
       "      <td>0.000659</td>\n",
       "      <td>1.0</td>\n",
       "    </tr>\n",
       "  </tbody>\n",
       "</table>\n",
       "<p>5 rows × 32 columns</p>\n",
       "</div>"
      ],
      "text/plain": [
       "   ordinal_times                 localtime symbol     bid     ask  bidsize  \\\n",
       "0              0 2021-01-04 14:30:00+00:00    CVS   68.56   68.67      205   \n",
       "1              0 2021-01-04 14:30:00+00:00    BKI   88.71   89.05       17   \n",
       "2              0 2021-01-04 14:30:00+00:00    BEN   24.92   24.96      160   \n",
       "3              0 2021-01-04 14:30:00+00:00    VOT  212.19  212.42      200   \n",
       "4              0 2021-01-04 14:30:00+00:00   OTEX   45.46   45.50      300   \n",
       "\n",
       "   asksize      mid  spread    open  ...  median_width  median_nbbo_size  \\\n",
       "0        1   68.615    0.11   68.74  ...          0.01             642.5   \n",
       "1      452   88.880    0.34   88.93  ...          0.05             398.0   \n",
       "2     1300   24.940    0.04   25.00  ...          0.01            3059.5   \n",
       "3      300  212.305    0.23  212.97  ...          0.11             300.0   \n",
       "4      200   45.480    0.04   45.90  ...          0.02             600.5   \n",
       "\n",
       "   opening_price  closing_price   symbol_type  fut_spread        date  \\\n",
       "0          67.70          68.30  Common Stock        0.06  2021-01-04   \n",
       "1          88.46          88.35  Common Stock        0.30  2021-01-04   \n",
       "2          24.70          24.99  Common Stock        0.01  2021-01-04   \n",
       "3         211.78         212.07           ETP        0.23  2021-01-04   \n",
       "4          45.48          45.46  Common Stock        0.03  2021-01-04   \n",
       "\n",
       "   normalized_spread  normalized_fut_spread  recip_ordinal_times  \n",
       "0           0.001602               0.000874                  1.0  \n",
       "1           0.003818               0.003369                  1.0  \n",
       "2           0.001603               0.000401                  1.0  \n",
       "3           0.001083               0.001083                  1.0  \n",
       "4           0.000879               0.000659                  1.0  \n",
       "\n",
       "[5 rows x 32 columns]"
      ]
     },
     "execution_count": 104,
     "metadata": {},
     "output_type": "execute_result"
    }
   ],
   "source": [
    "DataSet.head()"
   ]
  },
  {
   "cell_type": "code",
   "execution_count": null,
   "metadata": {},
   "outputs": [],
   "source": [
    "#one_hot_symbol=pd.get_dummies(DataSet['symbol'])\n",
    "testGroup=DataSet\n",
    "one_hot_type=pd.get_dummies(testGroup['symbol_type'])\n",
    "testGroup=testGroup.drop('symbol', axis=1)\n",
    "#DataSet=DataSet.join(one_hot_symbol)\n",
    "testGroup=testGroup.drop('symbol_type', axis=1)\n",
    "testGroup=testGroup.join(one_hot_type)\n",
    "\n",
    "#ticker_one_hot_feature=list(one_hot_symbol.columns)\n",
    "type_one_hot_features=list(one_hot_type.columns)\n",
    "\n",
    "allNumericalFeaturesOneHot=allNumericalFeatures+['ordinal_times']+type_one_hot_features\n",
    "\n",
    "x_train, x_test, y_train, y_test=train_test_split(testGroup[allNumericalFeaturesOneHot], testGroup['fut_spread'], test_size=0.25, shuffle=True)\n",
    "\n",
    "to_pca_train=x_train[allNumericalFeatures]\n",
    "x_train=x_train.drop(allNumericalFeatures, axis=1)\n",
    "to_pca_test=x_test[allNumericalFeatures]\n",
    "x_test=x_test.drop(allNumericalFeatures, axis=1)\n",
    "\n",
    "scaler=StandardScaler()\n",
    "scaler.fit(to_pca_train)\n",
    "to_pca_train=scaler.transform(to_pca_train)\n",
    "to_pca_test=scaler.transform(to_pca_test)\n",
    "    \n",
    "pca=PCA(0.95)\n",
    "pca.fit(to_pca_train)\n",
    "print(pca.explained_variance_ratio_)\n",
    "to_pca_train=pca.transform(to_pca_train)\n",
    "to_pca_test=pca.transform(to_pca_test)\n",
    "\n",
    "to_pca_train=pd.DataFrame(to_pca_train, dtype=float)\n",
    "x_train.reset_index(drop=True, inplace=True)\n",
    "\n",
    "to_pca_test=pd.DataFrame(to_pca_test, dtype=float)\n",
    "x_test.reset_index(drop=True, inplace=True)\n",
    "\n",
    "x_train=pd.concat([x_train, to_pca_train], axis=1)\n",
    "x_test=pd.concat([x_test, to_pca_test], axis=1)\n",
    "\n",
    "Predictor=RandomForestRegressor(max_depth=5, n_estimators=40).fit(x_train, y_train)\n",
    "y_train_pred=Predictor.predict(x_train)\n",
    "y_test_pred=Predictor.predict(x_test)\n",
    "\n",
    "training_error=np.sqrt(metrics.mean_squared_error(y_train_pred, y_train))/(DataSet['fut_spread'].std())\n",
    "test_error=np.sqrt(metrics.mean_squared_error(y_test_pred, y_test))/(DataSet['fut_spread'].std())\n",
    "\n",
    "print(Predictor.score(x_train, y_train))\n",
    "print(Predictor.score(x_test, y_test))\n",
    "\n",
    "\n",
    "print(training_error)\n",
    "print(test_error)"
   ]
  },
  {
   "cell_type": "code",
   "execution_count": null,
   "metadata": {
    "jupyter": {
     "source_hidden": true
    }
   },
   "outputs": [],
   "source": [
    "plt.plot(DataSet[DataSet['symbol_type']=='Common Stock']['median_width'], DataSet[DataSet['symbol_type']=='Common Stock']['fut_spread'],ls='none', ms=4, Marker='.')"
   ]
  },
  {
   "cell_type": "code",
   "execution_count": null,
   "metadata": {},
   "outputs": [],
   "source": [
    "ZS=DataSet[DataSet['symbol']=='ZS'][['fut_spread', 'spread', 'ordinal_times']].groupby(['ordinal_times']).mean()\n",
    "GS=DataSet[DataSet['symbol']=='GS'][['fut_spread', 'spread', 'ordinal_times']].groupby(['ordinal_times']).mean()\n",
    "IAC=DataSet[DataSet['symbol']=='IAC'][['fut_spread', 'spread', 'ordinal_times']].groupby(['ordinal_times']).mean()\n",
    "fig, axs=plt.subplots(1,3, sharex=True, sharey=True)\n",
    "\n",
    "fig.set_size_inches(20,5)\n",
    "\n",
    "axs[0].plot(ZS['fut_spread'])\n",
    "axs[0].set_xlabel('ordinal time')\n",
    "axs[0].set_ylabel('future spread (normalized)')\n",
    "axs[0].set_title('ZS')\n",
    "axs[0].set_xscale('log')\n",
    "axs[0].set_yscale('log')\n",
    "\n",
    "axs[1].plot(GS['fut_spread'])\n",
    "axs[1].set_xlabel('ordinal time')\n",
    "axs[1].set_title('GS')\n",
    "axs[1].set_xscale('log')\n",
    "axs[1].set_yscale('log')\n",
    "\n",
    "axs[2].plot(IAC['fut_spread'])\n",
    "axs[2].set_xlabel('ordinal time')\n",
    "axs[2].set_title('IAC')\n",
    "axs[2].set_xscale('log')\n",
    "axs[2].set_yscale('log')\n",
    "\n",
    "plt.show()"
   ]
  },
  {
   "cell_type": "code",
   "execution_count": null,
   "metadata": {},
   "outputs": [],
   "source": [
    "plt.plot(ZS['fut_spread'])\n",
    "plt.plot(GS['fut_spread'])\n",
    "plt.plot(IAC['fut_spread'])\n",
    "plt.xscale('log')\n",
    "plt.yscale('log')"
   ]
  },
  {
   "cell_type": "code",
   "execution_count": null,
   "metadata": {},
   "outputs": [],
   "source": [
    "DataSet['fut_spread_by_width']=DataSet.apply(lambda row: row['fut_spread']/row['median_width'], axis=1)"
   ]
  },
  {
   "cell_type": "code",
   "execution_count": null,
   "metadata": {},
   "outputs": [],
   "source": [
    "fig, axs=plt.subplots(1,3, sharex=True)\n",
    "fig.set_size_inches(20,5)\n",
    "ZS=DataSet[DataSet['symbol']=='ZS'][['fut_spread_by_width', 'spread', 'ordinal_times']].groupby(['ordinal_times']).mean()\n",
    "GS=DataSet[DataSet['symbol']=='GS'][['fut_spread_by_width', 'spread', 'ordinal_times']].groupby(['ordinal_times']).mean()\n",
    "IAC=DataSet[DataSet['symbol']=='IAC'][['fut_spread_by_width', 'spread', 'ordinal_times']].groupby(['ordinal_times']).mean()\n",
    "MSFT=DataSet[DataSet['symbol']=='MSFT'][['fut_spread_by_width', 'spread', 'ordinal_times']].groupby(['ordinal_times']).mean()\n",
    "OPEN=DataSet[DataSet['symbol']=='OPEN'][['fut_spread_by_width', 'spread', 'ordinal_times']].groupby(['ordinal_times']).mean()\n",
    "REGN=DataSet[DataSet['symbol']=='REGN'][['fut_spread_by_width', 'spread', 'ordinal_times']].groupby(['ordinal_times']).mean()\n",
    "\n",
    "\n",
    "\n",
    "\n",
    "\n",
    "axs[0].plot(ZS['fut_spread_by_width'])\n",
    "axs[0].plot(GS['fut_spread_by_width'])\n",
    "axs[0].plot(IAC['fut_spread_by_width'])\n",
    "axs[0].plot(MSFT['fut_spread_by_width'])\n",
    "axs[0].plot(OPEN['fut_spread_by_width'])\n",
    "axs[0].plot(REGN['fut_spread_by_width'])\n",
    "axs[0].set_xscale('log')\n",
    "axs[0].set_yscale('log')\n",
    "axs[0].plot(2*np.linspace(1,30, num=38)**-0.25, color='black', label='My guess')\n",
    "axs[0].set_title('Common Stock')\n",
    "axs[0].set_xlabel('ordinal time')\n",
    "axs[0].legend()\n",
    "\n",
    "\n",
    "VOT=DataSet[DataSet['symbol']=='VOT'][['fut_spread_by_width', 'spread', 'ordinal_times']].groupby(['ordinal_times']).mean()\n",
    "EWJ=DataSet[DataSet['symbol']=='EWJ'][['fut_spread_by_width', 'spread', 'ordinal_times']].groupby(['ordinal_times']).mean()\n",
    "IWV=DataSet[DataSet['symbol']=='IWV'][['fut_spread_by_width', 'spread', 'ordinal_times']].groupby(['ordinal_times']).mean()\n",
    "IVV=DataSet[DataSet['symbol']=='IVV'][['fut_spread_by_width', 'spread', 'ordinal_times']].groupby(['ordinal_times']).mean()\n",
    "IWB=DataSet[DataSet['symbol']=='IWB'][['fut_spread_by_width', 'spread', 'ordinal_times']].groupby(['ordinal_times']).mean()\n",
    "SPYV=DataSet[DataSet['symbol']=='SPYV'][['fut_spread_by_width', 'spread', 'ordinal_times']].groupby(['ordinal_times']).mean()\n",
    "\n",
    "\n",
    "\n",
    "axs[1].plot(VOT['fut_spread_by_width'])\n",
    "axs[1].plot(EWJ['fut_spread_by_width'])\n",
    "axs[1].plot(IWV['fut_spread_by_width'])\n",
    "axs[1].plot(IVV['fut_spread_by_width'])\n",
    "axs[1].plot(IWB['fut_spread_by_width'])\n",
    "axs[1].plot(SPYV['fut_spread_by_width'])\n",
    "\n",
    "axs[1].plot(2*np.linspace(1,30, num=38)**-0.2, color='black')\n",
    "\n",
    "axs[1].set_xscale('log')\n",
    "axs[1].set_yscale('log')\n",
    "axs[1].set_title('ETP')\n",
    "\n",
    "\n",
    "ING=DataSet[DataSet['symbol']=='ING'][['fut_spread_by_width', 'spread', 'ordinal_times']].groupby(['ordinal_times']).mean()\n",
    "BIDU=DataSet[DataSet['symbol']=='BIDU'][['fut_spread_by_width', 'spread', 'ordinal_times']].groupby(['ordinal_times']).mean()\n",
    "XPEV=DataSet[DataSet['symbol']=='XPEV'][['fut_spread_by_width', 'spread', 'ordinal_times']].groupby(['ordinal_times']).mean()\n",
    "HDB=DataSet[DataSet['symbol']=='HDB'][['fut_spread_by_width', 'spread', 'ordinal_times']].groupby(['ordinal_times']).mean()\n",
    "NGG=DataSet[DataSet['symbol']=='NGG'][['fut_spread_by_width', 'spread', 'ordinal_times']].groupby(['ordinal_times']).mean()\n",
    "LU=DataSet[DataSet['symbol']=='LU'][['fut_spread_by_width', 'spread', 'ordinal_times']].groupby(['ordinal_times']).mean()\n",
    "\n",
    "\n",
    "\n",
    "axs[2].plot(ING['fut_spread_by_width'])\n",
    "axs[2].plot(BIDU['fut_spread_by_width'])\n",
    "axs[2].plot(XPEV['fut_spread_by_width'])\n",
    "axs[2].plot(HDB['fut_spread_by_width'])\n",
    "axs[2].plot(NGG['fut_spread_by_width'])\n",
    "axs[2].plot(LU['fut_spread_by_width'])\n",
    "\n",
    "axs[2].plot(2*np.linspace(1,30, num=38)**-0.2, color='black')\n",
    "\n",
    "axs[2].set_xscale('log')\n",
    "axs[2].set_yscale('log')\n",
    "axs[2].set_title('ADR')\n",
    "\n",
    "plt.show()"
   ]
  },
  {
   "cell_type": "code",
   "execution_count": null,
   "metadata": {},
   "outputs": [],
   "source": [
    "testDataSet=DataSet[(DataSet['normalized_spread']>0) & (DataSet['normalized_fut_spread']>0)]\n",
    "\n",
    "testDataSet['fut_spread_by_last_spread']=testDataSet.apply(lambda row: row['fut_spread']/row['spread'], axis=1)"
   ]
  },
  {
   "cell_type": "code",
   "execution_count": null,
   "metadata": {
    "jupyter": {
     "source_hidden": true
    }
   },
   "outputs": [],
   "source": [
    "fig, axs=plt.subplots(1,3, sharex=True)\n",
    "fig.set_size_inches(20,5)\n",
    "\n",
    "preserved_rows=['fut_spread_by_last_spread', 'spread', 'ordinal_times']\n",
    "ZS=testDataSet[testDataSet['symbol']=='ZS'][preserved_rows].groupby(['ordinal_times']).mean()\n",
    "GS=testDataSet[testDataSet['symbol']=='GS'][preserved_rows].groupby(['ordinal_times']).mean()\n",
    "IAC=testDataSet[testDataSet['symbol']=='IAC'][preserved_rows].groupby(['ordinal_times']).mean()\n",
    "MSFT=testDataSet[testDataSet['symbol']=='MSFT'][preserved_rows].groupby(['ordinal_times']).mean()\n",
    "OPEN=testDataSet[testDataSet['symbol']=='OPEN'][preserved_rows].groupby(['ordinal_times']).mean()\n",
    "REGN=testDataSet[testDataSet['symbol']=='REGN'][preserved_rows].groupby(['ordinal_times']).mean()\n",
    "\n",
    "\n",
    "\n",
    "\n",
    "\n",
    "axs[0].plot(ZS['fut_spread_by_last_spread'])\n",
    "axs[0].plot(GS['fut_spread_by_last_spread'])\n",
    "axs[0].plot(IAC['fut_spread_by_last_spread'])\n",
    "axs[0].plot(MSFT['fut_spread_by_last_spread'])\n",
    "axs[0].plot(OPEN['fut_spread_by_last_spread'])\n",
    "axs[0].plot(REGN['fut_spread_by_last_spread'])\n",
    "axs[0].set_xscale('log')\n",
    "axs[0].set_yscale('log')\n",
    "axs[0].set_title('Common Stock')\n",
    "axs[0].set_xlabel('ordinal time')\n",
    "\n",
    "\n",
    "VOT=testDataSet[testDataSet['symbol']=='VOT'][preserved_rows].groupby(['ordinal_times']).mean()\n",
    "EWJ=testDataSet[testDataSet['symbol']=='EWJ'][preserved_rows].groupby(['ordinal_times']).mean()\n",
    "IWV=testDataSet[testDataSet['symbol']=='IWV'][preserved_rows].groupby(['ordinal_times']).mean()\n",
    "IVV=testDataSet[testDataSet['symbol']=='IVV'][preserved_rows].groupby(['ordinal_times']).mean()\n",
    "IWB=testDataSet[testDataSet['symbol']=='IWB'][preserved_rows].groupby(['ordinal_times']).mean()\n",
    "SPYV=testDataSet[testDataSet['symbol']=='SPYV'][preserved_rows].groupby(['ordinal_times']).mean()\n",
    "\n",
    "\n",
    "axs[1].plot(VOT['fut_spread_by_last_spread'])\n",
    "axs[1].plot(EWJ['fut_spread_by_last_spread'])\n",
    "axs[1].plot(IWV['fut_spread_by_last_spread'])\n",
    "axs[1].plot(IVV['fut_spread_by_last_spread'])\n",
    "axs[1].plot(IWB['fut_spread_by_last_spread'])\n",
    "axs[1].plot(SPYV['fut_spread_by_last_spread'])\n",
    "\n",
    "\n",
    "\n",
    "axs[1].set_xscale('log')\n",
    "axs[1].set_yscale('log')\n",
    "axs[1].set_title('ETP')\n",
    "\n",
    "\n",
    "ING=testDataSet[testDataSet['symbol']=='ING'][preserved_rows].groupby(['ordinal_times']).mean()\n",
    "BIDU=testDataSet[testDataSet['symbol']=='BIDU'][preserved_rows].groupby(['ordinal_times']).mean()\n",
    "XPEV=testDataSet[testDataSet['symbol']=='XPEV'][preserved_rows].groupby(['ordinal_times']).mean()\n",
    "HDB=testDataSet[testDataSet['symbol']=='HDB'][preserved_rows].groupby(['ordinal_times']).mean()\n",
    "NGG=testDataSet[testDataSet['symbol']=='NGG'][preserved_rows].groupby(['ordinal_times']).mean()\n",
    "LU=testDataSet[testDataSet['symbol']=='LU'][preserved_rows].groupby(['ordinal_times']).mean()\n",
    "\n",
    "\n",
    "axs[2].plot(ING['fut_spread_by_last_spread'])\n",
    "axs[2].plot(BIDU['fut_spread_by_last_spread'])\n",
    "axs[2].plot(XPEV['fut_spread_by_last_spread'])\n",
    "axs[2].plot(HDB['fut_spread_by_last_spread'])\n",
    "axs[2].plot(NGG['fut_spread_by_last_spread'])\n",
    "axs[2].plot(LU['fut_spread_by_last_spread'])\n",
    "\n",
    "\n",
    "axs[2].set_xscale('log')\n",
    "axs[2].set_yscale('log')\n",
    "axs[2].set_title('ADR')\n",
    "\n",
    "plt.show()"
   ]
  },
  {
   "cell_type": "code",
   "execution_count": null,
   "metadata": {},
   "outputs": [],
   "source": [
    "data=deepcopy(testDataSet[testDataSet['symbol']=='OPEN'])\n",
    "data['log_fut_spread']=data.apply(lambda row: np.log(row['fut_spread']), axis=1)\n",
    "data['log_med_width']=data.apply(lambda row: np.log(row['median_width']), axis=1)\n",
    "data['log_ordinal_times']=data.apply(lambda row: np.log(row['ordinal_times']+1), axis=1)\n",
    "\n",
    "features=['log_med_width', 'ordinal_times']\n",
    "target='log_fut_spread'\n",
    "\n",
    "x_train, x_test, y_train, y_test=splitData(data, features, target, 0.25, set_seed=False)\n",
    "\n",
    "Predictor=Ridge(alpha=0.001).fit(x_train, y_train)\n",
    "y_train_pred=Predictor.predict(x_train)\n",
    "y_test_pred=Predictor.predict(x_test)\n",
    "\n",
    "train_error=np.sqrt(metrics.mean_squared_error(y_train_pred, y_train))/(data['log_fut_spread'].std())\n",
    "\n",
    "test_error=np.sqrt(metrics.mean_squared_error(y_test_pred, y_test))/(data['log_fut_spread'].std())\n",
    "print(train_error)\n",
    "print(test_error)\n",
    "print(Predictor.score(x_test, y_test))"
   ]
  },
  {
   "cell_type": "code",
   "execution_count": null,
   "metadata": {},
   "outputs": [],
   "source": [
    "testStaticFeatures=staticFeatures\n",
    "testNumerical=allNumericalFeatures\n",
    "target='fut_spread'\n",
    "\n",
    "#one_hot_symbol=pd.get_dummies(DataSet['symbol'])\n",
    "testGroup=DataSet\n",
    "one_hot_type=pd.get_dummies(testGroup['symbol_type'])\n",
    "testGroup=testGroup.drop('symbol', axis=1)\n",
    "#testGroup=testGroup.join(one_hot_symbol)\n",
    "testGroup=testGroup.drop('symbol_type', axis=1)\n",
    "testGroup=testGroup.join(one_hot_type)\n",
    "\n",
    "#ticker_one_hot_features=list(one_hot_symbol.columns)\n",
    "type_one_hot_features=list(one_hot_type.columns)\n",
    "\n",
    "testStaticAll=testStaticFeatures+type_one_hot_features+['ordinal_times']\n",
    "testNumericalAll=testNumerical+type_one_hot_features+['ordinal_times']"
   ]
  },
  {
   "cell_type": "code",
   "execution_count": 34,
   "metadata": {},
   "outputs": [],
   "source": [
    "DataSet=pd.read_parquet(\"spreads_data_train.par\")\n",
    "DataSet=DataSet.sort_values(by='localtime')\n",
    "tickers=list(DataSet['symbol'].unique())\n",
    "FeatureSet=pd.read_csv('data_descriptions.csv')\n",
    "FeatureSet\n",
    "staticFeatures=list(FeatureSet[(FeatureSet['Category']=='Static') & ((FeatureSet['Type']=='float64') | (FeatureSet['Type']=='int64'))]['Column'])\n",
    "TandQFeatures=list(FeatureSet[(FeatureSet['Category']=='Trade') | (FeatureSet['Category']=='Quote')]['Column'])\n",
    "allNumericalFeatures=staticFeatures+TandQFeatures\n",
    "\n",
    "DataSet=DataSet[DataSet['numEvents']>=0]\n",
    "DataSet=DataSet[(DataSet['fut_spread']>0) & (DataSet['spread']>0)]\n",
    "\n",
    "DataSet=DataSet.rename_axis(\"ordinal_times\").reset_index()\n",
    "DataSet.head()\n",
    "\n",
    "staticDataSet=DataSet.dropna()\n",
    "totalDataSet=DataSet\n",
    "\n",
    "hgbrStaticFeatures=['symbol', 'symbol_type', 'ordinal_times']+staticFeatures\n",
    "hgbrNumericalFeatures=['symbol', 'symbol_type', 'ordinal_times']+allNumericalFeatures"
   ]
  },
  {
   "cell_type": "code",
   "execution_count": 42,
   "metadata": {},
   "outputs": [],
   "source": [
    "testStaticFeatures=staticFeatures\n",
    "testNumerical=allNumericalFeatures\n",
    "target='fut_spread'\n",
    "\n",
    "#one_hot_symbol=pd.get_dummies(DataSet['symbol'])\n",
    "testGroup=staticDataSet\n",
    "one_hot_type=pd.get_dummies(testGroup['symbol_type'])\n",
    "testGroup=testGroup.drop('symbol', axis=1)\n",
    "#testGroup=testGroup.join(one_hot_symbol)\n",
    "testGroup=testGroup.drop('symbol_type', axis=1)\n",
    "testGroup=testGroup.join(one_hot_type)\n",
    "\n",
    "#ticker_one_hot_features=list(one_hot_symbol.columns)\n",
    "type_one_hot_features=list(one_hot_type.columns)\n",
    "\n",
    "testStaticAll=testStaticFeatures+type_one_hot_features+['ordinal_times']\n",
    "testNumericalAll=testNumerical+type_one_hot_features+['ordinal_times']"
   ]
  },
  {
   "cell_type": "code",
   "execution_count": 47,
   "metadata": {},
   "outputs": [
    {
     "name": "stdout",
     "output_type": "stream",
     "text": [
      "[0.30049969 0.28326596 0.12468561 0.09994455 0.09894358 0.06793264]\n"
     ]
    }
   ],
   "source": [
    "from sklearn.experimental import enable_hist_gradient_boosting\n",
    "from sklearn.ensemble import HistGradientBoostingRegressor\n",
    "\n",
    "target='fut_spread'\n",
    "\n",
    "x_train, x_test, y_train, y_test=splitData(testGroup, testStaticAll, target, 0.1, set_seed=False)\n",
    "\n",
    "to_pca_train=x_train[staticFeatures]\n",
    "x_train=x_train.drop(staticFeatures, axis=1)\n",
    "to_pca_test=x_test[staticFeatures]\n",
    "x_test=x_test.drop(staticFeatures, axis=1)\n",
    "\n",
    "scaler=StandardScaler()\n",
    "scaler.fit(to_pca_train)\n",
    "to_pca_train=scaler.transform(to_pca_train)\n",
    "to_pca_test=scaler.transform(to_pca_test)\n",
    "    \n",
    "pca=PCA(0.95)\n",
    "pca.fit(to_pca_train)\n",
    "print(pca.explained_variance_ratio_)\n",
    "to_pca_train=pca.transform(to_pca_train)\n",
    "to_pca_test=pca.transform(to_pca_test)\n",
    "\n",
    "to_pca_train=pd.DataFrame(to_pca_train, dtype=float)\n",
    "x_train.reset_index(drop=True, inplace=True)\n",
    "\n",
    "to_pca_test=pd.DataFrame(to_pca_test, dtype=float)\n",
    "x_test.reset_index(drop=True, inplace=True)\n",
    "\n",
    "x_train=pd.concat([x_train, to_pca_train], axis=1)\n",
    "x_test=pd.concat([x_test, to_pca_test], axis=1)\n",
    "\n",
    "reg=HistGradientBoostingRegressor().fit(x_train, y_train)\n"
   ]
  },
  {
   "cell_type": "code",
   "execution_count": 48,
   "metadata": {},
   "outputs": [
    {
     "name": "stdout",
     "output_type": "stream",
     "text": [
      "0.8207039393323616\n",
      "0.43505499121316576\n"
     ]
    }
   ],
   "source": [
    "y_test_pred=reg.predict(x_test)\n",
    "print(reg.score(x_test, y_test))\n",
    "print(np.sqrt(metrics.mean_squared_error(y_test_pred, y_test))/(testGroup['fut_spread'].std()))"
   ]
  },
  {
   "cell_type": "code",
   "execution_count": 50,
   "metadata": {},
   "outputs": [
    {
     "name": "stdout",
     "output_type": "stream",
     "text": [
      "[0.44908592 0.18934761 0.11392411 0.05989628 0.04392829 0.04304131\n",
      " 0.03509406 0.02511793]\n",
      "0.8287045045548687\n",
      "0.393072079334081\n"
     ]
    }
   ],
   "source": [
    "x_train, x_test, y_train, y_test=splitData(testGroup, testNumericalAll, target, 0.1, set_seed=False)\n",
    "\n",
    "to_pca_train=x_train[testNumerical]\n",
    "x_train=x_train.drop(testNumerical, axis=1)\n",
    "to_pca_test=x_test[testNumerical]\n",
    "x_test=x_test.drop(testNumerical, axis=1)\n",
    "\n",
    "scaler=StandardScaler()\n",
    "scaler.fit(to_pca_train)\n",
    "to_pca_train=scaler.transform(to_pca_train)\n",
    "to_pca_test=scaler.transform(to_pca_test)\n",
    "    \n",
    "pca=PCA(0.95)\n",
    "pca.fit(to_pca_train)\n",
    "print(pca.explained_variance_ratio_)\n",
    "to_pca_train=pca.transform(to_pca_train)\n",
    "to_pca_test=pca.transform(to_pca_test)\n",
    "\n",
    "to_pca_train=pd.DataFrame(to_pca_train, dtype=float)\n",
    "x_train.reset_index(drop=True, inplace=True)\n",
    "\n",
    "to_pca_test=pd.DataFrame(to_pca_test, dtype=float)\n",
    "x_test.reset_index(drop=True, inplace=True)\n",
    "\n",
    "x_train=pd.concat([x_train, to_pca_train], axis=1)\n",
    "x_test=pd.concat([x_test, to_pca_test], axis=1)\n",
    "\n",
    "reg=HistGradientBoostingRegressor().fit(x_train, y_train)\n",
    "\n",
    "y_test_pred=reg.predict(x_test)\n",
    "print(reg.score(x_test, y_test))\n",
    "print(np.sqrt(metrics.mean_squared_error(y_test_pred, y_test))/(staticDataSet['fut_spread'].std()))\n",
    "\n",
    "\n",
    "\n",
    "\n"
   ]
  },
  {
   "cell_type": "code",
   "execution_count": 48,
   "metadata": {},
   "outputs": [
    {
     "name": "stdout",
     "output_type": "stream",
     "text": [
      "2.7.0\n"
     ]
    }
   ],
   "source": [
    "import matplotlib.pyplot as plt\n",
    "import numpy as np\n",
    "import pandas as pd\n",
    "import seaborn as sns\n",
    "\n",
    "import tensorflow as tf\n",
    "\n",
    "from tensorflow import keras\n",
    "from tensorflow.keras import layers\n",
    "\n",
    "print(tf.__version__)\n",
    "\n"
   ]
  },
  {
   "cell_type": "code",
   "execution_count": 67,
   "metadata": {},
   "outputs": [],
   "source": [
    "DataSet=pd.read_parquet(\"spreads_data_train.par\")\n",
    "DataSet=DataSet.sort_values(by='localtime')\n",
    "tickers=list(DataSet['symbol'].unique())\n",
    "FeatureSet=pd.read_csv('data_descriptions.csv')\n",
    "FeatureSet\n",
    "staticFeatures=list(FeatureSet[(FeatureSet['Category']=='Static') & ((FeatureSet['Type']=='float64') | (FeatureSet['Type']=='int64'))]['Column'])\n",
    "TandQFeatures=list(FeatureSet[(FeatureSet['Category']=='Trade') | (FeatureSet['Category']=='Quote')]['Column'])\n",
    "allNumericalFeatures=staticFeatures+TandQFeatures\n",
    "\n",
    "DataSet=DataSet[DataSet['numEvents']>=0]\n",
    "\n",
    "DataSet['normalized_spread']=DataSet.apply(lambda row: normalizeSpread(row['spread'],row['ask']), axis=1)\n",
    "DataSet['normalized_fut_spread']=DataSet.apply(lambda row: normalizeSpread(row['fut_spread'],row['ask']), axis=1)\n",
    "DataSet=DataSet[(DataSet['fut_spread']>0) & (DataSet['spread']>0)]\n",
    "\n",
    "DataSet=DataSet.rename_axis(\"ordinal_times\").reset_index()\n",
    "DataSet.head()\n",
    "\n",
    "DataSet=DataSet.dropna()\n",
    "\n",
    "tfStaticFeatures=['ordinal_times']+staticFeatures\n",
    "tfNumericalFeatures=['ordinal_times']+allNumericalFeatures"
   ]
  },
  {
   "cell_type": "code",
   "execution_count": 107,
   "metadata": {},
   "outputs": [
    {
     "name": "stdout",
     "output_type": "stream",
     "text": [
      "First example: [[2.40e+01 5.22e-01 5.45e+05 3.75e+08 5.26e+05 3.67e+08 1.19e+00 1.13e+00\n",
      "  9.00e+01 6.88e+02 6.67e+02]]\n",
      "\n",
      "Normalized: [[ 0.44 -0.63 -0.75 -1.92 -0.51 -1.    0.94  1.06 -0.51  0.56  0.5 ]]\n"
     ]
    }
   ],
   "source": [
    "symbol='TTD'\n",
    "target='fut_spread'\n",
    "\n",
    "data=DataSet[DataSet['symbol']==symbol]\n",
    "\n",
    "reduced_features=['median_width','avg_daily_volume','volatility','closing_price']\n",
    "\n",
    "x_train, x_test, y_train, y_test=splitData(data, tfStaticFeatures, target, 0.1, set_seed=False)\n",
    "\n",
    "normalizer = tf.keras.layers.Normalization(axis=-1)\n",
    "normalizer.adapt(np.array(x_train))\n",
    "\n",
    "first = np.array(x_train[:1])\n",
    "\n",
    "with np.printoptions(precision=2, suppress=True):\n",
    "    print('First example:', first)\n",
    "    print()\n",
    "    print('Normalized:', normalizer(first).numpy())"
   ]
  },
  {
   "cell_type": "code",
   "execution_count": 152,
   "metadata": {},
   "outputs": [],
   "source": [
    "def build_and_compile_model(norm):\n",
    "    model = keras.Sequential([\n",
    "        norm,\n",
    "        layers.Dense(64, activation='relu'),\n",
    "        layers.Dense(64, activation='relu'),\n",
    "        layers.Dense(1)\n",
    "    ])\n",
    "\n",
    "    model.compile(loss='mean_squared_error',\n",
    "                optimizer=tf.keras.optimizers.Adam(0.001))\n",
    "    return model"
   ]
  },
  {
   "cell_type": "code",
   "execution_count": 109,
   "metadata": {},
   "outputs": [
    {
     "name": "stdout",
     "output_type": "stream",
     "text": [
      "Model: \"sequential_10\"\n",
      "_________________________________________________________________\n",
      " Layer (type)                Output Shape              Param #   \n",
      "=================================================================\n",
      " normalization_10 (Normaliza  (None, 11)               23        \n",
      " tion)                                                           \n",
      "                                                                 \n",
      " dense_30 (Dense)            (None, 64)                768       \n",
      "                                                                 \n",
      " dense_31 (Dense)            (None, 64)                4160      \n",
      "                                                                 \n",
      " dense_32 (Dense)            (None, 1)                 65        \n",
      "                                                                 \n",
      "=================================================================\n",
      "Total params: 5,016\n",
      "Trainable params: 4,993\n",
      "Non-trainable params: 23\n",
      "_________________________________________________________________\n"
     ]
    }
   ],
   "source": [
    "dnn_model = build_and_compile_model(normalizer)\n",
    "dnn_model.summary()\n",
    "history = dnn_model.fit(\n",
    "    x_train,\n",
    "    y_train,\n",
    "    validation_split=0.2,\n",
    "    verbose=0, epochs=100)\n",
    "\n"
   ]
  },
  {
   "cell_type": "code",
   "execution_count": 118,
   "metadata": {},
   "outputs": [
    {
     "ename": "NameError",
     "evalue": "name 'plot' is not defined",
     "output_type": "error",
     "traceback": [
      "\u001b[0;31m---------------------------------------------------------------------------\u001b[0m",
      "\u001b[0;31mNameError\u001b[0m                                 Traceback (most recent call last)",
      "\u001b[0;32m<ipython-input-118-09fcf78921f5>\u001b[0m in \u001b[0;36m<module>\u001b[0;34m\u001b[0m\n\u001b[0;32m----> 1\u001b[0;31m \u001b[0mplot\u001b[0m\u001b[0;34m(\u001b[0m\u001b[0mhistory\u001b[0m\u001b[0;34m)\u001b[0m\u001b[0;34m\u001b[0m\u001b[0;34m\u001b[0m\u001b[0m\n\u001b[0m",
      "\u001b[0;31mNameError\u001b[0m: name 'plot' is not defined"
     ]
    }
   ],
   "source": [
    "plot(history)"
   ]
  },
  {
   "cell_type": "code",
   "execution_count": 110,
   "metadata": {},
   "outputs": [
    {
     "data": {
      "text/html": [
       "<div>\n",
       "<style scoped>\n",
       "    .dataframe tbody tr th:only-of-type {\n",
       "        vertical-align: middle;\n",
       "    }\n",
       "\n",
       "    .dataframe tbody tr th {\n",
       "        vertical-align: top;\n",
       "    }\n",
       "\n",
       "    .dataframe thead th {\n",
       "        text-align: right;\n",
       "    }\n",
       "</style>\n",
       "<table border=\"1\" class=\"dataframe\">\n",
       "  <thead>\n",
       "    <tr style=\"text-align: right;\">\n",
       "      <th></th>\n",
       "      <th>Certainty Gain over Null Guess</th>\n",
       "    </tr>\n",
       "  </thead>\n",
       "  <tbody>\n",
       "    <tr>\n",
       "      <th>IAC_MSE_full</th>\n",
       "      <td>0.068760</td>\n",
       "    </tr>\n",
       "    <tr>\n",
       "      <th>IAC_MSE_static</th>\n",
       "      <td>0.075308</td>\n",
       "    </tr>\n",
       "    <tr>\n",
       "      <th>ZS_MSE_full</th>\n",
       "      <td>0.039872</td>\n",
       "    </tr>\n",
       "    <tr>\n",
       "      <th>ZS_MSE_static</th>\n",
       "      <td>0.035778</td>\n",
       "    </tr>\n",
       "    <tr>\n",
       "      <th>ZS_MSE_reduced</th>\n",
       "      <td>0.027492</td>\n",
       "    </tr>\n",
       "  </tbody>\n",
       "</table>\n",
       "</div>"
      ],
      "text/plain": [
       "                Certainty Gain over Null Guess\n",
       "IAC_MSE_full                          0.068760\n",
       "IAC_MSE_static                        0.075308\n",
       "ZS_MSE_full                           0.039872\n",
       "ZS_MSE_static                         0.035778\n",
       "ZS_MSE_reduced                        0.027492"
      ]
     },
     "execution_count": 110,
     "metadata": {},
     "output_type": "execute_result"
    }
   ],
   "source": [
    "y_test_pred = dnn_model.predict(x_test).flatten()\n",
    "\n",
    "error = (y_test_pred - y_test)**2\n",
    "\n",
    "test_results['ZS_MSE_reduced'] = (np.sqrt(error.sum()/len(y_test)))/data['fut_spread'].std()\n",
    "\n",
    "pd.DataFrame(test_results, index=['Certainty Gain over Null Guess']).T"
   ]
  },
  {
   "cell_type": "code",
   "execution_count": 220,
   "metadata": {},
   "outputs": [
    {
     "data": {
      "text/plain": [
       "0.624254170860794"
      ]
     },
     "execution_count": 220,
     "metadata": {},
     "output_type": "execute_result"
    }
   ],
   "source": [
    "data['fut_spread'].std()"
   ]
  },
  {
   "cell_type": "code",
   "execution_count": 225,
   "metadata": {},
   "outputs": [
    {
     "data": {
      "text/plain": [
       "0.6241715483773558"
      ]
     },
     "execution_count": 225,
     "metadata": {},
     "output_type": "execute_result"
    }
   ],
   "source": [
    "np.sqrt(((data['fut_spread']-data['fut_spread'].mean())**2).sum()/len(data['fut_spread']))"
   ]
  },
  {
   "cell_type": "code",
   "execution_count": 113,
   "metadata": {},
   "outputs": [
    {
     "data": {
      "image/png": "[encoded data removed]",
      "text/plain": [
       "<Figure size 432x288 with 1 Axes>"
      ]
     },
     "metadata": {
      "needs_background": "light"
     },
     "output_type": "display_data"
    }
   ],
   "source": [
    "y_test_pred = dnn_model.predict(x_test).flatten()\n",
    "\n",
    "a = plt.axes(aspect='equal')\n",
    "plt.scatter(y_test, y_test_pred)\n",
    "plt.xlabel('True future spread')\n",
    "plt.ylabel('Predicted future spread')\n",
    "lims = [0, 2]\n",
    "plt.xlim(lims)\n",
    "plt.ylim(lims)\n",
    "_ = plt.plot(lims, lims)"
   ]
  },
  {
   "cell_type": "code",
   "execution_count": 114,
   "metadata": {},
   "outputs": [
    {
     "data": {
      "image/png": "[encoded data removed]",
      "text/plain": [
       "<Figure size 432x288 with 1 Axes>"
      ]
     },
     "metadata": {
      "needs_background": "light"
     },
     "output_type": "display_data"
    }
   ],
   "source": [
    "error = (y_test_pred - y_test)\n",
    "plt.hist(error, bins=25)\n",
    "plt.xlabel('Prediction Error')\n",
    "_ = plt.ylabel('Count')"
   ]
  },
  {
   "cell_type": "code",
   "execution_count": 123,
   "metadata": {},
   "outputs": [
    {
     "data": {
      "text/plain": [
       "0.041767233566430154"
      ]
     },
     "execution_count": 123,
     "metadata": {},
     "output_type": "execute_result"
    }
   ],
   "source": [
    "error = (y_test_pred - y_test)**2\n",
    "(np.sqrt(error.sum())/len(y_test))/data['fut_spread'].std()"
   ]
  },
  {
   "cell_type": "code",
   "execution_count": 125,
   "metadata": {},
   "outputs": [],
   "source": [
    "import random\n",
    "random_tickers=random.sample(tickers, 100)"
   ]
  },
  {
   "cell_type": "code",
   "execution_count": 153,
   "metadata": {},
   "outputs": [
    {
     "name": "stderr",
     "output_type": "stream",
     "text": [
      "100%|██████████| 100/100 [13:06<00:00,  7.87s/it]\n"
     ]
    }
   ],
   "source": [
    "test_results_mse_full={}\n",
    "for ticker in tqdm(random_tickers):\n",
    "    data=DataSet[DataSet['symbol']==symbol]\n",
    "    x_train, x_test, y_train, y_test=splitData(data, tfNumericalFeatures, target, 0.1, set_seed=False)\n",
    "    normalizer = tf.keras.layers.Normalization(axis=-1)\n",
    "    normalizer.adapt(np.array(x_train))\n",
    "\n",
    "    dnn_model = build_and_compile_model(normalizer)\n",
    "    #dnn_model.summary()\n",
    "    history = dnn_model.fit(\n",
    "    x_train,\n",
    "    y_train,\n",
    "    validation_split=0.2,\n",
    "    verbose=0, epochs=100)\n",
    "    \n",
    "    y_test_pred = dnn_model.predict(x_test).flatten()\n",
    "\n",
    "    error = (y_test_pred - y_test)**2\n",
    "\n",
    "    test_results_mse_full[ticker] = (np.sqrt(error.sum())/len(y_test))/data['fut_spread'].std()"
   ]
  },
  {
   "cell_type": "code",
   "execution_count": 143,
   "metadata": {},
   "outputs": [
    {
     "data": {
      "text/plain": [
       "0.02914405129867438"
      ]
     },
     "execution_count": 143,
     "metadata": {},
     "output_type": "execute_result"
    }
   ],
   "source": [
    "np.mean(list(test_results.values()))"
   ]
  },
  {
   "cell_type": "code",
   "execution_count": 148,
   "metadata": {},
   "outputs": [
    {
     "data": {
      "text/plain": [
       "0.02981579061315427"
      ]
     },
     "execution_count": 148,
     "metadata": {},
     "output_type": "execute_result"
    }
   ],
   "source": [
    "np.mean(list(test_results.values()))"
   ]
  },
  {
   "cell_type": "code",
   "execution_count": 151,
   "metadata": {},
   "outputs": [
    {
     "data": {
      "text/plain": [
       "0.030776261827866108"
      ]
     },
     "execution_count": 151,
     "metadata": {},
     "output_type": "execute_result"
    }
   ],
   "source": [
    "np.mean(list(test_results_mae_full.values()))"
   ]
  },
  {
   "cell_type": "code",
   "execution_count": 154,
   "metadata": {},
   "outputs": [
    {
     "data": {
      "text/plain": [
       "0.03104810409459318"
      ]
     },
     "execution_count": 154,
     "metadata": {},
     "output_type": "execute_result"
    }
   ],
   "source": [
    "np.mean(list(test_results_mse_full.values()))"
   ]
  },
  {
   "cell_type": "code",
   "execution_count": 201,
   "metadata": {},
   "outputs": [],
   "source": [
    "DataSet['dayofweek']=DataSet['localtime'].dt.dayofweek"
   ]
  },
  {
   "cell_type": "code",
   "execution_count": 167,
   "metadata": {},
   "outputs": [],
   "source": [
    "from sklearn.preprocessing import OrdinalEncoder\n",
    "test=(DataSet['localtime'].dt.time)"
   ]
  },
  {
   "cell_type": "code",
   "execution_count": 164,
   "metadata": {},
   "outputs": [
    {
     "data": {
      "text/plain": [
       "array([datetime.time(14, 30), datetime.time(14, 30),\n",
       "       datetime.time(14, 30), ..., datetime.time(19, 50),\n",
       "       datetime.time(19, 50), datetime.time(19, 50)], dtype=object)"
      ]
     },
     "execution_count": 164,
     "metadata": {},
     "output_type": "execute_result"
    }
   ],
   "source": [
    "np.array(DataSet['localtime'].dt.time)"
   ]
  },
  {
   "cell_type": "code",
   "execution_count": 174,
   "metadata": {},
   "outputs": [
    {
     "ename": "AttributeError",
     "evalue": "'Series' object has no attribute 'value'",
     "output_type": "error",
     "traceback": [
      "\u001b[0;31m---------------------------------------------------------------------------\u001b[0m",
      "\u001b[0;31mAttributeError\u001b[0m                            Traceback (most recent call last)",
      "\u001b[0;32m<ipython-input-174-80079f35623f>\u001b[0m in \u001b[0;36m<module>\u001b[0;34m\u001b[0m\n\u001b[0;32m----> 1\u001b[0;31m \u001b[0mtest\u001b[0m\u001b[0;34m.\u001b[0m\u001b[0mvalue\u001b[0m\u001b[0;34m\u001b[0m\u001b[0;34m\u001b[0m\u001b[0m\n\u001b[0m",
      "\u001b[0;32m/opt/anaconda3/lib/python3.7/site-packages/pandas/core/generic.py\u001b[0m in \u001b[0;36m__getattr__\u001b[0;34m(self, name)\u001b[0m\n\u001b[1;32m   5485\u001b[0m         ):\n\u001b[1;32m   5486\u001b[0m             \u001b[0;32mreturn\u001b[0m \u001b[0mself\u001b[0m\u001b[0;34m[\u001b[0m\u001b[0mname\u001b[0m\u001b[0;34m]\u001b[0m\u001b[0;34m\u001b[0m\u001b[0;34m\u001b[0m\u001b[0m\n\u001b[0;32m-> 5487\u001b[0;31m         \u001b[0;32mreturn\u001b[0m \u001b[0mobject\u001b[0m\u001b[0;34m.\u001b[0m\u001b[0m__getattribute__\u001b[0m\u001b[0;34m(\u001b[0m\u001b[0mself\u001b[0m\u001b[0;34m,\u001b[0m \u001b[0mname\u001b[0m\u001b[0;34m)\u001b[0m\u001b[0;34m\u001b[0m\u001b[0;34m\u001b[0m\u001b[0m\n\u001b[0m\u001b[1;32m   5488\u001b[0m \u001b[0;34m\u001b[0m\u001b[0m\n\u001b[1;32m   5489\u001b[0m     \u001b[0;32mdef\u001b[0m \u001b[0m__setattr__\u001b[0m\u001b[0;34m(\u001b[0m\u001b[0mself\u001b[0m\u001b[0;34m,\u001b[0m \u001b[0mname\u001b[0m\u001b[0;34m:\u001b[0m \u001b[0mstr\u001b[0m\u001b[0;34m,\u001b[0m \u001b[0mvalue\u001b[0m\u001b[0;34m)\u001b[0m \u001b[0;34m->\u001b[0m \u001b[0;32mNone\u001b[0m\u001b[0;34m:\u001b[0m\u001b[0;34m\u001b[0m\u001b[0;34m\u001b[0m\u001b[0m\n",
      "\u001b[0;31mAttributeError\u001b[0m: 'Series' object has no attribute 'value'"
     ]
    }
   ],
   "source": [
    "test.value"
   ]
  },
  {
   "cell_type": "code",
   "execution_count": 182,
   "metadata": {},
   "outputs": [],
   "source": [
    "DataSet['valuetime'] = DataSet['time'].apply(lambda x: x.value)"
   ]
  },
  {
   "cell_type": "code",
   "execution_count": 179,
   "metadata": {},
   "outputs": [],
   "source": [
    "DataSet['time'] = pd.to_datetime(DataSet['localtime'])"
   ]
  },
  {
   "cell_type": "code",
   "execution_count": 197,
   "metadata": {},
   "outputs": [],
   "source": [
    "DataSet['time']=DataSet['localtime'].dt.time"
   ]
  },
  {
   "cell_type": "code",
   "execution_count": 200,
   "metadata": {},
   "outputs": [
    {
     "data": {
      "text/plain": [
       "array([datetime.time(14, 30), datetime.time(14, 40),\n",
       "       datetime.time(14, 50), datetime.time(15, 0), datetime.time(15, 10),\n",
       "       datetime.time(15, 20), datetime.time(15, 30),\n",
       "       datetime.time(15, 40), datetime.time(15, 50), datetime.time(16, 0),\n",
       "       datetime.time(16, 10), datetime.time(16, 20),\n",
       "       datetime.time(16, 30), datetime.time(16, 40),\n",
       "       datetime.time(16, 50), datetime.time(17, 0), datetime.time(17, 10),\n",
       "       datetime.time(17, 20), datetime.time(17, 30),\n",
       "       datetime.time(17, 40), datetime.time(17, 50), datetime.time(18, 0),\n",
       "       datetime.time(18, 10), datetime.time(18, 20),\n",
       "       datetime.time(18, 30), datetime.time(18, 40),\n",
       "       datetime.time(18, 50), datetime.time(19, 0), datetime.time(19, 10),\n",
       "       datetime.time(19, 20), datetime.time(19, 30),\n",
       "       datetime.time(19, 40), datetime.time(19, 50), datetime.time(20, 0),\n",
       "       datetime.time(20, 10), datetime.time(20, 20),\n",
       "       datetime.time(20, 30), datetime.time(20, 40),\n",
       "       datetime.time(20, 50), datetime.time(13, 30),\n",
       "       datetime.time(13, 40), datetime.time(13, 50), datetime.time(14, 0),\n",
       "       datetime.time(14, 10), datetime.time(14, 20)], dtype=object)"
      ]
     },
     "execution_count": 200,
     "metadata": {},
     "output_type": "execute_result"
    }
   ],
   "source": [
    "DataSet['time'].unique()"
   ]
  },
  {
   "cell_type": "code",
   "execution_count": 202,
   "metadata": {},
   "outputs": [
    {
     "data": {
      "text/plain": [
       "0          0\n",
       "1          0\n",
       "2          0\n",
       "3          0\n",
       "4          0\n",
       "          ..\n",
       "3366899    4\n",
       "3366900    4\n",
       "3366901    4\n",
       "3366902    4\n",
       "3366903    4\n",
       "Name: dayofweek, Length: 3364705, dtype: int64"
      ]
     },
     "execution_count": 202,
     "metadata": {},
     "output_type": "execute_result"
    }
   ],
   "source": [
    "DataSet['dayofweek']"
   ]
  },
  {
   "cell_type": "code",
   "execution_count": 213,
   "metadata": {},
   "outputs": [],
   "source": [
    "dayofweekspread=DataSet[['normalized_fut_spread', 'dayofweek', 'ordinal_times']].groupby(['dayofweek','ordinal_times']).mean()"
   ]
  },
  {
   "cell_type": "code",
   "execution_count": 206,
   "metadata": {},
   "outputs": [
    {
     "data": {
      "text/plain": [
       "0          0\n",
       "1          0\n",
       "2          0\n",
       "3          0\n",
       "4          0\n",
       "          ..\n",
       "3366899    4\n",
       "3366900    4\n",
       "3366901    4\n",
       "3366902    4\n",
       "3366903    4\n",
       "Name: dayofweek, Length: 3364705, dtype: int64"
      ]
     },
     "execution_count": 206,
     "metadata": {},
     "output_type": "execute_result"
    }
   ],
   "source": [
    "DataSet['dayofweek']"
   ]
  },
  {
   "cell_type": "code",
   "execution_count": 214,
   "metadata": {},
   "outputs": [
    {
     "data": {
      "text/html": [
       "<div>\n",
       "<style scoped>\n",
       "    .dataframe tbody tr th:only-of-type {\n",
       "        vertical-align: middle;\n",
       "    }\n",
       "\n",
       "    .dataframe tbody tr th {\n",
       "        vertical-align: top;\n",
       "    }\n",
       "\n",
       "    .dataframe thead th {\n",
       "        text-align: right;\n",
       "    }\n",
       "</style>\n",
       "<table border=\"1\" class=\"dataframe\">\n",
       "  <thead>\n",
       "    <tr style=\"text-align: right;\">\n",
       "      <th></th>\n",
       "      <th></th>\n",
       "      <th>normalized_fut_spread</th>\n",
       "    </tr>\n",
       "    <tr>\n",
       "      <th>dayofweek</th>\n",
       "      <th>ordinal_times</th>\n",
       "      <th></th>\n",
       "    </tr>\n",
       "  </thead>\n",
       "  <tbody>\n",
       "    <tr>\n",
       "      <th rowspan=\"5\" valign=\"top\">0</th>\n",
       "      <th>0</th>\n",
       "      <td>0.001382</td>\n",
       "    </tr>\n",
       "    <tr>\n",
       "      <th>1</th>\n",
       "      <td>0.001127</td>\n",
       "    </tr>\n",
       "    <tr>\n",
       "      <th>2</th>\n",
       "      <td>0.000971</td>\n",
       "    </tr>\n",
       "    <tr>\n",
       "      <th>3</th>\n",
       "      <td>0.000865</td>\n",
       "    </tr>\n",
       "    <tr>\n",
       "      <th>4</th>\n",
       "      <td>0.000825</td>\n",
       "    </tr>\n",
       "    <tr>\n",
       "      <th>...</th>\n",
       "      <th>...</th>\n",
       "      <td>...</td>\n",
       "    </tr>\n",
       "    <tr>\n",
       "      <th rowspan=\"5\" valign=\"top\">4</th>\n",
       "      <th>34</th>\n",
       "      <td>0.000470</td>\n",
       "    </tr>\n",
       "    <tr>\n",
       "      <th>35</th>\n",
       "      <td>0.000455</td>\n",
       "    </tr>\n",
       "    <tr>\n",
       "      <th>36</th>\n",
       "      <td>0.000436</td>\n",
       "    </tr>\n",
       "    <tr>\n",
       "      <th>37</th>\n",
       "      <td>0.000510</td>\n",
       "    </tr>\n",
       "    <tr>\n",
       "      <th>38</th>\n",
       "      <td>0.000477</td>\n",
       "    </tr>\n",
       "  </tbody>\n",
       "</table>\n",
       "<p>195 rows × 1 columns</p>\n",
       "</div>"
      ],
      "text/plain": [
       "                         normalized_fut_spread\n",
       "dayofweek ordinal_times                       \n",
       "0         0                           0.001382\n",
       "          1                           0.001127\n",
       "          2                           0.000971\n",
       "          3                           0.000865\n",
       "          4                           0.000825\n",
       "...                                        ...\n",
       "4         34                          0.000470\n",
       "          35                          0.000455\n",
       "          36                          0.000436\n",
       "          37                          0.000510\n",
       "          38                          0.000477\n",
       "\n",
       "[195 rows x 1 columns]"
      ]
     },
     "execution_count": 214,
     "metadata": {},
     "output_type": "execute_result"
    }
   ],
   "source": [
    "dayofweekspread"
   ]
  },
  {
   "cell_type": "code",
   "execution_count": 211,
   "metadata": {},
   "outputs": [
    {
     "data": {
      "text/plain": [
       "MultiIndex([(0,  0),\n",
       "            (0,  1),\n",
       "            (0,  2),\n",
       "            (0,  3),\n",
       "            (0,  4),\n",
       "            (0,  5),\n",
       "            (0,  6),\n",
       "            (0,  7),\n",
       "            (0,  8),\n",
       "            (0,  9),\n",
       "            ...\n",
       "            (4, 29),\n",
       "            (4, 30),\n",
       "            (4, 31),\n",
       "            (4, 32),\n",
       "            (4, 33),\n",
       "            (4, 34),\n",
       "            (4, 35),\n",
       "            (4, 36),\n",
       "            (4, 37),\n",
       "            (4, 38)],\n",
       "           names=['dayofweek', 'ordinal_times'], length=195)"
      ]
     },
     "execution_count": 211,
     "metadata": {},
     "output_type": "execute_result"
    }
   ],
   "source": [
    "dayofweekspread.index"
   ]
  },
  {
   "cell_type": "code",
   "execution_count": 217,
   "metadata": {},
   "outputs": [
    {
     "data": {
      "image/png": "[encoded data removed]",
      "text/plain": [
       "<Figure size 648x504 with 6 Axes>"
      ]
     },
     "metadata": {
      "needs_background": "light"
     },
     "output_type": "display_data"
    }
   ],
   "source": [
    "ax = dayofweekspread.unstack(level=0).plot(kind='line', subplots=True, rot=0, figsize=(9, 7), layout=(2, 3))\n",
    "plt.tight_layout()"
   ]
  },
  {
   "cell_type": "code",
   "execution_count": 226,
   "metadata": {},
   "outputs": [
    {
     "ename": "KeyError",
     "evalue": "False",
     "output_type": "error",
     "traceback": [
      "\u001b[0;31m---------------------------------------------------------------------------\u001b[0m",
      "\u001b[0;31mKeyError\u001b[0m                                  Traceback (most recent call last)",
      "\u001b[0;32m/opt/anaconda3/lib/python3.7/site-packages/pandas/core/indexes/base.py\u001b[0m in \u001b[0;36mget_loc\u001b[0;34m(self, key, method, tolerance)\u001b[0m\n\u001b[1;32m   3360\u001b[0m             \u001b[0;32mtry\u001b[0m\u001b[0;34m:\u001b[0m\u001b[0;34m\u001b[0m\u001b[0;34m\u001b[0m\u001b[0m\n\u001b[0;32m-> 3361\u001b[0;31m                 \u001b[0;32mreturn\u001b[0m \u001b[0mself\u001b[0m\u001b[0;34m.\u001b[0m\u001b[0m_engine\u001b[0m\u001b[0;34m.\u001b[0m\u001b[0mget_loc\u001b[0m\u001b[0;34m(\u001b[0m\u001b[0mcasted_key\u001b[0m\u001b[0;34m)\u001b[0m\u001b[0;34m\u001b[0m\u001b[0;34m\u001b[0m\u001b[0m\n\u001b[0m\u001b[1;32m   3362\u001b[0m             \u001b[0;32mexcept\u001b[0m \u001b[0mKeyError\u001b[0m \u001b[0;32mas\u001b[0m \u001b[0merr\u001b[0m\u001b[0;34m:\u001b[0m\u001b[0;34m\u001b[0m\u001b[0;34m\u001b[0m\u001b[0m\n",
      "\u001b[0;32m/opt/anaconda3/lib/python3.7/site-packages/pandas/_libs/index.pyx\u001b[0m in \u001b[0;36mpandas._libs.index.IndexEngine.get_loc\u001b[0;34m()\u001b[0m\n",
      "\u001b[0;32m/opt/anaconda3/lib/python3.7/site-packages/pandas/_libs/index.pyx\u001b[0m in \u001b[0;36mpandas._libs.index.IndexEngine.get_loc\u001b[0;34m()\u001b[0m\n",
      "\u001b[0;32mpandas/_libs/hashtable_class_helper.pxi\u001b[0m in \u001b[0;36mpandas._libs.hashtable.PyObjectHashTable.get_item\u001b[0;34m()\u001b[0m\n",
      "\u001b[0;32mpandas/_libs/hashtable_class_helper.pxi\u001b[0m in \u001b[0;36mpandas._libs.hashtable.PyObjectHashTable.get_item\u001b[0;34m()\u001b[0m\n",
      "\u001b[0;31mKeyError\u001b[0m: False",
      "\nThe above exception was the direct cause of the following exception:\n",
      "\u001b[0;31mKeyError\u001b[0m                                  Traceback (most recent call last)",
      "\u001b[0;32m<ipython-input-226-5a19ec80ed72>\u001b[0m in \u001b[0;36m<module>\u001b[0;34m\u001b[0m\n\u001b[0;32m----> 1\u001b[0;31m \u001b[0mDataSet\u001b[0m\u001b[0;34m[\u001b[0m\u001b[0mDataSet\u001b[0m\u001b[0;34m[\u001b[0m\u001b[0;34m'symbol'\u001b[0m\u001b[0;34m==\u001b[0m\u001b[0;34m'LAD'\u001b[0m\u001b[0;34m]\u001b[0m\u001b[0;34m]\u001b[0m\u001b[0;34m[\u001b[0m\u001b[0;34m'symbol_type'\u001b[0m\u001b[0;34m]\u001b[0m\u001b[0;34m\u001b[0m\u001b[0;34m\u001b[0m\u001b[0m\n\u001b[0m",
      "\u001b[0;32m/opt/anaconda3/lib/python3.7/site-packages/pandas/core/frame.py\u001b[0m in \u001b[0;36m__getitem__\u001b[0;34m(self, key)\u001b[0m\n\u001b[1;32m   3456\u001b[0m             \u001b[0;32mif\u001b[0m \u001b[0mself\u001b[0m\u001b[0;34m.\u001b[0m\u001b[0mcolumns\u001b[0m\u001b[0;34m.\u001b[0m\u001b[0mnlevels\u001b[0m \u001b[0;34m>\u001b[0m \u001b[0;36m1\u001b[0m\u001b[0;34m:\u001b[0m\u001b[0;34m\u001b[0m\u001b[0;34m\u001b[0m\u001b[0m\n\u001b[1;32m   3457\u001b[0m                 \u001b[0;32mreturn\u001b[0m \u001b[0mself\u001b[0m\u001b[0;34m.\u001b[0m\u001b[0m_getitem_multilevel\u001b[0m\u001b[0;34m(\u001b[0m\u001b[0mkey\u001b[0m\u001b[0;34m)\u001b[0m\u001b[0;34m\u001b[0m\u001b[0;34m\u001b[0m\u001b[0m\n\u001b[0;32m-> 3458\u001b[0;31m             \u001b[0mindexer\u001b[0m \u001b[0;34m=\u001b[0m \u001b[0mself\u001b[0m\u001b[0;34m.\u001b[0m\u001b[0mcolumns\u001b[0m\u001b[0;34m.\u001b[0m\u001b[0mget_loc\u001b[0m\u001b[0;34m(\u001b[0m\u001b[0mkey\u001b[0m\u001b[0;34m)\u001b[0m\u001b[0;34m\u001b[0m\u001b[0;34m\u001b[0m\u001b[0m\n\u001b[0m\u001b[1;32m   3459\u001b[0m             \u001b[0;32mif\u001b[0m \u001b[0mis_integer\u001b[0m\u001b[0;34m(\u001b[0m\u001b[0mindexer\u001b[0m\u001b[0;34m)\u001b[0m\u001b[0;34m:\u001b[0m\u001b[0;34m\u001b[0m\u001b[0;34m\u001b[0m\u001b[0m\n\u001b[1;32m   3460\u001b[0m                 \u001b[0mindexer\u001b[0m \u001b[0;34m=\u001b[0m \u001b[0;34m[\u001b[0m\u001b[0mindexer\u001b[0m\u001b[0;34m]\u001b[0m\u001b[0;34m\u001b[0m\u001b[0;34m\u001b[0m\u001b[0m\n",
      "\u001b[0;32m/opt/anaconda3/lib/python3.7/site-packages/pandas/core/indexes/base.py\u001b[0m in \u001b[0;36mget_loc\u001b[0;34m(self, key, method, tolerance)\u001b[0m\n\u001b[1;32m   3361\u001b[0m                 \u001b[0;32mreturn\u001b[0m \u001b[0mself\u001b[0m\u001b[0;34m.\u001b[0m\u001b[0m_engine\u001b[0m\u001b[0;34m.\u001b[0m\u001b[0mget_loc\u001b[0m\u001b[0;34m(\u001b[0m\u001b[0mcasted_key\u001b[0m\u001b[0;34m)\u001b[0m\u001b[0;34m\u001b[0m\u001b[0;34m\u001b[0m\u001b[0m\n\u001b[1;32m   3362\u001b[0m             \u001b[0;32mexcept\u001b[0m \u001b[0mKeyError\u001b[0m \u001b[0;32mas\u001b[0m \u001b[0merr\u001b[0m\u001b[0;34m:\u001b[0m\u001b[0;34m\u001b[0m\u001b[0;34m\u001b[0m\u001b[0m\n\u001b[0;32m-> 3363\u001b[0;31m                 \u001b[0;32mraise\u001b[0m \u001b[0mKeyError\u001b[0m\u001b[0;34m(\u001b[0m\u001b[0mkey\u001b[0m\u001b[0;34m)\u001b[0m \u001b[0;32mfrom\u001b[0m \u001b[0merr\u001b[0m\u001b[0;34m\u001b[0m\u001b[0;34m\u001b[0m\u001b[0m\n\u001b[0m\u001b[1;32m   3364\u001b[0m \u001b[0;34m\u001b[0m\u001b[0m\n\u001b[1;32m   3365\u001b[0m         \u001b[0;32mif\u001b[0m \u001b[0mis_scalar\u001b[0m\u001b[0;34m(\u001b[0m\u001b[0mkey\u001b[0m\u001b[0;34m)\u001b[0m \u001b[0;32mand\u001b[0m \u001b[0misna\u001b[0m\u001b[0;34m(\u001b[0m\u001b[0mkey\u001b[0m\u001b[0;34m)\u001b[0m \u001b[0;32mand\u001b[0m \u001b[0;32mnot\u001b[0m \u001b[0mself\u001b[0m\u001b[0;34m.\u001b[0m\u001b[0mhasnans\u001b[0m\u001b[0;34m:\u001b[0m\u001b[0;34m\u001b[0m\u001b[0;34m\u001b[0m\u001b[0m\n",
      "\u001b[0;31mKeyError\u001b[0m: False"
     ]
    }
   ],
   "source": [
    "DataSet[DataSet['symbol'=='LAD']]['symbol_type']"
   ]
  },
  {
   "cell_type": "code",
   "execution_count": 228,
   "metadata": {},
   "outputs": [
    {
     "data": {
      "text/html": [
       "<div>\n",
       "<style scoped>\n",
       "    .dataframe tbody tr th:only-of-type {\n",
       "        vertical-align: middle;\n",
       "    }\n",
       "\n",
       "    .dataframe tbody tr th {\n",
       "        vertical-align: top;\n",
       "    }\n",
       "\n",
       "    .dataframe thead th {\n",
       "        text-align: right;\n",
       "    }\n",
       "</style>\n",
       "<table border=\"1\" class=\"dataframe\">\n",
       "  <thead>\n",
       "    <tr style=\"text-align: right;\">\n",
       "      <th></th>\n",
       "      <th>ordinal_times</th>\n",
       "      <th>localtime</th>\n",
       "      <th>symbol</th>\n",
       "      <th>bid</th>\n",
       "      <th>ask</th>\n",
       "      <th>bidsize</th>\n",
       "      <th>asksize</th>\n",
       "      <th>mid</th>\n",
       "      <th>spread</th>\n",
       "      <th>open</th>\n",
       "      <th>...</th>\n",
       "      <th>opening_price</th>\n",
       "      <th>closing_price</th>\n",
       "      <th>symbol_type</th>\n",
       "      <th>fut_spread</th>\n",
       "      <th>date</th>\n",
       "      <th>normalized_spread</th>\n",
       "      <th>normalized_fut_spread</th>\n",
       "      <th>time</th>\n",
       "      <th>valuetime</th>\n",
       "      <th>dayofweek</th>\n",
       "    </tr>\n",
       "  </thead>\n",
       "  <tbody>\n",
       "    <tr>\n",
       "      <th>568</th>\n",
       "      <td>0</td>\n",
       "      <td>2021-01-04 14:30:00+00:00</td>\n",
       "      <td>LAD</td>\n",
       "      <td>295.51</td>\n",
       "      <td>296.74</td>\n",
       "      <td>2</td>\n",
       "      <td>136</td>\n",
       "      <td>296.125</td>\n",
       "      <td>1.23</td>\n",
       "      <td>296.130</td>\n",
       "      <td>...</td>\n",
       "      <td>291.35</td>\n",
       "      <td>292.67</td>\n",
       "      <td>Common Stock</td>\n",
       "      <td>1.91</td>\n",
       "      <td>2021-01-04</td>\n",
       "      <td>0.004145</td>\n",
       "      <td>0.006437</td>\n",
       "      <td>14:30:00</td>\n",
       "      <td>1609770600000000000</td>\n",
       "      <td>0</td>\n",
       "    </tr>\n",
       "    <tr>\n",
       "      <th>1762</th>\n",
       "      <td>1</td>\n",
       "      <td>2021-01-04 14:40:00+00:00</td>\n",
       "      <td>LAD</td>\n",
       "      <td>293.87</td>\n",
       "      <td>295.78</td>\n",
       "      <td>30</td>\n",
       "      <td>171</td>\n",
       "      <td>294.825</td>\n",
       "      <td>1.91</td>\n",
       "      <td>293.890</td>\n",
       "      <td>...</td>\n",
       "      <td>291.35</td>\n",
       "      <td>292.67</td>\n",
       "      <td>Common Stock</td>\n",
       "      <td>1.46</td>\n",
       "      <td>2021-01-04</td>\n",
       "      <td>0.006458</td>\n",
       "      <td>0.004936</td>\n",
       "      <td>14:40:00</td>\n",
       "      <td>1609771200000000000</td>\n",
       "      <td>0</td>\n",
       "    </tr>\n",
       "    <tr>\n",
       "      <th>1849</th>\n",
       "      <td>2</td>\n",
       "      <td>2021-01-04 14:50:00+00:00</td>\n",
       "      <td>LAD</td>\n",
       "      <td>290.54</td>\n",
       "      <td>292.00</td>\n",
       "      <td>1</td>\n",
       "      <td>3</td>\n",
       "      <td>291.270</td>\n",
       "      <td>1.46</td>\n",
       "      <td>292.705</td>\n",
       "      <td>...</td>\n",
       "      <td>291.35</td>\n",
       "      <td>292.67</td>\n",
       "      <td>Common Stock</td>\n",
       "      <td>0.98</td>\n",
       "      <td>2021-01-04</td>\n",
       "      <td>0.005000</td>\n",
       "      <td>0.003356</td>\n",
       "      <td>14:50:00</td>\n",
       "      <td>1609771800000000000</td>\n",
       "      <td>0</td>\n",
       "    </tr>\n",
       "    <tr>\n",
       "      <th>3285</th>\n",
       "      <td>3</td>\n",
       "      <td>2021-01-04 15:00:00+00:00</td>\n",
       "      <td>LAD</td>\n",
       "      <td>290.50</td>\n",
       "      <td>291.48</td>\n",
       "      <td>206</td>\n",
       "      <td>7</td>\n",
       "      <td>290.990</td>\n",
       "      <td>0.98</td>\n",
       "      <td>291.480</td>\n",
       "      <td>...</td>\n",
       "      <td>291.35</td>\n",
       "      <td>292.67</td>\n",
       "      <td>Common Stock</td>\n",
       "      <td>1.23</td>\n",
       "      <td>2021-01-04</td>\n",
       "      <td>0.003362</td>\n",
       "      <td>0.004220</td>\n",
       "      <td>15:00:00</td>\n",
       "      <td>1609772400000000000</td>\n",
       "      <td>0</td>\n",
       "    </tr>\n",
       "    <tr>\n",
       "      <th>4366</th>\n",
       "      <td>4</td>\n",
       "      <td>2021-01-04 15:10:00+00:00</td>\n",
       "      <td>LAD</td>\n",
       "      <td>292.00</td>\n",
       "      <td>293.23</td>\n",
       "      <td>20</td>\n",
       "      <td>24</td>\n",
       "      <td>292.615</td>\n",
       "      <td>1.23</td>\n",
       "      <td>290.610</td>\n",
       "      <td>...</td>\n",
       "      <td>291.35</td>\n",
       "      <td>292.67</td>\n",
       "      <td>Common Stock</td>\n",
       "      <td>0.83</td>\n",
       "      <td>2021-01-04</td>\n",
       "      <td>0.004195</td>\n",
       "      <td>0.002831</td>\n",
       "      <td>15:10:00</td>\n",
       "      <td>1609773000000000000</td>\n",
       "      <td>0</td>\n",
       "    </tr>\n",
       "    <tr>\n",
       "      <th>...</th>\n",
       "      <td>...</td>\n",
       "      <td>...</td>\n",
       "      <td>...</td>\n",
       "      <td>...</td>\n",
       "      <td>...</td>\n",
       "      <td>...</td>\n",
       "      <td>...</td>\n",
       "      <td>...</td>\n",
       "      <td>...</td>\n",
       "      <td>...</td>\n",
       "      <td>...</td>\n",
       "      <td>...</td>\n",
       "      <td>...</td>\n",
       "      <td>...</td>\n",
       "      <td>...</td>\n",
       "      <td>...</td>\n",
       "      <td>...</td>\n",
       "      <td>...</td>\n",
       "      <td>...</td>\n",
       "      <td>...</td>\n",
       "      <td>...</td>\n",
       "    </tr>\n",
       "    <tr>\n",
       "      <th>3362432</th>\n",
       "      <td>34</td>\n",
       "      <td>2021-07-30 19:10:00+00:00</td>\n",
       "      <td>LAD</td>\n",
       "      <td>376.60</td>\n",
       "      <td>377.30</td>\n",
       "      <td>1</td>\n",
       "      <td>157</td>\n",
       "      <td>376.950</td>\n",
       "      <td>0.70</td>\n",
       "      <td>376.810</td>\n",
       "      <td>...</td>\n",
       "      <td>378.03</td>\n",
       "      <td>381.52</td>\n",
       "      <td>Common Stock</td>\n",
       "      <td>0.77</td>\n",
       "      <td>2021-07-30</td>\n",
       "      <td>0.001855</td>\n",
       "      <td>0.002041</td>\n",
       "      <td>19:10:00</td>\n",
       "      <td>1627672200000000000</td>\n",
       "      <td>4</td>\n",
       "    </tr>\n",
       "    <tr>\n",
       "      <th>3363446</th>\n",
       "      <td>35</td>\n",
       "      <td>2021-07-30 19:20:00+00:00</td>\n",
       "      <td>LAD</td>\n",
       "      <td>375.93</td>\n",
       "      <td>376.70</td>\n",
       "      <td>6</td>\n",
       "      <td>424</td>\n",
       "      <td>376.315</td>\n",
       "      <td>0.77</td>\n",
       "      <td>377.250</td>\n",
       "      <td>...</td>\n",
       "      <td>378.03</td>\n",
       "      <td>381.52</td>\n",
       "      <td>Common Stock</td>\n",
       "      <td>0.57</td>\n",
       "      <td>2021-07-30</td>\n",
       "      <td>0.002044</td>\n",
       "      <td>0.001513</td>\n",
       "      <td>19:20:00</td>\n",
       "      <td>1627672800000000000</td>\n",
       "      <td>4</td>\n",
       "    </tr>\n",
       "    <tr>\n",
       "      <th>3364206</th>\n",
       "      <td>36</td>\n",
       "      <td>2021-07-30 19:30:00+00:00</td>\n",
       "      <td>LAD</td>\n",
       "      <td>376.67</td>\n",
       "      <td>377.24</td>\n",
       "      <td>100</td>\n",
       "      <td>47</td>\n",
       "      <td>376.955</td>\n",
       "      <td>0.57</td>\n",
       "      <td>376.890</td>\n",
       "      <td>...</td>\n",
       "      <td>378.03</td>\n",
       "      <td>381.52</td>\n",
       "      <td>Common Stock</td>\n",
       "      <td>0.69</td>\n",
       "      <td>2021-07-30</td>\n",
       "      <td>0.001511</td>\n",
       "      <td>0.001829</td>\n",
       "      <td>19:30:00</td>\n",
       "      <td>1627673400000000000</td>\n",
       "      <td>4</td>\n",
       "    </tr>\n",
       "    <tr>\n",
       "      <th>3365793</th>\n",
       "      <td>37</td>\n",
       "      <td>2021-07-30 19:40:00+00:00</td>\n",
       "      <td>LAD</td>\n",
       "      <td>375.78</td>\n",
       "      <td>376.47</td>\n",
       "      <td>58</td>\n",
       "      <td>333</td>\n",
       "      <td>376.125</td>\n",
       "      <td>0.69</td>\n",
       "      <td>376.625</td>\n",
       "      <td>...</td>\n",
       "      <td>378.03</td>\n",
       "      <td>381.52</td>\n",
       "      <td>Common Stock</td>\n",
       "      <td>0.36</td>\n",
       "      <td>2021-07-30</td>\n",
       "      <td>0.001833</td>\n",
       "      <td>0.000956</td>\n",
       "      <td>19:40:00</td>\n",
       "      <td>1627674000000000000</td>\n",
       "      <td>4</td>\n",
       "    </tr>\n",
       "    <tr>\n",
       "      <th>3366635</th>\n",
       "      <td>38</td>\n",
       "      <td>2021-07-30 19:50:00+00:00</td>\n",
       "      <td>LAD</td>\n",
       "      <td>375.62</td>\n",
       "      <td>375.98</td>\n",
       "      <td>206</td>\n",
       "      <td>14</td>\n",
       "      <td>375.800</td>\n",
       "      <td>0.36</td>\n",
       "      <td>375.620</td>\n",
       "      <td>...</td>\n",
       "      <td>378.03</td>\n",
       "      <td>381.52</td>\n",
       "      <td>Common Stock</td>\n",
       "      <td>0.43</td>\n",
       "      <td>2021-07-30</td>\n",
       "      <td>0.000957</td>\n",
       "      <td>0.001144</td>\n",
       "      <td>19:50:00</td>\n",
       "      <td>1627674600000000000</td>\n",
       "      <td>4</td>\n",
       "    </tr>\n",
       "  </tbody>\n",
       "</table>\n",
       "<p>3781 rows × 34 columns</p>\n",
       "</div>"
      ],
      "text/plain": [
       "         ordinal_times                 localtime symbol     bid     ask  \\\n",
       "568                  0 2021-01-04 14:30:00+00:00    LAD  295.51  296.74   \n",
       "1762                 1 2021-01-04 14:40:00+00:00    LAD  293.87  295.78   \n",
       "1849                 2 2021-01-04 14:50:00+00:00    LAD  290.54  292.00   \n",
       "3285                 3 2021-01-04 15:00:00+00:00    LAD  290.50  291.48   \n",
       "4366                 4 2021-01-04 15:10:00+00:00    LAD  292.00  293.23   \n",
       "...                ...                       ...    ...     ...     ...   \n",
       "3362432             34 2021-07-30 19:10:00+00:00    LAD  376.60  377.30   \n",
       "3363446             35 2021-07-30 19:20:00+00:00    LAD  375.93  376.70   \n",
       "3364206             36 2021-07-30 19:30:00+00:00    LAD  376.67  377.24   \n",
       "3365793             37 2021-07-30 19:40:00+00:00    LAD  375.78  376.47   \n",
       "3366635             38 2021-07-30 19:50:00+00:00    LAD  375.62  375.98   \n",
       "\n",
       "         bidsize  asksize      mid  spread     open  ...  opening_price  \\\n",
       "568            2      136  296.125    1.23  296.130  ...         291.35   \n",
       "1762          30      171  294.825    1.91  293.890  ...         291.35   \n",
       "1849           1        3  291.270    1.46  292.705  ...         291.35   \n",
       "3285         206        7  290.990    0.98  291.480  ...         291.35   \n",
       "4366          20       24  292.615    1.23  290.610  ...         291.35   \n",
       "...          ...      ...      ...     ...      ...  ...            ...   \n",
       "3362432        1      157  376.950    0.70  376.810  ...         378.03   \n",
       "3363446        6      424  376.315    0.77  377.250  ...         378.03   \n",
       "3364206      100       47  376.955    0.57  376.890  ...         378.03   \n",
       "3365793       58      333  376.125    0.69  376.625  ...         378.03   \n",
       "3366635      206       14  375.800    0.36  375.620  ...         378.03   \n",
       "\n",
       "         closing_price   symbol_type  fut_spread        date  \\\n",
       "568             292.67  Common Stock        1.91  2021-01-04   \n",
       "1762            292.67  Common Stock        1.46  2021-01-04   \n",
       "1849            292.67  Common Stock        0.98  2021-01-04   \n",
       "3285            292.67  Common Stock        1.23  2021-01-04   \n",
       "4366            292.67  Common Stock        0.83  2021-01-04   \n",
       "...                ...           ...         ...         ...   \n",
       "3362432         381.52  Common Stock        0.77  2021-07-30   \n",
       "3363446         381.52  Common Stock        0.57  2021-07-30   \n",
       "3364206         381.52  Common Stock        0.69  2021-07-30   \n",
       "3365793         381.52  Common Stock        0.36  2021-07-30   \n",
       "3366635         381.52  Common Stock        0.43  2021-07-30   \n",
       "\n",
       "         normalized_spread  normalized_fut_spread      time  \\\n",
       "568               0.004145               0.006437  14:30:00   \n",
       "1762              0.006458               0.004936  14:40:00   \n",
       "1849              0.005000               0.003356  14:50:00   \n",
       "3285              0.003362               0.004220  15:00:00   \n",
       "4366              0.004195               0.002831  15:10:00   \n",
       "...                    ...                    ...       ...   \n",
       "3362432           0.001855               0.002041  19:10:00   \n",
       "3363446           0.002044               0.001513  19:20:00   \n",
       "3364206           0.001511               0.001829  19:30:00   \n",
       "3365793           0.001833               0.000956  19:40:00   \n",
       "3366635           0.000957               0.001144  19:50:00   \n",
       "\n",
       "                   valuetime  dayofweek  \n",
       "568      1609770600000000000          0  \n",
       "1762     1609771200000000000          0  \n",
       "1849     1609771800000000000          0  \n",
       "3285     1609772400000000000          0  \n",
       "4366     1609773000000000000          0  \n",
       "...                      ...        ...  \n",
       "3362432  1627672200000000000          4  \n",
       "3363446  1627672800000000000          4  \n",
       "3364206  1627673400000000000          4  \n",
       "3365793  1627674000000000000          4  \n",
       "3366635  1627674600000000000          4  \n",
       "\n",
       "[3781 rows x 34 columns]"
      ]
     },
     "execution_count": 228,
     "metadata": {},
     "output_type": "execute_result"
    }
   ],
   "source": [
    "DataSet[DataSet['symbol']=='LAD']['']"
   ]
  },
  {
   "cell_type": "code",
   "execution_count": null,
   "metadata": {},
   "outputs": [],
   "source": []
  }
 ],
 "metadata": {
  "kernelspec": {
   "display_name": "Python 3",
   "language": "python",
   "name": "python3"
  },
  "language_info": {
   "codemirror_mode": {
    "name": "ipython",
    "version": 3
   },
   "file_extension": ".py",
   "mimetype": "text/x-python",
   "name": "python",
   "nbconvert_exporter": "python",
   "pygments_lexer": "ipython3",
   "version": "3.7.6"
  }
 },
 "nbformat": 4,
 "nbformat_minor": 4
}
