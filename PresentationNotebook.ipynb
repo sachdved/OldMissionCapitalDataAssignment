{
 "cells": [
  {
   "cell_type": "code",
   "execution_count": null,
   "metadata": {},
   "outputs": [],
   "source": [
    "import pandas as pd\n",
    "import numpy as np\n",
    "import scipy as sp\n",
    "from scipy import stats\n",
    "import matplotlib.pyplot as plt\n",
    "from sklearn.linear_model import RidgeCV"
   ]
  },
  {
   "cell_type": "code",
   "execution_count": null,
   "metadata": {},
   "outputs": [],
   "source": [
    "dataSet=pd.read_parquet(\"OMC_data_sci_assignment/spreads_data_train.par\") #read in financial data\n",
    "dataSet=dataSet.sort_values(by='localtime') #sort values by in calendar order\n",
    "dataSet_dictionary={elem: dataSet[dataSet['symbol']==elem] for elem in dataSet['symbol'].unique()}\n",
    "tickers=dataSet['symbol'].unique() #list of tickers"
   ]
  },
  {
   "cell_type": "code",
   "execution_count": null,
   "metadata": {},
   "outputs": [],
   "source": [
    "def normalizeSpread(spread, ask): #making a function to convert spreads from price space to percentage space, and eliminating all negative spreads\n",
    "    if ask==0:\n",
    "        return np.nan\n",
    "    elif ask>0:\n",
    "        return float(spread/ask)\n",
    "    #elif spread<0:\n",
    "    #    return 0."
   ]
  },
  {
   "cell_type": "code",
   "execution_count": null,
   "metadata": {},
   "outputs": [],
   "source": [
    "dataSet['normalized_spread']=dataSet.apply(lambda row: normalizeSpread(row['spread'],row['ask']), axis=1)\n",
    "dataSet['normalized_fut_spread']=dataSet.apply(lambda row: normalizeSpread(row['fut_spread'],row['ask']), axis=1)"
   ]
  },
  {
   "cell_type": "raw",
   "metadata": {},
   "source": [
    "We ask if there are any tickers for whom there are none or nan values in data set and then try to determine why thatmight be the case"
   ]
  },
  {
   "cell_type": "code",
   "execution_count": null,
   "metadata": {},
   "outputs": [],
   "source": [
    "for ticker in tickers:\n",
    "    if any(dataSet_dict[ticker].isna().any())==True:\n",
    "        print(ticker)"
   ]
  },
  {
   "cell_type": "code",
   "execution_count": null,
   "metadata": {},
   "outputs": [],
   "source": [
    "dataSet=dataSet[dataSet['numEvents']>0] #remove any line of data that has 0 (or nan) number of events. info in this time is pretty much useless because no trades happened"
   ]
  },
  {
   "cell_type": "code",
   "execution_count": null,
   "metadata": {},
   "outputs": [],
   "source": [
    "FeatureSet=pd.read_csv('OMC_data_sci_assignment/data_descriptions.csv') #read in feature set\n",
    "staticFeatures=list(FeatureSet[(FeatureSet['Category']=='Static') & ((FeatureSet['Type']=='float64') | (FeatureSet['Type']=='int64'))]['Column']) #extract static features\n",
    "TandQFeatures=list(FeatureSet[(FeatureSet['Category']=='Trade') | (FeatureSet['Category']='Quote')])\n"
   ]
  },
  {
   "cell_type": "code",
   "execution_count": null,
   "metadata": {},
   "outputs": [],
   "source": [
    "dataSet['normalized_spread']=dataSet.apply(lambda row: normalizeSpread(row['spread'],row['ask']), axis=1)\n",
    "dataSetClean['normalized_spread']=dataSetClean.apply(lambda row: normalizeSpread(row['spread'],row['ask']), axis=1)\n",
    "\n",
    "dataSet['normalized_fut_spread']=dataSet.apply(lambda row: normalizeSpread(row['fut_spread'],row['ask']), axis=1)\n",
    "dataSetClean['normalized_fut_spread']=dataSetClean.apply(lambda row: normalizeSpread(row['spread'],row['ask']), axis=1)"
   ]
  },
  {
   "cell_type": "markdown",
   "metadata": {},
   "source": [
    "Normally, spreads should always be positive as when bid exceeds ask, orders are filled instantaneously and the effective spread of such an order is 0. However, here, in the data, we have negative spreads."
   ]
  },
  {
   "cell_type": "code",
   "execution_count": null,
   "metadata": {},
   "outputs": [],
   "source": [
    "dataSet"
   ]
  }
 ],
 "metadata": {
  "kernelspec": {
   "display_name": "Python 3",
   "language": "python",
   "name": "python3"
  },
  "language_info": {
   "codemirror_mode": {
    "name": "ipython",
    "version": 3
   },
   "file_extension": ".py",
   "mimetype": "text/x-python",
   "name": "python",
   "nbconvert_exporter": "python",
   "pygments_lexer": "ipython3",
   "version": "3.7.6"
  }
 },
 "nbformat": 4,
 "nbformat_minor": 4
}
