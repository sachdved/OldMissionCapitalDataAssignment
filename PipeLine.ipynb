{
 "cells": [
  {
   "cell_type": "code",
   "execution_count": null,
   "metadata": {},
   "outputs": [],
   "source": [
    "import pandas as pd\n",
    "import numpy as np\n",
    "import scipy as sp\n",
    "import matplotlib.pyplot as plt\n",
    "import scipy.stats as stats\n",
    "from tqdm import tqdm\n",
    "\n",
    "import datetime\n",
    "\n",
    "from sklearn.model_selection import train_test_split\n",
    "from sklearn.linear_model import Ridge, Lasso\n",
    "from sklearn import metrics\n",
    "from sklearn.decomposition import PCA\n",
    "\n",
    "import tensorflow as tf\n",
    "\n",
    "from tensorflow import keras\n",
    "from tensorflow.keras import layers"
   ]
  },
  {
   "cell_type": "code",
   "execution_count": null,
   "metadata": {},
   "outputs": [],
   "source": [
    "def normalizeSpread(spread, ask): #making a function to convert spreads from price space to percentage space, and eliminating all negative spreads\n",
    "    if ask==0:\n",
    "        return np.nan\n",
    "    elif ask>0:\n",
    "        return float(spread/ask)\n",
    "    #elif spread<0:\n",
    "    #    return 0.\n",
    "\n",
    "def splitData(data, features, target, test_fraction, set_seed=False):\n",
    "    #splitting data into train and test\n",
    "    x=data[features]\n",
    "    y=data[target]\n",
    "    if set_seed==True:\n",
    "        x_train, x_test, y_train, y_test=train_test_split(x, y, test_size=test_fraction, shuffle=True, random_state='12262021')\n",
    "    else:\n",
    "        x_train, x_test, y_train, y_test=train_test_split(x, y, test_size=test_fraction, shuffle=True)\n",
    "    return (x_train, x_test, y_train, y_test)\n",
    "\n",
    "def build_and_compile_model(norm):\n",
    "    ##baseline model for DNN fitting. Loss can be changed to mean squared error or mean absolute error\n",
    "    \n",
    "    model = keras.Sequential([\n",
    "        norm,\n",
    "        layers.Dense(64, activation='relu'),\n",
    "        layers.Dense(1)\n",
    "    ])\n",
    "\n",
    "    model.compile(loss='mean_absolute_error',\n",
    "                optimizer=tf.keras.optimizers.Adam(0.001))\n",
    "    return model"
   ]
  },
  {
   "cell_type": "code",
   "execution_count": null,
   "metadata": {},
   "outputs": [],
   "source": [
    "datapath='' ##where testing data is\n",
    "featurepath='' ##where feature file is\n",
    "\n",
    "TrainingDataSet=pd.read_parquet(\"spreads_data_train.par\") ##using the training data on the dropbox\n",
    "omcDataSet=pd.read_parquet(datapath) ##testing data\n",
    "FeatureSet=pd.read_csv(featurepath)\n",
    "\n",
    "TrainingDataSet=TrainingDataSet.sort_values(by='localtime')\n",
    "tomcDataSet=omcDataSet.sort_values(by='localtime')\n",
    "\n",
    "tickers=list(TrainingDataSet['symbol'].unique())\n",
    "\n",
    "TrainingDataSet=TrainingDataSet.rename_axis(\"ordinal_times\").reset_index()\n",
    "omcDataSet=omcDataSet.rename_axis(\"ordinal_times\").reset_index()"
   ]
  },
  {
   "cell_type": "code",
   "execution_count": null,
   "metadata": {},
   "outputs": [],
   "source": [
    "TrainingDataSet=TrainingDataSet[(TrainingDataSet['fut_spread']>0) & (TrainingDataSet['spread']>0)]\n",
    "TrainingDataSet=TrainingDataSet[TrainingDataSet['numEvents']>0]\n",
    "TrainingDataSet=TrainingDataSet.dropna()\n",
    "\n",
    "omcDataSet=omcDataSet[(omcDataSet['fut_spread']>0) & (omcDataSet['spread']>0)]\n",
    "omcDataSet=omcDataSet[(omcDataSet['numEvents']>0)]\n",
    "omcDataSet=omcDataSet.dropna()\n",
    "\n",
    "TrainingDataSet['log_fut_spread']=TrainingDataSet.apply(lambda row: np.log(row['fut_spread']), axis=1)\n",
    "TrainingDataSet['log_ordinal_times']=TrainingDataSet.apply(lambda row: np.log(row['ordinal_times']+1), axis=1)\n",
    "TrainingDataSet['log_median_width']=TrainingDataSet.apply(lambda row: np.log(row['median_width']), axis=1)\n",
    "TrainingDataSet['log_spread']=TrainingDataSet.apply(lambda row: np.log(row['spread']), axis=1)\n",
    "\n",
    "omcDataSet['log_fut_spread']=omcDataSet.apply(lambda row: np.log(row['fut_spread']), axis=1)\n",
    "omcDataSet['log_ordinal_times']=omcDataSet.apply(lambda row: np.log(row['ordinal_times']+1), axis=1)\n",
    "omcDataSet['log_median_width']=omcDataSet.apply(lambda row: np.log(row['median_width']), axis=1)\n",
    "omcDataSet['log_spread']=omcDataSet.apply(lambda row: np.log(row['spread']), axis=1)"
   ]
  },
  {
   "cell_type": "code",
   "execution_count": null,
   "metadata": {},
   "outputs": [],
   "source": [
    "staticFeatures=['log_ordinal_times','log_median_width']\n",
    "allFeatures=['log_ordinal_times', 'log_median_width', 'log_spread']\n",
    "target='log_fut_spread'\n",
    "\n",
    "symbol_type='' ##input symbol type here of interest here\n",
    "regularizer=10**-3   ##input regularizer here. I found 10**-3 works well."
   ]
  },
  {
   "cell_type": "markdown",
   "metadata": {},
   "source": [
    "static feature fitting"
   ]
  },
  {
   "cell_type": "code",
   "execution_count": null,
   "metadata": {},
   "outputs": [],
   "source": [
    "testsize=0.1\n",
    "\n",
    "x_train, x_test, y_train, y_test=splitData(TrainingDataSet[TrainingDataSet['symbol_type']==symbol_type, staticFeatures, target, testsize)\n",
    "\n",
    "Predictor=Ridge(regularizer, normalize=True).fit(x_train, y_train)\n",
    "\n",
    "y_test_pred=Predictor.predict(x_test)\n",
    "plt.plot(y_test_pred, y_test)\n",
    "plt.plot([-5,5],[-5,5], label='truth')\n",
    "plt.xlim([-5,5])\n",
    "plt.ylim([-5,5])\n",
    "plt.legend()\n",
    "plt.xlabel('predicted log(fut spread)')\n",
    "plt.ylabel('true log(fut spread)')"
   ]
  },
  {
   "cell_type": "code",
   "execution_count": null,
   "metadata": {},
   "outputs": [],
   "source": [
    "omc_x_data=omcDataSet[omcDataSet['symbol_type']==symbol_type][staticFeatures]\n",
    "omc_true_spread=omcDataSet[omcDataSet['symbol_type']==symbol_type][target]\n",
    "\n",
    "omc_prediction=Predictor.predict(omc_x_data)\n",
    "\n",
    "plt.plot(omc_prediction, omc_true_spread)\n",
    "plt.plot([-5,5],[-5,5], label='truth')\n",
    "plt.xlim([-5,5])\n",
    "plt.ylim([-5,5])\n",
    "plt.legend()\n",
    "plt.xlabel('predicted log(fut spread)')\n",
    "plt.ylabel('true log(fut spread)')"
   ]
  },
  {
   "cell_type": "markdown",
   "metadata": {},
   "source": [
    "all feature fitting"
   ]
  },
  {
   "cell_type": "code",
   "execution_count": null,
   "metadata": {},
   "outputs": [],
   "source": [
    "testsize=0.1\n",
    "\n",
    "x_train, x_test, y_train, y_test=splitData(TrainingDataSet[TrainingDataSet['symbol_type']==symbol_type, allFeatures, target, testsize)\n",
    "\n",
    "Predictor=Ridge(regularizer, normalize=True).fit(x_train, y_train)\n",
    "\n",
    "y_test_pred=Predictor.predict(x_test)\n",
    "plt.plot(y_test_pred, y_test)\n",
    "plt.plot([-5,5],[-5,5], label='truth')\n",
    "plt.xlim([-5,5])\n",
    "plt.ylim([-5,5])\n",
    "plt.legend()\n",
    "plt.xlabel('predicted log(fut spread)')\n",
    "plt.ylabel('true log(fut spread)')"
   ]
  },
  {
   "cell_type": "code",
   "execution_count": null,
   "metadata": {},
   "outputs": [],
   "source": [
    "omc_x_data=omcDataSet[omcDataSet['symbol_type']==symbol_type][allFeatures]\n",
    "omc_true_spread=omcDataSet[omcDataSet['symbol_type']==symbol_type][target]\n",
    "\n",
    "omc_prediction=Predictor.predict(omc_x_data)\n",
    "\n",
    "plt.plot(omc_prediction, omc_true_spread)\n",
    "plt.plot([-5,5],[-5,5], label='truth')\n",
    "plt.xlim([-5,5])\n",
    "plt.ylim([-5,5])\n",
    "plt.legend()\n",
    "plt.xlabel('predicted log(fut spread)')\n",
    "plt.ylabel('true log(fut spread)')"
   ]
  },
  {
   "cell_type": "markdown",
   "metadata": {},
   "source": [
    "DNN fitting (by symbol) with only static features"
   ]
  },
  {
   "cell_type": "code",
   "execution_count": null,
   "metadata": {},
   "outputs": [],
   "source": [
    "staticFeatures=list(FeatureSet[(FeatureSet['Category']=='Static') & ((FeatureSet['Type']=='float64') | (FeatureSet['Type']=='int64'))]['Column'])+['ordinal_times']\n",
    "TandQFeatures=list(FeatureSet[(FeatureSet['Category']=='Trade') | (FeatureSet['Category']=='Quote')]['Column'])\n",
    "allNumericalFeatures=staticFeatures+TandQFeatures"
   ]
  },
  {
   "cell_type": "code",
   "execution_count": null,
   "metadata": {},
   "outputs": [],
   "source": [
    "symbol=''\n",
    "\n",
    "data=TrainingDataSet[TrainingDataSet['symbol']==symbol]\n",
    "x_train, x_test, y_train, y_test=splitData(data, StaticFeatures, target, 0.1, set_seed=False)\n",
    "\n",
    "normalizer = tf.keras.layers.Normalization(axis=-1)\n",
    "normalizer.adapt(np.array(x_train))\n",
    "\n",
    "\n",
    "\n",
    "dnn_model = build_and_compile_model(normalizer)\n",
    "dnn_model.summary()\n",
    "history = dnn_model.fit(\n",
    "    x_train,\n",
    "    y_train,\n",
    "    validation_split=0.2,\n",
    "    verbose=0, epochs=100)\n",
    "\n",
    "y_test_pred = dnn_model.predict(x_test).flatten()\n",
    "\n",
    "a = plt.axes(aspect='equal')\n",
    "plt.scatter(y_test, y_test_pred)\n",
    "plt.xlabel('True future spread')\n",
    "plt.ylabel('Predicted future spread')\n",
    "lims = [0, 2]\n",
    "plt.xlim(lims)\n",
    "plt.ylim(lims)\n",
    "_ = plt.plot(lims, lims)"
   ]
  },
  {
   "cell_type": "code",
   "execution_count": null,
   "metadata": {},
   "outputs": [],
   "source": [
    "omc_test_data=omcDataSet[omcDataSet['symbol']==symbol][staticFeatures]\n",
    "omc_test_true=omcDataSet[omcDataSet['symbol']==symbol][target]\n",
    "\n",
    "omc_prediction=dnn_model.predict(omc_test_data).flatten()\n",
    "\n",
    "a = plt.axes(aspect='equal')\n",
    "plt.scatter(omc_test_true, omc_prediction)\n",
    "plt.xlabel('True future spread')\n",
    "plt.ylabel('Predicted future spread')\n",
    "lims = [0, 2]\n",
    "plt.xlim(lims)\n",
    "plt.ylim(lims)\n",
    "_ = plt.plot(lims, lims)"
   ]
  },
  {
   "cell_type": "markdown",
   "metadata": {},
   "source": [
    "with all features"
   ]
  },
  {
   "cell_type": "code",
   "execution_count": null,
   "metadata": {},
   "outputs": [],
   "source": [
    "symbol=''\n",
    "\n",
    "data=TrainingDataSet[TrainingDataSet['symbol']==symbol]\n",
    "x_train, x_test, y_train, y_test=splitData(data, allNumericalFeatures, target, 0.1, set_seed=False)\n",
    "\n",
    "normalizer = tf.keras.layers.Normalization(axis=-1)\n",
    "normalizer.adapt(np.array(x_train))\n",
    "\n",
    "\n",
    "\n",
    "dnn_model = build_and_compile_model(normalizer)\n",
    "dnn_model.summary()\n",
    "history = dnn_model.fit(\n",
    "    x_train,\n",
    "    y_train,\n",
    "    validation_split=0.2,\n",
    "    verbose=0, epochs=100)\n",
    "\n",
    "y_test_pred = dnn_model.predict(x_test).flatten()\n",
    "\n",
    "a = plt.axes(aspect='equal')\n",
    "plt.scatter(y_test, y_test_pred)\n",
    "plt.xlabel('True future spread')\n",
    "plt.ylabel('Predicted future spread')\n",
    "lims = [0, 2]\n",
    "plt.xlim(lims)\n",
    "plt.ylim(lims)\n",
    "_ = plt.plot(lims, lims)"
   ]
  },
  {
   "cell_type": "code",
   "execution_count": null,
   "metadata": {},
   "outputs": [],
   "source": [
    "omc_test_data=omcDataSet[omcDataSet['symbol']==symbol][allNumericalFeatures]\n",
    "omc_test_true=omcDataSet[omcDataSet['symbol']==symbol][target]\n",
    "\n",
    "omc_prediction=dnn_model.predict(omc_test_data).flatten()\n",
    "\n",
    "a = plt.axes(aspect='equal')\n",
    "plt.scatter(omc_test_true, omc_prediction)\n",
    "plt.xlabel('True future spread')\n",
    "plt.ylabel('Predicted future spread')\n",
    "lims = [0, 2]\n",
    "plt.xlim(lims)\n",
    "plt.ylim(lims)\n",
    "_ = plt.plot(lims, lims)"
   ]
  }
 ],
 "metadata": {
  "kernelspec": {
   "display_name": "Python 3",
   "language": "python",
   "name": "python3"
  },
  "language_info": {
   "codemirror_mode": {
    "name": "ipython",
    "version": 3
   },
   "file_extension": ".py",
   "mimetype": "text/x-python",
   "name": "python",
   "nbconvert_exporter": "python",
   "pygments_lexer": "ipython3",
   "version": "3.7.6"
  }
 },
 "nbformat": 4,
 "nbformat_minor": 4
}
